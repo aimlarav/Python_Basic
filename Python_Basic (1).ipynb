{
 "cells": [
  {
   "cell_type": "markdown",
   "id": "b2a6b370-7c27-4eb6-b5f9-663df23b0018",
   "metadata": {},
   "source": [
    "## Datatype"
   ]
  },
  {
   "cell_type": "markdown",
   "id": "d6634631-9cab-4a57-89bb-d520ca974687",
   "metadata": {},
   "source": [
    "#### defines the form of storage"
   ]
  },
  {
   "cell_type": "code",
   "execution_count": 3,
   "id": "a53b4046-4d3a-43a5-ba4b-5896bd819949",
   "metadata": {},
   "outputs": [
    {
     "name": "stdout",
     "output_type": "stream",
     "text": [
      "12\n",
      "<class 'int'>\n",
      "12.34\n",
      "<class 'float'>\n",
      "Python\n",
      "<class 'str'>\n",
      "False\n",
      "<class 'bool'>\n",
      "(12+7j)\n",
      "<class 'complex'>\n"
     ]
    }
   ],
   "source": [
    "a = 12\n",
    "print(a)\n",
    "print(type(a))\n",
    "\n",
    "b = 12.34\n",
    "print(b)\n",
    "print(type(b))\n",
    "\n",
    "c = \"Python\"\n",
    "print(c)\n",
    "print(type(c))\n",
    "\n",
    "d = False\n",
    "print(d)\n",
    "print(type(d))\n",
    "\n",
    "e = 12+7j\n",
    "print(e)\n",
    "print(type(e))"
   ]
  },
  {
   "cell_type": "markdown",
   "id": "5edbe9c3-8cdf-4375-96ca-bffe91d1f433",
   "metadata": {},
   "source": [
    "## Operators"
   ]
  },
  {
   "cell_type": "markdown",
   "id": "c5a7c798-5716-4ce2-9242-04cd15219116",
   "metadata": {},
   "source": [
    "### Symbols used to perform sort of operations"
   ]
  },
  {
   "cell_type": "markdown",
   "id": "4dde3a13-f1fb-42ad-9af0-7157e4cd3619",
   "metadata": {},
   "source": [
    "## Arithmetic Operator"
   ]
  },
  {
   "cell_type": "code",
   "execution_count": 7,
   "id": "6ccca137-07ea-41fe-9bfc-537439ad7710",
   "metadata": {},
   "outputs": [
    {
     "name": "stdout",
     "output_type": "stream",
     "text": [
      "addition 15\n",
      "subtraction 11\n",
      "multiplaction 26\n",
      "division 6.5\n",
      "remainder 1\n",
      "exponent 8192\n",
      "floor division 6\n"
     ]
    }
   ],
   "source": [
    "num1 = 13\n",
    "num2 = 2\n",
    "print(\"addition\", num1+num2)\n",
    "print('subtraction',num1-num2)\n",
    "print('multiplaction',num1*num2)\n",
    "print('division',num1/num2)\n",
    "print('remainder',num1%num2)\n",
    "print('exponent',num2**num1)\n",
    "print('floor division',num1//num2)"
   ]
  },
  {
   "cell_type": "markdown",
   "id": "eb5b3ae1-04a2-4d9b-983d-77f075a40a14",
   "metadata": {},
   "source": [
    "## Comparision Operator"
   ]
  },
  {
   "cell_type": "code",
   "execution_count": 9,
   "id": "37ffd8db-6eab-4a24-ae27-09d13d7f2062",
   "metadata": {},
   "outputs": [
    {
     "name": "stdout",
     "output_type": "stream",
     "text": [
      "Equal : True\n",
      "Not Equal : False\n",
      "Greater : False\n",
      "Lesser : False\n",
      "Grate or equal : True\n",
      "Lesser or equal : True\n"
     ]
    }
   ],
   "source": [
    "a = 34\n",
    "b = 34\n",
    "print('Equal :',a==b)\n",
    "print('Not Equal :', a!=b)\n",
    "print(\"Greater :\",a>b)\n",
    "print(\"Lesser :\",a<b)\n",
    "print(\"Grate or equal :\",a>=b)\n",
    "print(\"Lesser or equal :\",a<=b)"
   ]
  },
  {
   "cell_type": "code",
   "execution_count": 10,
   "id": "e7939fff-0f45-446f-b450-53d5d10e3d68",
   "metadata": {},
   "outputs": [
    {
     "name": "stdout",
     "output_type": "stream",
     "text": [
      "student name is Anjali age is 34 location is Maharashtra\n",
      "student name is Anjali age is 34 location is Maharashtra\n"
     ]
    }
   ],
   "source": [
    "name = \"Anjali\"\n",
    "age = 34\n",
    "location = \"Maharashtra\"\n",
    "print(\"student name is\",name, \"age is\",age, \"location is\",location)\n",
    "print(f\"student name is {name} age is {age} location is {location}\")"
   ]
  },
  {
   "cell_type": "markdown",
   "id": "6d0f8633-42d7-4581-b266-23d33e790f8b",
   "metadata": {},
   "source": [
    "## Logical Operator"
   ]
  },
  {
   "cell_type": "code",
   "execution_count": 12,
   "id": "d1f849f5-1b4b-444d-8837-c3d505d91951",
   "metadata": {},
   "outputs": [
    {
     "name": "stdout",
     "output_type": "stream",
     "text": [
      "AND\n",
      "False\n",
      "OR\n",
      "True\n",
      "NOT\n",
      "True\n",
      "True\n"
     ]
    }
   ],
   "source": [
    "cond1=False\n",
    "cond2=False\n",
    "cond3=True\n",
    "print('AND')\n",
    "print(cond1 and cond2 and cond3)\n",
    "\n",
    "print('OR')\n",
    "print(cond1 or cond2 or cond3)\n",
    "\n",
    "print('NOT')\n",
    "print(not cond2)\n",
    "print(not(cond1 and cond2 and cond3))"
   ]
  },
  {
   "cell_type": "markdown",
   "id": "9e0a60c8-a1b9-4dc1-b83a-d8755adcf5ae",
   "metadata": {},
   "source": [
    "## Assignment Operator"
   ]
  },
  {
   "cell_type": "code",
   "execution_count": 14,
   "id": "353cc6f8-4d34-4ba2-9f30-122dc3cb3add",
   "metadata": {},
   "outputs": [
    {
     "name": "stdout",
     "output_type": "stream",
     "text": [
      "14\n"
     ]
    }
   ],
   "source": [
    "a = 12\n",
    "b = 2\n",
    "a = a+b\n",
    "print(a)"
   ]
  },
  {
   "cell_type": "code",
   "execution_count": 15,
   "id": "b66124be-c918-4bbe-8ba9-554c1611e615",
   "metadata": {},
   "outputs": [
    {
     "name": "stdout",
     "output_type": "stream",
     "text": [
      "18\n"
     ]
    }
   ],
   "source": [
    "a=12\n",
    "b=2\n",
    "a+=6\n",
    "print(a)"
   ]
  },
  {
   "cell_type": "code",
   "execution_count": 16,
   "id": "72e45698-0312-46a2-a4d0-22b817eea0ad",
   "metadata": {},
   "outputs": [
    {
     "name": "stdout",
     "output_type": "stream",
     "text": [
      "14\n"
     ]
    }
   ],
   "source": [
    "a=12\n",
    "b=2\n",
    "a+=b\n",
    "print(a)"
   ]
  },
  {
   "cell_type": "markdown",
   "id": "ddf2e49e-6ca1-4fc3-8896-d66fc1299aca",
   "metadata": {},
   "source": [
    "## Membership Operator"
   ]
  },
  {
   "cell_type": "markdown",
   "id": "9a8e7b83-a824-49c3-a1e6-89f4c935fb8b",
   "metadata": {},
   "source": [
    "#### in: the element must be present"
   ]
  },
  {
   "cell_type": "markdown",
   "id": "59966436-7c99-4750-bd76-91efef59aec5",
   "metadata": {},
   "source": [
    "#### not in : the element should not be present"
   ]
  },
  {
   "cell_type": "code",
   "execution_count": 20,
   "id": "ff5b53d8-8cae-45da-9349-bc6a513b21fa",
   "metadata": {},
   "outputs": [
    {
     "name": "stdout",
     "output_type": "stream",
     "text": [
      "False\n",
      "True\n",
      "False\n"
     ]
    }
   ],
   "source": [
    "data = \"water\"\n",
    "print(\"o\" in data)\n",
    "\n",
    "print(\"o\" not in data)\n",
    "print(\"A\" in data)"
   ]
  },
  {
   "cell_type": "markdown",
   "id": "d3b1657c-667b-461e-976a-4f4dd0ff78a5",
   "metadata": {},
   "source": [
    "## Identity Operator"
   ]
  },
  {
   "cell_type": "markdown",
   "id": "9f1d727c-9ad5-4579-a60c-0f4783cc0299",
   "metadata": {},
   "source": [
    "#### is : same value"
   ]
  },
  {
   "cell_type": "markdown",
   "id": "8f0443a9-f077-45dc-a299-416780988d1a",
   "metadata": {},
   "source": [
    "#### is not : not same value"
   ]
  },
  {
   "cell_type": "code",
   "execution_count": 24,
   "id": "9b39a428-e4ea-4edf-9d6c-0f0b65db5008",
   "metadata": {},
   "outputs": [
    {
     "name": "stdout",
     "output_type": "stream",
     "text": [
      "True\n",
      "True\n",
      "True\n"
     ]
    }
   ],
   "source": [
    "a = 34\n",
    "b = 34\n",
    "c = 56\n",
    "d = c\n",
    "print(a is b)\n",
    "print(a is not c)\n",
    "print(c is d)"
   ]
  },
  {
   "cell_type": "markdown",
   "id": "650eb052-6e59-431c-a320-1d7190ebce18",
   "metadata": {},
   "source": [
    "## Conditional Statement"
   ]
  },
  {
   "cell_type": "markdown",
   "id": "98a5c654-3acd-491a-9f54-36dadce3b0df",
   "metadata": {},
   "source": [
    "#### if"
   ]
  },
  {
   "cell_type": "markdown",
   "id": "4bd1c8d4-6b91-4408-89e0-c0b874d2f085",
   "metadata": {},
   "source": [
    "#### take the input from user at run time of your code : input()"
   ]
  },
  {
   "cell_type": "code",
   "execution_count": 28,
   "id": "812eda82-5585-4ebd-bac9-a1596c8ff7b3",
   "metadata": {},
   "outputs": [
    {
     "name": "stdin",
     "output_type": "stream",
     "text": [
      "Enter a value 5\n",
      "Enter a value 6\n"
     ]
    },
    {
     "name": "stdout",
     "output_type": "stream",
     "text": [
      "<class 'int'>   <class 'int'>\n",
      "11\n"
     ]
    }
   ],
   "source": [
    "a = int(input(\"Enter a value\"))\n",
    "b = int(input(\"Enter a value\"))\n",
    "print(type(a),\" \",type(b))\n",
    "print(a+b)"
   ]
  },
  {
   "cell_type": "markdown",
   "id": "86d8026b-9a61-4d61-9067-857f90e38f0f",
   "metadata": {},
   "source": [
    "## if"
   ]
  },
  {
   "cell_type": "markdown",
   "id": "2128c35b-e06a-4db6-823b-2e2fd8cdb1e8",
   "metadata": {},
   "source": [
    "#### wheather the number is positive or negstive"
   ]
  },
  {
   "cell_type": "code",
   "execution_count": 3,
   "id": "425be874-42cf-429c-b9f0-5f6400b1946f",
   "metadata": {},
   "outputs": [
    {
     "name": "stdin",
     "output_type": "stream",
     "text": [
      "Enter a value 4\n"
     ]
    },
    {
     "name": "stdout",
     "output_type": "stream",
     "text": [
      "Good\n",
      "Better\n",
      "BEst\n",
      "Thank you\n"
     ]
    }
   ],
   "source": [
    "a = int(input(\"Enter a value\"))\n",
    "if a>0:\n",
    "    print(\"Good\")\n",
    "    print(\"Better\")\n",
    "    print(\"BEst\")\n",
    "print('Thank you')"
   ]
  },
  {
   "cell_type": "code",
   "execution_count": 5,
   "id": "f23c0a05-e679-4a5e-bf07-97ee6802fd95",
   "metadata": {},
   "outputs": [
    {
     "name": "stdin",
     "output_type": "stream",
     "text": [
      "Enter a value -2\n"
     ]
    },
    {
     "name": "stdout",
     "output_type": "stream",
     "text": [
      "Thank you\n"
     ]
    }
   ],
   "source": [
    "a = int(input(\"Enter a value\"))\n",
    "if a>0:\n",
    "    print(\"Positive Number\")\n",
    "print(\"Thank you\")"
   ]
  },
  {
   "cell_type": "markdown",
   "id": "61424d3d-05c0-4d69-94ec-73de1f7d93f1",
   "metadata": {},
   "source": [
    "## if....else Statement"
   ]
  },
  {
   "cell_type": "code",
   "execution_count": 34,
   "id": "e0d9a278-3491-41d8-9d78-07559ac4c5e5",
   "metadata": {},
   "outputs": [
    {
     "name": "stdin",
     "output_type": "stream",
     "text": [
      "Enter a value 4\n"
     ]
    },
    {
     "name": "stdout",
     "output_type": "stream",
     "text": [
      "Positive Number\n",
      "Thank You\n"
     ]
    }
   ],
   "source": [
    "a = int(input(\"Enter a value\"))\n",
    "if a>0:\n",
    "    print(\"Positive Number\")\n",
    "else:\n",
    "    print(\"Negative Number\")\n",
    "print(\"Thank You\")"
   ]
  },
  {
   "cell_type": "markdown",
   "id": "e7869e28-b6b7-4ba1-9647-28e80f51e5ce",
   "metadata": {},
   "source": [
    "##### WAP to check the number is even or odd"
   ]
  },
  {
   "cell_type": "code",
   "execution_count": 36,
   "id": "f0efa90f-a730-419e-b8ce-754cd6276b91",
   "metadata": {},
   "outputs": [
    {
     "name": "stdin",
     "output_type": "stream",
     "text": [
      "Enter a number 3\n"
     ]
    },
    {
     "name": "stdout",
     "output_type": "stream",
     "text": [
      "Odd Number\n",
      "Thank You\n"
     ]
    }
   ],
   "source": [
    "a = int(input(\"Enter a number\"))\n",
    "if a%2==0:\n",
    "    print(\"Even Number\")\n",
    "else:\n",
    "    print(\"Odd Number\")\n",
    "print('Thank You')"
   ]
  },
  {
   "cell_type": "markdown",
   "id": "00afe82b-636c-4a2f-b927-742e0b95615e",
   "metadata": {},
   "source": [
    "#### if...elif...else"
   ]
  },
  {
   "cell_type": "markdown",
   "id": "92272ac2-5c80-48a2-9c5a-6706e60c2c2b",
   "metadata": {},
   "source": [
    "##### if want to check multiple condition"
   ]
  },
  {
   "cell_type": "code",
   "execution_count": 39,
   "id": "d8363a1b-a837-4759-bad1-e24d526c4773",
   "metadata": {},
   "outputs": [
    {
     "name": "stdin",
     "output_type": "stream",
     "text": [
      "Enter a value 10,20,30  7\n"
     ]
    },
    {
     "name": "stdout",
     "output_type": "stream",
     "text": [
      "Invalid Number\n"
     ]
    }
   ],
   "source": [
    "num = int(input(\"Enter a value 10,20,30 \"))\n",
    "if num==10:\n",
    "    print(\"Ten\")\n",
    "elif num==20:\n",
    "    print(\"Twenty\")\n",
    "elif num==30:\n",
    "    print(\"Thirty\")\n",
    "else:\n",
    "    print('Invalid Number')"
   ]
  },
  {
   "cell_type": "code",
   "execution_count": 14,
   "id": "4db5d6bb-048c-4352-bf02-a696fc94d1c2",
   "metadata": {},
   "outputs": [
    {
     "name": "stdin",
     "output_type": "stream",
     "text": [
      "Enter a number =  40\n"
     ]
    },
    {
     "name": "stdout",
     "output_type": "stream",
     "text": [
      "Fourty\n"
     ]
    }
   ],
   "source": [
    "num = int(input(\"Enter a number = \"))\n",
    "if num==10:\n",
    "    print(\"Ten\")\n",
    "elif num==20:\n",
    "    print(\"Twenty\")\n",
    "elif num==30:\n",
    "    print(\"Thirty\")\n",
    "elif num==40:\n",
    "    print(\"Fourty\")\n",
    "else:\n",
    "    print(\"Invalid Number\")"
   ]
  },
  {
   "cell_type": "markdown",
   "id": "90a5d9cb-cb6d-4db7-8e49-141b6d0544a9",
   "metadata": {},
   "source": [
    "###### accept the city name from user and print the monumnent"
   ]
  },
  {
   "cell_type": "markdown",
   "id": "893e499d-81a9-4834-ad78-f98e55e9e073",
   "metadata": {},
   "source": [
    "##### agra = tajmahal, delhi = red fort, mumbai = gateway of india"
   ]
  },
  {
   "cell_type": "code",
   "execution_count": 16,
   "id": "0f4e036e-a0a5-4b7b-aa8e-c882708ec19a",
   "metadata": {},
   "outputs": [
    {
     "name": "stdin",
     "output_type": "stream",
     "text": [
      "Enter a city agra,delhi,mumbai delhi\n"
     ]
    },
    {
     "name": "stdout",
     "output_type": "stream",
     "text": [
      "red fort\n"
     ]
    }
   ],
   "source": [
    "city = input(\"Enter a city agra,delhi,mumbai\")\n",
    "if city=='agra':\n",
    "    print('Tajmahal')\n",
    "elif city=='delhi':\n",
    "    print('red fort')\n",
    "elif city=='mumbai':\n",
    "    print('gateway of india')\n",
    "else:\n",
    "    print('no city')"
   ]
  },
  {
   "cell_type": "code",
   "execution_count": 43,
   "id": "22668bad-5bdb-4623-a3ba-c2f3d91c5beb",
   "metadata": {},
   "outputs": [
    {
     "name": "stdin",
     "output_type": "stream",
     "text": [
      "enter city:  2\n"
     ]
    },
    {
     "name": "stdout",
     "output_type": "stream",
     "text": [
      "no city\n"
     ]
    }
   ],
   "source": [
    "city = input('enter city: ')\n",
    "if city== 'agra':\n",
    "    print('Tahmahal')\n",
    "elif city=='delhi':\n",
    "    print('red fort')\n",
    "elif city=='mumbai':\n",
    "    print(\"gateway of india\")\n",
    "else:\n",
    "    print('no city')"
   ]
  },
  {
   "cell_type": "markdown",
   "id": "43949f04-c004-484c-976e-1ef382ef52d0",
   "metadata": {},
   "source": [
    "##### WAP to find the largest number from the user enter three value using if elif statement"
   ]
  },
  {
   "cell_type": "code",
   "execution_count": 24,
   "id": "67b3185e-e73a-44cf-83f3-6051f90096ce",
   "metadata": {},
   "outputs": [
    {
     "name": "stdin",
     "output_type": "stream",
     "text": [
      "Enter a Value 6\n",
      "Enter a Value 5\n",
      "Enter a Value 3\n"
     ]
    },
    {
     "name": "stdout",
     "output_type": "stream",
     "text": [
      "Greater value  6\n"
     ]
    }
   ],
   "source": [
    "num1 = int(input(\"Enter a Value\"))\n",
    "num2 = int(input(\"Enter a Value\"))\n",
    "num3 = int(input(\"Enter a Value\"))\n",
    "if num1>num2 and num1>num3:\n",
    "    print(\"Greater value \", num1)\n",
    "elif num2>num1 and num2>num3:\n",
    "    \n",
    "    print(\"Greater value\",num2)\n",
    "else:\n",
    "    print('Greater value',num3)\n"
   ]
  },
  {
   "cell_type": "code",
   "execution_count": 22,
   "id": "4a31e258-4591-4a97-a5ee-3b0130cd56dc",
   "metadata": {},
   "outputs": [
    {
     "name": "stdin",
     "output_type": "stream",
     "text": [
      "Enter a value 2\n",
      "Enter a value 4\n",
      "Enter a value 6\n"
     ]
    },
    {
     "name": "stdout",
     "output_type": "stream",
     "text": [
      "Greater valur 6\n"
     ]
    }
   ],
   "source": [
    "num1 = int(input(\"Enter a value\"))\n",
    "num2 = int(input(\"Enter a value\"))\n",
    "num3 = int(input(\"Enter a value\"))\n",
    "if num1>num2 and num>num3:\n",
    "    print(\"Greater value\", num1)\n",
    "elif num2>num1 and num2>num3:\n",
    "    print(\"Greater value\",num2)\n",
    "elif num3>num1 and num3>num2:\n",
    "    print(\"Greater valur\",num3)\n"
   ]
  },
  {
   "cell_type": "markdown",
   "id": "eb755a52-1a7e-4e74-8954-a8b12ef529e4",
   "metadata": {},
   "source": [
    "### nested if"
   ]
  },
  {
   "cell_type": "code",
   "execution_count": 28,
   "id": "e36144b9-c374-4cb2-a9d0-d93735a2ec5b",
   "metadata": {},
   "outputs": [
    {
     "name": "stdin",
     "output_type": "stream",
     "text": [
      "Enter a value 1000\n"
     ]
    },
    {
     "name": "stdout",
     "output_type": "stream",
     "text": [
      "Enter value is greater than 500\n",
      "Check for the number is 600,650,700\n",
      "Unknown\n"
     ]
    }
   ],
   "source": [
    "num= int(input(\"Enter a value\"))\n",
    "if num>500:\n",
    "    print(\"Enter value is greater than 500\")\n",
    "    print(\"Check for the number is 600,650,700\")\n",
    "    if num==600:\n",
    "        print(\"Number is 600\")\n",
    "    elif num==650:\n",
    "        print(\"Number is 650\")\n",
    "    elif num==700:\n",
    "        print(\"Number is 700\")\n",
    "    else:\n",
    "        print('Unknown')\n",
    "else:\n",
    "    print(\"Entered value is not greater tha 500\")\n",
    "    "
   ]
  },
  {
   "cell_type": "markdown",
   "id": "5b72fa0a-60e1-48c4-abae-bf898c4e1a71",
   "metadata": {},
   "source": [
    "#### WAP user enter a number identify wheather it is a positive, negative, zero"
   ]
  },
  {
   "cell_type": "code",
   "execution_count": 49,
   "id": "de324a18-4399-4ca8-94a0-ad74ff7f071b",
   "metadata": {},
   "outputs": [
    {
     "name": "stdin",
     "output_type": "stream",
     "text": [
      "Enter an integer 6\n"
     ]
    },
    {
     "name": "stdout",
     "output_type": "stream",
     "text": [
      "6 is Positive number\n"
     ]
    }
   ],
   "source": [
    "a = int(input(\"Enter an integer\"))\n",
    "if a>=0:\n",
    "    if a==0:\n",
    "        print('you have entered',a,\"value\")\n",
    "    else:\n",
    "        print(a,\"is Positive number\")\n",
    "else:\n",
    "    print('Negative value',a)"
   ]
  },
  {
   "cell_type": "code",
   "execution_count": 50,
   "id": "7bf18f10-6f7c-4e2e-bd6f-7aaf8284f005",
   "metadata": {},
   "outputs": [
    {
     "name": "stdin",
     "output_type": "stream",
     "text": [
      "Enter a number 8\n"
     ]
    },
    {
     "name": "stdout",
     "output_type": "stream",
     "text": [
      "Divisible by 2\n",
      "not\n"
     ]
    }
   ],
   "source": [
    "a = int(input('Enter a number'))\n",
    "if a%2==0:\n",
    "    print(\"Divisible by 2\")\n",
    "    if a%3==0:\n",
    "        print(\"Divisible by 3\")\n",
    "    else:\n",
    "        print('not')\n",
    "else:\n",
    "    print('no number')"
   ]
  },
  {
   "cell_type": "markdown",
   "id": "f14a5a2e-59d5-4e81-925c-e5defa42f566",
   "metadata": {},
   "source": [
    "take a input from the user number\n",
    "1. divisible by 2 only 16\n",
    "2. divisible by 3 only 15\n",
    "3. divisible by 2 and 3 only 18\n",
    "4. not divisible by 2 and 3 only 19"
   ]
  },
  {
   "cell_type": "code",
   "execution_count": 52,
   "id": "f6d60295-d6d3-4783-9253-b794ab85477b",
   "metadata": {},
   "outputs": [
    {
     "name": "stdin",
     "output_type": "stream",
     "text": [
      "Enter an integer 54\n"
     ]
    },
    {
     "name": "stdout",
     "output_type": "stream",
     "text": [
      "divisible by 2 and 3\n"
     ]
    }
   ],
   "source": [
    "a = int(input(\"Enter an integer\"))\n",
    "if a%2==0:\n",
    "    if a%3==0:\n",
    "        print(\"divisible by 2 and 3\")\n",
    "    else:\n",
    "        print(\"divisible by 2 only\")\n",
    "else:\n",
    "    if a%3==0:\n",
    "        print(\"divisible by 3 only\")\n",
    "    else:\n",
    "        print(\"not divisible by 2 and 3\")\n",
    "    "
   ]
  },
  {
   "cell_type": "code",
   "execution_count": 53,
   "id": "f70a1419-cc01-4847-9a14-5ed8d97f487b",
   "metadata": {},
   "outputs": [
    {
     "name": "stdin",
     "output_type": "stream",
     "text": [
      "Enter a number 4\n"
     ]
    },
    {
     "name": "stdout",
     "output_type": "stream",
     "text": [
      "4 Divisible by 2\n"
     ]
    }
   ],
   "source": [
    "a = int(input(\"Enter a number\"))\n",
    "if a%2==0:\n",
    "    print(a,\"Divisible by 2\")\n",
    "elif a%3==0:\n",
    "    print(a,\"Divisible by 3\")\n",
    "elif a%2==0 and a%3==0:\n",
    "    print(a, \"is divisible bu 2 and 3\")\n",
    "else:\n",
    "    print(a,\"is not divisible by 2 and 3\")"
   ]
  },
  {
   "cell_type": "raw",
   "id": "127a4d58-bb05-4605-8266-2f330c943af7",
   "metadata": {},
   "source": [
    "number is positive and even\n",
    "number is positive and odd\n",
    "nuber is negative"
   ]
  },
  {
   "cell_type": "code",
   "execution_count": 54,
   "id": "905863be-fb18-4ffd-9a5b-93769166895d",
   "metadata": {},
   "outputs": [
    {
     "name": "stdin",
     "output_type": "stream",
     "text": [
      "Enter a number 3\n"
     ]
    },
    {
     "name": "stdout",
     "output_type": "stream",
     "text": [
      "3 number is positive and odd\n"
     ]
    }
   ],
   "source": [
    "a = int(input(\"Enter a number\"))\n",
    "if a>=0:\n",
    "    if a%2==0:\n",
    "        print(a,'number is positive and even')\n",
    "    else:\n",
    "        print(a,\"number is positive and odd\")\n",
    "else:\n",
    "    print(\"number is negative\")"
   ]
  },
  {
   "cell_type": "markdown",
   "id": "78ff8888-49d0-4395-b3d6-202319956698",
   "metadata": {},
   "source": [
    "## Looping statement"
   ]
  },
  {
   "cell_type": "markdown",
   "id": "43490f62-cb1f-4eef-8752-37dbb6dde958",
   "metadata": {},
   "source": [
    "### while loop"
   ]
  },
  {
   "cell_type": "markdown",
   "id": "0d768aaa-54b7-4721-b590-49895f46c93e",
   "metadata": {},
   "source": [
    "#### to execute a particular block to n number of times"
   ]
  },
  {
   "cell_type": "markdown",
   "id": "3265cd48-b159-4d79-b366-55ed27c1163d",
   "metadata": {},
   "source": [
    "wap to print 1 till 10"
   ]
  },
  {
   "cell_type": "code",
   "execution_count": 59,
   "id": "aff3d8de-415f-4724-bdc6-812b69a85ecd",
   "metadata": {},
   "outputs": [
    {
     "name": "stdout",
     "output_type": "stream",
     "text": [
      "1\n",
      "2\n",
      "3\n",
      "4\n",
      "5\n",
      "6\n",
      "7\n",
      "8\n",
      "9\n",
      "10\n",
      "Thank you\n"
     ]
    }
   ],
   "source": [
    "i = 1\n",
    "while i<=10:\n",
    "    print(i)\n",
    "    i= i+1\n",
    "print(\"Thank you\")"
   ]
  },
  {
   "cell_type": "code",
   "execution_count": 60,
   "id": "1913d4dd-a6f7-469e-a351-a2cf74afd404",
   "metadata": {},
   "outputs": [
    {
     "name": "stdout",
     "output_type": "stream",
     "text": [
      "10\n",
      "9\n",
      "8\n",
      "7\n",
      "6\n",
      "5\n",
      "4\n",
      "3\n",
      "2\n",
      "1\n",
      "Thank you\n"
     ]
    }
   ],
   "source": [
    "i = 10\n",
    "while i>0:\n",
    "    print(i)\n",
    "    i-=1\n",
    "print(\"Thank you\")"
   ]
  },
  {
   "cell_type": "code",
   "execution_count": 61,
   "id": "f3fd8df2-1961-4d14-83ca-9dd560f5d1dd",
   "metadata": {},
   "outputs": [
    {
     "name": "stdout",
     "output_type": "stream",
     "text": [
      "2\n",
      "4\n",
      "6\n",
      "8\n",
      "10\n",
      "Thank you\n"
     ]
    }
   ],
   "source": [
    "i = 2\n",
    "while i<=10:\n",
    "    print(i)\n",
    "    i = i+2\n",
    "print(\"Thank you\") "
   ]
  },
  {
   "cell_type": "code",
   "execution_count": 62,
   "id": "15690309-c008-4751-9a48-14c11d66512f",
   "metadata": {},
   "outputs": [
    {
     "name": "stdout",
     "output_type": "stream",
     "text": [
      "10\n",
      "9\n",
      "8\n",
      "7\n",
      "6\n",
      "5\n",
      "4\n",
      "3\n",
      "2\n",
      "1\n"
     ]
    }
   ],
   "source": [
    "i = 10\n",
    "while i>0:\n",
    "    print(i)\n",
    "    i-=1"
   ]
  },
  {
   "cell_type": "code",
   "execution_count": 63,
   "id": "0f198d4a-328f-4187-9d25-411ac0ac6cc6",
   "metadata": {},
   "outputs": [
    {
     "name": "stdout",
     "output_type": "stream",
     "text": [
      "10\n",
      "9\n",
      "8\n",
      "7\n",
      "6\n",
      "5\n",
      "4\n",
      "3\n",
      "2\n",
      "1\n",
      "Thank you\n"
     ]
    }
   ],
   "source": [
    "i = 10\n",
    "while i>0:\n",
    "    print(i)\n",
    "    i=i-1\n",
    "print(\"Thank you\")"
   ]
  },
  {
   "cell_type": "raw",
   "id": "a9a332ba-cea8-4872-84df-9629cc3dac07",
   "metadata": {},
   "source": [
    "WAP take from user and print the table\n",
    "2 * 1 = 2\n",
    "2 * 2 = 4"
   ]
  },
  {
   "cell_type": "code",
   "execution_count": 64,
   "id": "dcb7d5e5-c46b-4541-81c4-e0948b3e9185",
   "metadata": {},
   "outputs": [
    {
     "name": "stdin",
     "output_type": "stream",
     "text": [
      "Enter a number for print the table = 3\n"
     ]
    },
    {
     "name": "stdout",
     "output_type": "stream",
     "text": [
      "3 * 1 = 3\n",
      "3 * 2 = 6\n",
      "3 * 3 = 9\n",
      "3 * 4 = 12\n",
      "3 * 5 = 15\n",
      "3 * 6 = 18\n",
      "3 * 7 = 21\n",
      "3 * 8 = 24\n",
      "3 * 9 = 27\n",
      "3 * 10 = 30\n",
      "Thank You\n"
     ]
    }
   ],
   "source": [
    "a = int(input(\"Enter a number for print the table =\"))\n",
    "i = 1\n",
    "while i<=10:\n",
    "    print(f\"{a} * {i} = {a * i}\")\n",
    "    i+=1\n",
    "print('Thank You')"
   ]
  },
  {
   "cell_type": "code",
   "execution_count": 65,
   "id": "6d49e0bb-d167-496d-a405-d2879caaea4b",
   "metadata": {},
   "outputs": [
    {
     "name": "stdin",
     "output_type": "stream",
     "text": [
      "Enter a number = 4\n"
     ]
    },
    {
     "name": "stdout",
     "output_type": "stream",
     "text": [
      "4 * 1 = 4\n",
      "4 * 2 = 8\n",
      "4 * 3 = 12\n",
      "4 * 4 = 16\n",
      "4 * 5 = 20\n",
      "4 * 6 = 24\n",
      "4 * 7 = 28\n",
      "4 * 8 = 32\n",
      "4 * 9 = 36\n",
      "4 * 10 = 40\n",
      "Thank You\n"
     ]
    }
   ],
   "source": [
    "a = int(input(\"Enter a number =\"))\n",
    "i = 1\n",
    "while i<=10:\n",
    "    print(f\"{a} * {i} = {a*i}\")\n",
    "    i = i+1\n",
    "\n",
    "print(\"Thank You\")"
   ]
  },
  {
   "cell_type": "code",
   "execution_count": 66,
   "id": "b261465e-74d2-42b3-b7e1-30ea6ed75f94",
   "metadata": {},
   "outputs": [
    {
     "name": "stdin",
     "output_type": "stream",
     "text": [
      "Enter a number =  4\n"
     ]
    },
    {
     "name": "stdout",
     "output_type": "stream",
     "text": [
      "4 * 1 = 4\n",
      "4 * 2 = 8\n",
      "4 * 3 = 12\n",
      "4 * 4 = 16\n",
      "4 * 5 = 20\n",
      "4 * 6 = 24\n",
      "4 * 7 = 28\n",
      "4 * 8 = 32\n",
      "4 * 9 = 36\n",
      "4 * 10 = 40\n",
      "Thank you\n"
     ]
    }
   ],
   "source": [
    "a = int(input('Enter a number = '))\n",
    "i = 1\n",
    "while i<=10:\n",
    "    print(f\"{a} * {i} = {a*i}\")\n",
    "    i = i+1\n",
    "print(\"Thank you\")    "
   ]
  },
  {
   "cell_type": "code",
   "execution_count": 67,
   "id": "cdd4d56e-6692-477a-9d5b-4dfb4ec8baf5",
   "metadata": {},
   "outputs": [
    {
     "name": "stdin",
     "output_type": "stream",
     "text": [
      "Enter a number for print the table 5\n",
      "Enter a number for start the table 5\n",
      "Enter a number for end the table 5\n"
     ]
    },
    {
     "name": "stdout",
     "output_type": "stream",
     "text": [
      "5 *5 = 25\n",
      "5 *6 = 30\n",
      "5 *7 = 35\n",
      "5 *8 = 40\n",
      "5 *9 = 45\n",
      "5 *10 = 50\n"
     ]
    }
   ],
   "source": [
    "a = int(input(\"Enter a number for print the table\"))\n",
    "i = int(input(\"Enter a number for start the table\"))\n",
    "j = int(input(\"Enter a number for end the table\"))\n",
    "while i<=10:\n",
    "    print(f\"{a} *{i} = {a * i}\")\n",
    "    i = i+1\n",
    "    "
   ]
  },
  {
   "cell_type": "markdown",
   "id": "9869304f-c046-45b8-b529-a5f5ca1e5310",
   "metadata": {},
   "source": [
    "## for loop"
   ]
  },
  {
   "cell_type": "markdown",
   "id": "9d500426-8832-4f66-8bef-78b82504d464",
   "metadata": {},
   "source": [
    "##### for lopp is used to iterate over a string, list,tuple"
   ]
  },
  {
   "cell_type": "code",
   "execution_count": 70,
   "id": "5de143f8-5fbe-413e-8572-20f929ca4ee6",
   "metadata": {},
   "outputs": [
    {
     "name": "stdout",
     "output_type": "stream",
     "text": [
      "p\n",
      "y\n",
      "t\n",
      "h\n",
      "o\n",
      "n\n",
      " \n",
      "w\n",
      "i\n",
      "t\n",
      "h\n",
      " \n",
      "e\n",
      "x\n",
      "c\n",
      "e\n",
      "l\n",
      "r\n"
     ]
    }
   ],
   "source": [
    "data = \"python with excelr\"\n",
    "for x in data:\n",
    "    print(x)"
   ]
  },
  {
   "cell_type": "code",
   "execution_count": 71,
   "id": "c9aad70e-645b-4f50-a970-228fe7845ef4",
   "metadata": {},
   "outputs": [
    {
     "name": "stdout",
     "output_type": "stream",
     "text": [
      "python with excelr"
     ]
    }
   ],
   "source": [
    "data = \"python with excelr\"\n",
    "for x in data:\n",
    "    print(x,end=\"\")"
   ]
  },
  {
   "cell_type": "code",
   "execution_count": 72,
   "id": "cdcb16b7-d9f4-4a37-8093-edf7081b46a0",
   "metadata": {},
   "outputs": [
    {
     "name": "stdout",
     "output_type": "stream",
     "text": [
      "0\n",
      "1\n",
      "2\n",
      "3\n",
      "4\n",
      "5\n",
      "6\n",
      "7\n",
      "8\n"
     ]
    }
   ],
   "source": [
    "for i in range(9):\n",
    "    print(i)"
   ]
  },
  {
   "cell_type": "code",
   "execution_count": 73,
   "id": "00baf6fe-3d41-408e-b194-6b1213bc7248",
   "metadata": {},
   "outputs": [
    {
     "name": "stdout",
     "output_type": "stream",
     "text": [
      "5\n",
      "6\n",
      "7\n",
      "8\n",
      "9\n"
     ]
    }
   ],
   "source": [
    "for  x in range(5,10):\n",
    "    print(x)"
   ]
  },
  {
   "cell_type": "code",
   "execution_count": 74,
   "id": "0289a4f3-1293-448d-aef9-9e5c18080d89",
   "metadata": {},
   "outputs": [
    {
     "name": "stdout",
     "output_type": "stream",
     "text": [
      "2\n",
      "4\n",
      "6\n",
      "8\n",
      "10\n",
      "12\n",
      "14\n",
      "16\n",
      "18\n",
      "20\n"
     ]
    }
   ],
   "source": [
    "for i in range(2,22,2):\n",
    "    print(i)"
   ]
  },
  {
   "cell_type": "raw",
   "id": "fc6b9cef-eb23-459b-95df-2623cb6b5d9e",
   "metadata": {},
   "source": [
    "take start value  and end value from user\n",
    "summation:even\n",
    "summation:odd"
   ]
  },
  {
   "cell_type": "code",
   "execution_count": 75,
   "id": "ceb8bfd0-150b-4df8-91a1-98c6733051ba",
   "metadata": {},
   "outputs": [
    {
     "name": "stdin",
     "output_type": "stream",
     "text": [
      "Enter the start point 4\n",
      "Enter the end number 4\n"
     ]
    },
    {
     "name": "stdout",
     "output_type": "stream",
     "text": [
      "e_sum 4\n",
      "o_sum 0\n"
     ]
    }
   ],
   "source": [
    "start =int(input(\"Enter the start point\"))\n",
    "end = int(input(\"Enter the end number\"))\n",
    "e_sum=o_sum=0\n",
    "for i in range(start,end+1):\n",
    "    if i%2==0:\n",
    "        e_sum+=i\n",
    "    else:\n",
    "        o_sum+=i\n",
    "print(\"e_sum\",e_sum)\n",
    "print(\"o_sum\",o_sum)\n"
   ]
  },
  {
   "cell_type": "raw",
   "id": "22dbc1f1-37f8-400d-b427-d7ae7b5d7305",
   "metadata": {},
   "source": [
    "to calculate the sum of natural number\n",
    "enter a value : 5\n",
    "1+2+3+4+5"
   ]
  },
  {
   "cell_type": "code",
   "execution_count": 76,
   "id": "4aa700b6-901a-4b72-9cba-06d3e02cd30a",
   "metadata": {},
   "outputs": [
    {
     "name": "stdin",
     "output_type": "stream",
     "text": [
      "Enter a value= 3\n"
     ]
    },
    {
     "name": "stdout",
     "output_type": "stream",
     "text": [
      "Total of natural number 6\n"
     ]
    }
   ],
   "source": [
    "num = int(input(\"Enter a value=\"))\n",
    "num1 = 0\n",
    "for x in range(1,num+1):\n",
    "    num1+=x\n",
    "print(\"Total of natural number\",num1)"
   ]
  },
  {
   "cell_type": "code",
   "execution_count": 77,
   "id": "0bbb88b2-df4c-4620-9ab5-a1c8ad8cfcdc",
   "metadata": {},
   "outputs": [
    {
     "name": "stdin",
     "output_type": "stream",
     "text": [
      "Enter a number 3\n"
     ]
    },
    {
     "name": "stdout",
     "output_type": "stream",
     "text": [
      "sum of natural numbers 6\n"
     ]
    }
   ],
   "source": [
    "num= int(input('Enter a number'))\n",
    "i = 1\n",
    "sum = 0\n",
    "while i<=num:\n",
    "    sum+=i\n",
    "    i+=1\n",
    "print(\"sum of natural numbers\",sum)"
   ]
  },
  {
   "cell_type": "markdown",
   "id": "7b966030-a2e2-4cf2-b989-bae204df4713",
   "metadata": {},
   "source": [
    "## Loop control statement"
   ]
  },
  {
   "cell_type": "markdown",
   "id": "e9b5d4a3-e9ff-4513-bf0b-bac55d19023a",
   "metadata": {},
   "source": [
    "### break"
   ]
  },
  {
   "cell_type": "markdown",
   "id": "8a30d374-1c1a-4a71-a51a-e47fc53ca95b",
   "metadata": {},
   "source": [
    "### continue"
   ]
  },
  {
   "cell_type": "raw",
   "id": "b2d245aa-27c2-48ba-9a00-dba35c1a602d",
   "metadata": {},
   "source": [
    "print the value from 1 to 10"
   ]
  },
  {
   "cell_type": "code",
   "execution_count": 81,
   "id": "60e8ab87-d092-403e-9e2c-1d2bbf4fc250",
   "metadata": {},
   "outputs": [
    {
     "name": "stdout",
     "output_type": "stream",
     "text": [
      "1\n",
      "2\n",
      "3\n",
      "4\n",
      "Hello\n",
      "5\n",
      "6\n",
      "7\n",
      "8\n",
      "9\n",
      "10\n"
     ]
    }
   ],
   "source": [
    "for i in range(1,11):\n",
    "    if i==5:\n",
    "        print(\"Hello\")\n",
    "    print(i)"
   ]
  },
  {
   "cell_type": "code",
   "execution_count": 82,
   "id": "b8fec870-d8e2-4520-a2cd-b2a7edc297a8",
   "metadata": {},
   "outputs": [
    {
     "name": "stdout",
     "output_type": "stream",
     "text": [
      "1\n",
      "2\n",
      "3\n",
      "4\n",
      "6\n",
      "7\n",
      "8\n",
      "9\n",
      "10\n"
     ]
    }
   ],
   "source": [
    "for i in range(1,11):\n",
    "    if i==5:\n",
    "        continue\n",
    "    print(i)"
   ]
  },
  {
   "cell_type": "code",
   "execution_count": 83,
   "id": "63a8ac23-b4f3-44cc-961f-39a7371c5bae",
   "metadata": {},
   "outputs": [
    {
     "name": "stdout",
     "output_type": "stream",
     "text": [
      "1\n",
      "2\n",
      "3\n",
      "4\n"
     ]
    }
   ],
   "source": [
    "for i in range(1,11):\n",
    "    if i==5:\n",
    "        break\n",
    "    print(i)"
   ]
  },
  {
   "cell_type": "markdown",
   "id": "1bd322e8-1630-433d-a865-57e6fbd45349",
   "metadata": {},
   "source": [
    "# String"
   ]
  },
  {
   "cell_type": "markdown",
   "id": "94aae013-e685-4bd7-a41c-bb22f205fdf5",
   "metadata": {},
   "source": [
    "#### set of character"
   ]
  },
  {
   "cell_type": "code",
   "execution_count": 93,
   "id": "e8b2d4da-7d46-43a7-86ed-a17350b9fcff",
   "metadata": {},
   "outputs": [
    {
     "name": "stdout",
     "output_type": "stream",
     "text": [
      "water is best drink said by \"science\"\n",
      "girl's paly in the ground\n",
      "<class 'str'>\n",
      "<class 'str'>\n"
     ]
    }
   ],
   "source": [
    "data = 'water is best drink said by \"science\"'\n",
    "data2 = \"girl's paly in the ground\"\n",
    "\n",
    "print(data)\n",
    "print(data2)\n",
    "\n",
    "print(type(data))\n",
    "print(type(data2))"
   ]
  },
  {
   "cell_type": "code",
   "execution_count": 95,
   "id": "df086fb3-046e-493c-9b9c-11413be46c6b",
   "metadata": {},
   "outputs": [
    {
     "name": "stdout",
     "output_type": "stream",
     "text": [
      "water\n",
      "is\n",
      "best\n",
      "drink\n"
     ]
    }
   ],
   "source": [
    "data = \"\"\"water\n",
    "is\n",
    "best\n",
    "drink\"\"\"\n",
    "print(data)"
   ]
  },
  {
   "cell_type": "code",
   "execution_count": 97,
   "id": "7c36466e-4d87-4e0a-98d9-7f11793d685f",
   "metadata": {},
   "outputs": [
    {
     "name": "stdout",
     "output_type": "stream",
     "text": [
      "water\n",
      "is\n",
      "best\n",
      "drink\n"
     ]
    }
   ],
   "source": [
    "data = '''water\n",
    "is\n",
    "best\n",
    "drink'''\n",
    "print(data)"
   ]
  },
  {
   "cell_type": "markdown",
   "id": "d34c9da2-c5dc-42fa-a98b-b99761c57d8c",
   "metadata": {},
   "source": [
    "#### in python string are immutable"
   ]
  },
  {
   "cell_type": "code",
   "execution_count": 102,
   "id": "ea877127-5790-4222-aa22-b05547cdd117",
   "metadata": {},
   "outputs": [
    {
     "name": "stdout",
     "output_type": "stream",
     "text": [
      "Python\n",
      "140709968298064\n"
     ]
    }
   ],
   "source": [
    "data = \"Python\"\n",
    "print(data)\n",
    "print(id(data))"
   ]
  },
  {
   "cell_type": "code",
   "execution_count": 106,
   "id": "27910465-3f9c-4e11-8eaf-bcfaa688246c",
   "metadata": {},
   "outputs": [
    {
     "name": "stdout",
     "output_type": "stream",
     "text": [
      "Pithon\n",
      "1705089297952\n"
     ]
    }
   ],
   "source": [
    "data = \"Pithon\"\n",
    "print(data)\n",
    "print(id(data))"
   ]
  },
  {
   "cell_type": "markdown",
   "id": "80b48002-2d20-4768-8fd3-cbe901904e0b",
   "metadata": {},
   "source": [
    "# indexing"
   ]
  },
  {
   "cell_type": "markdown",
   "id": "90434fbf-2049-4c53-892f-ce3cac3df837",
   "metadata": {},
   "source": [
    "## indexing: refering the single character"
   ]
  },
  {
   "cell_type": "code",
   "execution_count": 117,
   "id": "ad5f08d3-b96c-40c7-94c6-9da42bcdbcf9",
   "metadata": {},
   "outputs": [
    {
     "name": "stdout",
     "output_type": "stream",
     "text": [
      "index 3 = h\n",
      "index 6 =  \n",
      "f\n"
     ]
    }
   ],
   "source": [
    "data = \"python for all and it is a best language\"\n",
    "print(\"index 3 =\",data[3])\n",
    "print(\"index 6 =\",data[6])\n",
    "print(data[7])"
   ]
  },
  {
   "cell_type": "markdown",
   "id": "befb9c82-43d4-41e5-b4e9-d6c6a0ae3085",
   "metadata": {},
   "source": [
    "### negative indexing : last character : right hand side"
   ]
  },
  {
   "cell_type": "code",
   "execution_count": 122,
   "id": "78980f6c-8333-43e8-89a3-ba8281f381c6",
   "metadata": {},
   "outputs": [
    {
     "name": "stdout",
     "output_type": "stream",
     "text": [
      "last character e\n",
      "g\n"
     ]
    }
   ],
   "source": [
    "print(\"last character\",data[-1])\n",
    "print(data[-2])"
   ]
  },
  {
   "cell_type": "markdown",
   "id": "f423cc71-9fd6-483c-966c-3aac95d9bc4a",
   "metadata": {},
   "source": [
    "# slicing"
   ]
  },
  {
   "cell_type": "markdown",
   "id": "a7a51cab-715d-432d-b688-835c2ccacb82",
   "metadata": {},
   "source": [
    "### variable[start,end,step(optional)]"
   ]
  },
  {
   "cell_type": "code",
   "execution_count": 132,
   "id": "855db428-2932-4c61-888e-d0be9161be16",
   "metadata": {},
   "outputs": [
    {
     "name": "stdout",
     "output_type": "stream",
     "text": [
      "Data s\n",
      "cience is best domain\n",
      "Data science is best domain\n",
      "aas\n"
     ]
    }
   ],
   "source": [
    "data = \"Data science is best domain\"\n",
    "print(data[:6])\n",
    "print(data[6:])\n",
    "print(data[:])\n",
    "print(data[1:7:2])"
   ]
  },
  {
   "cell_type": "markdown",
   "id": "3ccde1e6-322c-4bc1-9974-e5f0a029c531",
   "metadata": {},
   "source": [
    "# string function"
   ]
  },
  {
   "cell_type": "code",
   "execution_count": 171,
   "id": "a4939224-b760-4e37-a168-81d495f38af1",
   "metadata": {},
   "outputs": [
    {
     "name": "stdout",
     "output_type": "stream",
     "text": [
      "i want to count the number of character  21\n",
      "i want to count the number of appearence for the letter o 2\n",
      "i want the index value for is  5\n",
      "all the character in uppercase  BOOK IS MAN BEST FRND\n",
      "all the character in lower case  book is man best frnd\n",
      "all the character in title  Book Is Man Best Frnd\n",
      "capatilize character  Book is man best frnd\n",
      "case fold upper to lower  book is man best frnd\n",
      "check end with ? False\n",
      "check start with b True\n",
      "is upper case False\n",
      "is lower True\n"
     ]
    }
   ],
   "source": [
    "string1 = \"book is man best frnd\"\n",
    "print(\"i want to count the number of character \",len(string1))\n",
    "print(\"i want to count the number of appearence for the letter o\",string1.count(\"o\"))\n",
    "print(\"i want the index value for is \",string1.find(\"is\"))\n",
    "print(\"all the character in uppercase \",string1.upper())\n",
    "print(\"all the character in lower case \",string1.lower())\n",
    "print(\"all the character in title \",string1.title())\n",
    "print(\"capatilize character \",string1.capitalize())\n",
    "print(\"case fold upper to lower \",string1.casefold())\n",
    "print(\"check end with ?\",string1.endswith(\"?\"))\n",
    "print(\"check start with b\",string1.startswith(\"b\"))\n",
    "print(\"is upper case\",string1.isupper())\n",
    "print(\"is lower\",string1.islower())"
   ]
  },
  {
   "cell_type": "code",
   "execution_count": 181,
   "id": "05670559-2a7b-4bd2-9e7f-e3f4fc66395a",
   "metadata": {},
   "outputs": [
    {
     "name": "stdout",
     "output_type": "stream",
     "text": [
      "False\n",
      "True\n",
      "False\n"
     ]
    }
   ],
   "source": [
    "data = \"890abs\"\n",
    "print(data.isalpha())\n",
    "print(data.isalnum())\n",
    "print(data.isnumeric())"
   ]
  },
  {
   "cell_type": "markdown",
   "id": "8df93d5e-363f-42fe-9c38-fc59ac2db150",
   "metadata": {},
   "source": [
    "# SEQUENCE DATA TYPE\n",
    "#### Storing sequence of value\n",
    "#### storing n nubers of value"
   ]
  },
  {
   "cell_type": "markdown",
   "id": "2c7056a6-9113-41d3-8d9d-7a87369b146f",
   "metadata": {},
   "source": [
    "# LIST"
   ]
  },
  {
   "cell_type": "raw",
   "id": "e399fb53-6efa-4803-b640-61f59a6a9453",
   "metadata": {},
   "source": [
    "1. Mutable - It can be change add, remove, modify\n",
    "2. Ordered - Index value associate with each\n",
    "3. Duplicate - Dupkicate data\n",
    "4. [] - List data type\n",
    "5. Heterogenous - [int,string,float.....]"
   ]
  },
  {
   "cell_type": "code",
   "execution_count": 194,
   "id": "eb7d3442-53da-40f3-bac6-a3249cf8c353",
   "metadata": {},
   "outputs": [
    {
     "name": "stdout",
     "output_type": "stream",
     "text": [
      "<class 'list'>\n",
      "['data', 121, 56.78]\n"
     ]
    },
    {
     "data": {
      "text/plain": [
       "list"
      ]
     },
     "execution_count": 194,
     "metadata": {},
     "output_type": "execute_result"
    }
   ],
   "source": [
    "var = []\n",
    "print(type(var))\n",
    "var3 = [\"data\",121,56.78]\n",
    "print(var3)\n",
    "type(var3)"
   ]
  },
  {
   "cell_type": "markdown",
   "id": "ba4c421a-0881-4a6e-819e-3587da573b61",
   "metadata": {},
   "source": [
    "### constructor\n",
    "##### when we try to convert other datatype"
   ]
  },
  {
   "cell_type": "code",
   "execution_count": 203,
   "id": "f7fe96db-b2f7-46ef-b754-f9eed5697caa",
   "metadata": {},
   "outputs": [
    {
     "name": "stdout",
     "output_type": "stream",
     "text": [
      "<class 'list'>\n",
      "[45, 'demo', 90.9]\n",
      "<class 'list'>\n"
     ]
    }
   ],
   "source": [
    "var2 = list()\n",
    "print(type(var2))\n",
    "var4 = list([45,\"demo\",90.90])\n",
    "print(var4)\n",
    "print(type(var4))"
   ]
  },
  {
   "cell_type": "markdown",
   "id": "7fa46d9f-98ae-45bb-b9ae-f0056ed5e1c5",
   "metadata": {},
   "source": [
    "## create a list with the data as follow"
   ]
  },
  {
   "cell_type": "markdown",
   "id": "83dce697-0b3e-4e4a-aa3d-626e594607fc",
   "metadata": {},
   "source": [
    "121,\"joj\",5000.67,122,\"tom\",7000.34,123,\"joy\",456.78,124,\"thomus\",4556.67"
   ]
  },
  {
   "cell_type": "code",
   "execution_count": 207,
   "id": "9c93dae3-f04d-4829-b08f-ef8d7ccee765",
   "metadata": {},
   "outputs": [
    {
     "name": "stdout",
     "output_type": "stream",
     "text": [
      "[121, 'joj', 5000.67, 122, 'tom', 7000.34, 123, 'joy', 456.78, 124, 'thomus', 4556.67]\n"
     ]
    }
   ],
   "source": [
    "data = [121,\"joj\",5000.67,122,\"tom\",7000.34,123,\"joy\",456.78,124,\"thomus\",4556.67]\n",
    "print(data)"
   ]
  },
  {
   "cell_type": "code",
   "execution_count": 221,
   "id": "bd9b8f46-d2a9-453b-94d8-69d2aad826bb",
   "metadata": {},
   "outputs": [
    {
     "name": "stdout",
     "output_type": "stream",
     "text": [
      "Emp_name for first record :  joj\n",
      "Only the name of employee : ['joj', 'tom', 'joy', 'thomus']\n",
      "only the salary : [5000.67, 7000.34, 456.78, 4556.67]\n",
      "Total values  12\n"
     ]
    }
   ],
   "source": [
    "print('Emp_name for first record : ',data[1])\n",
    "print(\"Only the name of employee :\",data[1::3])\n",
    "print(\"only the salary :\",data[2::3])\n",
    "print(\"Total values \",len(data))"
   ]
  },
  {
   "cell_type": "markdown",
   "id": "90cf45aa-9276-41eb-b50e-3c59a30a624f",
   "metadata": {},
   "source": [
    "## adding an element inside a list"
   ]
  },
  {
   "cell_type": "markdown",
   "id": "e85275a7-4f49-4469-831b-a15c73103463",
   "metadata": {},
   "source": [
    "## append(): it will add the element as end"
   ]
  },
  {
   "cell_type": "code",
   "execution_count": 238,
   "id": "b6559272-59cd-4f73-96cf-8dbabc779b1d",
   "metadata": {},
   "outputs": [
    {
     "name": "stdout",
     "output_type": "stream",
     "text": [
      "['C', 'C++', 'Java']\n",
      "['C', 'C++', 'Java', 'Python']\n"
     ]
    }
   ],
   "source": [
    "data = [\"C\",\"C++\",\"Java\"]\n",
    "print(data)\n",
    "data.append(\"Python\")\n",
    "print(data)"
   ]
  },
  {
   "cell_type": "code",
   "execution_count": 243,
   "id": "b25f644e-acb6-4750-a978-db85a43f1644",
   "metadata": {},
   "outputs": [
    {
     "name": "stdout",
     "output_type": "stream",
     "text": [
      "['C', 'C++', 'Java', 'Python', ['php', 'angular']]\n"
     ]
    }
   ],
   "source": [
    "# add \"php\" and angular\n",
    "data.append([\"php\",\"angular\"])\n",
    "print(data)"
   ]
  },
  {
   "cell_type": "code",
   "execution_count": 245,
   "id": "71c1a073-4a64-4064-bc51-6e31536ea864",
   "metadata": {},
   "outputs": [
    {
     "name": "stdout",
     "output_type": "stream",
     "text": [
      "['php', 'angular']\n"
     ]
    }
   ],
   "source": [
    "print(data[4])"
   ]
  },
  {
   "cell_type": "code",
   "execution_count": 247,
   "id": "d1eced23-a89e-4ee7-b307-53974d72f79d",
   "metadata": {},
   "outputs": [
    {
     "name": "stdout",
     "output_type": "stream",
     "text": [
      "Python\n"
     ]
    }
   ],
   "source": [
    "print(data[3])"
   ]
  },
  {
   "cell_type": "code",
   "execution_count": 249,
   "id": "57778d6b-686c-4db5-ab2d-e598f06cbfb4",
   "metadata": {},
   "outputs": [
    {
     "name": "stdout",
     "output_type": "stream",
     "text": [
      "angular\n"
     ]
    }
   ],
   "source": [
    "print(data[4][1])"
   ]
  },
  {
   "cell_type": "markdown",
   "id": "aa720fe2-f570-4619-aea1-34fbd4d1d2f4",
   "metadata": {},
   "source": [
    "## insert():(index,value)"
   ]
  },
  {
   "cell_type": "markdown",
   "id": "91569ff7-a139-4d53-8b4a-766f6e2b30f7",
   "metadata": {},
   "source": [
    "### we inserting the element using an index position"
   ]
  },
  {
   "cell_type": "markdown",
   "id": "daab782b-d9f0-4e72-8a19-e17a45c8d656",
   "metadata": {},
   "source": [
    "#### put sunday on first position"
   ]
  },
  {
   "cell_type": "code",
   "execution_count": 74,
   "id": "e351c7b4-ea46-42b8-8e97-0f04c3728fcb",
   "metadata": {},
   "outputs": [
    {
     "name": "stdout",
     "output_type": "stream",
     "text": [
      "['monday', 'wednesday', 'saturday']\n"
     ]
    }
   ],
   "source": [
    "days = [\"monday\",\"wednesday\",\"saturday\"]\n",
    "print(days)"
   ]
  },
  {
   "cell_type": "code",
   "execution_count": 76,
   "id": "6d6628a4-2d73-4a65-b6ee-781b24ba9c1f",
   "metadata": {},
   "outputs": [
    {
     "name": "stdout",
     "output_type": "stream",
     "text": [
      "['sunday', 'monday', 'wednesday', 'saturday']\n"
     ]
    }
   ],
   "source": [
    "days.insert(0,\"sunday\")\n",
    "print(days)"
   ]
  },
  {
   "cell_type": "code",
   "execution_count": 78,
   "id": "ee3d2ac1-2f52-448f-940a-6f37aee5f187",
   "metadata": {},
   "outputs": [
    {
     "name": "stdout",
     "output_type": "stream",
     "text": [
      "['sunday', 'monday', 'tuesday', 'wednesday', 'saturday']\n"
     ]
    }
   ],
   "source": [
    "days.insert(2,\"tuesday\")\n",
    "print(days)"
   ]
  },
  {
   "cell_type": "code",
   "execution_count": 80,
   "id": "793b5c5a-b017-4726-a030-cb097da7bf36",
   "metadata": {},
   "outputs": [
    {
     "name": "stdout",
     "output_type": "stream",
     "text": [
      "['sunday', 'monday', 'tuesday', 'wednesday', ['thursday', 'friday'], 'saturday']\n"
     ]
    }
   ],
   "source": [
    "days.insert(4,['thursday','friday'])\n",
    "print(days)"
   ]
  },
  {
   "cell_type": "markdown",
   "id": "e6d89878-8d52-43aa-8cae-9693c4a5f8ed",
   "metadata": {},
   "source": [
    "## extend()"
   ]
  },
  {
   "cell_type": "markdown",
   "id": "e0f7ea89-0e5c-4971-840e-39c975287437",
   "metadata": {},
   "source": [
    "### add multiple element at the end "
   ]
  },
  {
   "cell_type": "code",
   "execution_count": 332,
   "id": "ab99c9b9-1c10-455c-a2c6-52a30b78895d",
   "metadata": {},
   "outputs": [
    {
     "name": "stdout",
     "output_type": "stream",
     "text": [
      "['C', 'C++', 'Java']\n"
     ]
    }
   ],
   "source": [
    "prog_lang=[\"C\",\"C++\",\"Java\"]\n",
    "print(prog_lang)"
   ]
  },
  {
   "cell_type": "code",
   "execution_count": 334,
   "id": "b769b34e-dc29-4584-8d56-2b40a9b0ebc9",
   "metadata": {},
   "outputs": [
    {
     "name": "stdout",
     "output_type": "stream",
     "text": [
      "['C', 'C++', 'Java', 'python', 'php', 'angular', 'node']\n"
     ]
    }
   ],
   "source": [
    "#python,php,angular,node\n",
    "prog_lang.extend([\"python\",\"php\",\"angular\",\"node\"])\n",
    "print(prog_lang)"
   ]
  },
  {
   "cell_type": "code",
   "execution_count": 336,
   "id": "96f4594c-1003-4244-8308-544be9079159",
   "metadata": {},
   "outputs": [
    {
     "name": "stdout",
     "output_type": "stream",
     "text": [
      "['HTML', 'CSS', 'Javascript', 'react', 'Bootstrap', 'jquery']\n"
     ]
    }
   ],
   "source": [
    "front_end = [\"HTML\",\"CSS\",\"Javascript\",\"react\",\"Bootstrap\",\"jquery\" ]\n",
    "print(front_end)"
   ]
  },
  {
   "cell_type": "code",
   "execution_count": 338,
   "id": "7ee576d2-85a3-4529-b60e-d9effd1d7f60",
   "metadata": {},
   "outputs": [
    {
     "name": "stdout",
     "output_type": "stream",
     "text": [
      "['C', 'C++', 'Java', 'python', 'php', 'angular', 'node']\n"
     ]
    }
   ],
   "source": [
    "print(prog_lang)"
   ]
  },
  {
   "cell_type": "code",
   "execution_count": 340,
   "id": "8681dbfe-fa92-46a4-9cef-ea417c2d1396",
   "metadata": {},
   "outputs": [
    {
     "name": "stdout",
     "output_type": "stream",
     "text": [
      "['C', 'C++', 'Java', 'python', 'php', 'angular', 'node', 'HTML', 'CSS', 'Javascript', 'react', 'Bootstrap', 'jquery']\n",
      "['HTML', 'CSS', 'Javascript', 'react', 'Bootstrap', 'jquery']\n"
     ]
    }
   ],
   "source": [
    "# prog_lang with front_end\n",
    "prog_lang.extend(front_end)\n",
    "print(prog_lang)\n",
    "print(front_end)"
   ]
  },
  {
   "cell_type": "markdown",
   "id": "b4676ef3-fa61-4815-8f7d-b9d8f83a26a3",
   "metadata": {},
   "source": [
    "## Removing an element from the list"
   ]
  },
  {
   "cell_type": "markdown",
   "id": "917d5b0b-3aaa-4345-a2ba-5d72e2d58484",
   "metadata": {},
   "source": [
    "#### remove(value):the element that you want to remove it will be exists"
   ]
  },
  {
   "cell_type": "code",
   "execution_count": 359,
   "id": "4432127b-97ef-46ec-9849-98d775498feb",
   "metadata": {},
   "outputs": [
    {
     "name": "stdout",
     "output_type": "stream",
     "text": [
      "['C', 'C++', 'Java', 'python', 'php', 'angular', 'HTML', 'CSS', 'Javascript', 'react', 'Bootstrap', 'jquery']\n"
     ]
    }
   ],
   "source": [
    "print(prog_lang)"
   ]
  },
  {
   "cell_type": "code",
   "execution_count": 361,
   "id": "b092d879-bc54-4cc7-80ec-812c280e94d3",
   "metadata": {},
   "outputs": [
    {
     "name": "stdout",
     "output_type": "stream",
     "text": [
      "['C', 'C++', 'Java', 'python', 'angular', 'HTML', 'CSS', 'Javascript', 'react', 'Bootstrap', 'jquery']\n"
     ]
    }
   ],
   "source": [
    "# only one element will remove at a time\n",
    "prog_lang.remove(\"php\")\n",
    "print(prog_lang)"
   ]
  },
  {
   "cell_type": "code",
   "execution_count": 365,
   "id": "934232b5-5812-411e-8aeb-d98c2bd25a82",
   "metadata": {},
   "outputs": [],
   "source": [
    "#prog_lang.remove(\"c\",\"C++\")\n",
    "#prog_lang"
   ]
  },
  {
   "cell_type": "code",
   "execution_count": 367,
   "id": "6b6b811d-11c8-4e9a-a1e0-7db1ac07d591",
   "metadata": {},
   "outputs": [],
   "source": [
    "# prog_lang.remove(\"English\")"
   ]
  },
  {
   "cell_type": "markdown",
   "id": "e9c52d6e-1dff-4f7c-9794-effdc0d29d44",
   "metadata": {},
   "source": [
    " ## pop():takes the index value to remove an element"
   ]
  },
  {
   "cell_type": "markdown",
   "id": "6fb8166b-f0a5-40a5-a220-2451870e9f4d",
   "metadata": {},
   "source": [
    "#### if index location is not provided then the last element will be removed"
   ]
  },
  {
   "cell_type": "code",
   "execution_count": 371,
   "id": "44599245-4ca8-45f7-9d35-de57bdcd567f",
   "metadata": {},
   "outputs": [
    {
     "name": "stdout",
     "output_type": "stream",
     "text": [
      "['C', 'C++', 'Java', 'python', 'angular', 'HTML', 'CSS', 'Javascript', 'react', 'Bootstrap', 'jquery']\n"
     ]
    }
   ],
   "source": [
    "print(prog_lang)"
   ]
  },
  {
   "cell_type": "code",
   "execution_count": 373,
   "id": "d2b9d4c4-9ae5-4eea-ad64-ae50ad50eab1",
   "metadata": {},
   "outputs": [
    {
     "data": {
      "text/plain": [
       "'jquery'"
      ]
     },
     "execution_count": 373,
     "metadata": {},
     "output_type": "execute_result"
    }
   ],
   "source": [
    "prog_lang.pop()"
   ]
  },
  {
   "cell_type": "code",
   "execution_count": 379,
   "id": "cdae336d-49e5-4f5d-827b-3e89d6d9b269",
   "metadata": {},
   "outputs": [
    {
     "name": "stdout",
     "output_type": "stream",
     "text": [
      "['C', 'C++', 'Java', 'python', 'angular', 'HTML', 'CSS', 'Javascript', 'react', 'Bootstrap']\n"
     ]
    }
   ],
   "source": [
    "print(prog_lang)"
   ]
  },
  {
   "cell_type": "code",
   "execution_count": 381,
   "id": "a7425016-37ff-4802-8bf3-029978c393ca",
   "metadata": {},
   "outputs": [
    {
     "name": "stdout",
     "output_type": "stream",
     "text": [
      "['C', 'C++', 'Java', 'angular', 'HTML', 'CSS', 'Javascript', 'react', 'Bootstrap']\n"
     ]
    }
   ],
   "source": [
    "prog_lang.pop(3)\n",
    "print(prog_lang)"
   ]
  },
  {
   "cell_type": "code",
   "execution_count": 385,
   "id": "f720f809-bd6b-424b-bff3-40f0c4f12421",
   "metadata": {},
   "outputs": [],
   "source": [
    "#prog_lang.pop(3,5)"
   ]
  },
  {
   "cell_type": "code",
   "execution_count": 389,
   "id": "c5a4eba5-a8c9-4be5-af02-c23abeb56228",
   "metadata": {},
   "outputs": [
    {
     "name": "stdout",
     "output_type": "stream",
     "text": [
      "all the element store at even index of prog_lang\n",
      "['C', 'C++', 'Java', 'angular', 'HTML', 'CSS', 'Javascript', 'react', 'Bootstrap']\n"
     ]
    }
   ],
   "source": [
    "print(\"all the element store at even index of prog_lang\")\n",
    "print(prog_lang)"
   ]
  },
  {
   "cell_type": "code",
   "execution_count": 391,
   "id": "d5f3f716-e9d4-4ed5-b41f-65def7afb509",
   "metadata": {},
   "outputs": [
    {
     "name": "stdout",
     "output_type": "stream",
     "text": [
      "['Java', 'HTML', 'Javascript', 'Bootstrap']\n"
     ]
    }
   ],
   "source": [
    "print(prog_lang[2::2])"
   ]
  },
  {
   "cell_type": "markdown",
   "id": "474e6cba-09c5-4640-a9a1-8659892148c9",
   "metadata": {},
   "source": [
    "## del : keyword remove"
   ]
  },
  {
   "cell_type": "markdown",
   "id": "2d809432-c44f-4eee-be28-892caa2fa3b0",
   "metadata": {},
   "source": [
    "### it will also remove multiple values"
   ]
  },
  {
   "cell_type": "code",
   "execution_count": 84,
   "id": "712967e0-70e1-45db-a123-d10b6807c5c7",
   "metadata": {},
   "outputs": [
    {
     "name": "stdout",
     "output_type": "stream",
     "text": [
      "[1, 2, 3, 4, 5, 6]\n",
      "[2, 3, 4, 5, 6]\n"
     ]
    }
   ],
   "source": [
    "data = [1,2,3,4,5,6]\n",
    "print(data)\n",
    "del data[0]\n",
    "print(data)"
   ]
  },
  {
   "cell_type": "code",
   "execution_count": 86,
   "id": "41b189e0-462a-4ce3-a68e-02e7a921f76d",
   "metadata": {},
   "outputs": [
    {
     "name": "stdout",
     "output_type": "stream",
     "text": [
      "[2, 3, 4, 5, 6]\n",
      "[4, 5, 6]\n"
     ]
    }
   ],
   "source": [
    "print(data)\n",
    "del data[:2]\n",
    "print(data)"
   ]
  },
  {
   "cell_type": "code",
   "execution_count": 402,
   "id": "633e8798-0563-4bd2-a7e3-65a024edfb28",
   "metadata": {},
   "outputs": [
    {
     "name": "stdout",
     "output_type": "stream",
     "text": [
      "['C', 'C++', 'Java', 'angular', 'HTML', 'CSS', 'Javascript', 'react', 'Bootstrap']\n"
     ]
    }
   ],
   "source": [
    "print(prog_lang)"
   ]
  },
  {
   "cell_type": "code",
   "execution_count": 410,
   "id": "a5517557-aad5-4562-8ea9-2eb07fa4a87c",
   "metadata": {},
   "outputs": [
    {
     "name": "stdout",
     "output_type": "stream",
     "text": [
      "['C', 'C++', 'angular', 'CSS', 'react']\n"
     ]
    }
   ],
   "source": [
    "del prog_lang[2::2]\n",
    "print(prog_lang)"
   ]
  },
  {
   "cell_type": "markdown",
   "id": "18d461cb-ff64-44f2-a7e8-ab6d84d60023",
   "metadata": {},
   "source": [
    "## cleear():clear/delete all the elements of the list, make an list to be empty"
   ]
  },
  {
   "cell_type": "code",
   "execution_count": 419,
   "id": "f49fbf7e-30c7-4c7c-bf61-748ce8e0b218",
   "metadata": {},
   "outputs": [
    {
     "name": "stdout",
     "output_type": "stream",
     "text": [
      "['C', 'C++', 'angular', 'CSS', 'react']\n"
     ]
    }
   ],
   "source": [
    "print(prog_lang)"
   ]
  },
  {
   "cell_type": "code",
   "execution_count": 421,
   "id": "f7beb756-a993-4240-b3a3-eef3f47d9b7b",
   "metadata": {},
   "outputs": [],
   "source": [
    "prog_lang.clear()"
   ]
  },
  {
   "cell_type": "code",
   "execution_count": 423,
   "id": "5aba08b4-a839-4ec6-a84d-13b5200e59fd",
   "metadata": {},
   "outputs": [
    {
     "name": "stdout",
     "output_type": "stream",
     "text": [
      "[]\n"
     ]
    }
   ],
   "source": [
    "print(prog_lang)"
   ]
  },
  {
   "cell_type": "code",
   "execution_count": 427,
   "id": "eacd7def-c3be-4b89-aae2-e4bb1acdbfc3",
   "metadata": {},
   "outputs": [
    {
     "name": "stdout",
     "output_type": "stream",
     "text": [
      "['C']\n"
     ]
    }
   ],
   "source": [
    "prog_lang.append(\"C\")\n",
    "print(prog_lang)"
   ]
  },
  {
   "cell_type": "code",
   "execution_count": 5,
   "id": "52641bc2-73eb-49b4-9dd6-bef3b96585d6",
   "metadata": {},
   "outputs": [],
   "source": [
    "#del prog_lang\n",
    "#print(prog_lang)"
   ]
  },
  {
   "cell_type": "markdown",
   "id": "465088c2-0156-49f5-8445-1c84c01afc18",
   "metadata": {},
   "source": [
    "# Modification"
   ]
  },
  {
   "cell_type": "code",
   "execution_count": 8,
   "id": "4efbb73b-d3a9-4cd6-86e1-71f919a8ff7b",
   "metadata": {},
   "outputs": [
    {
     "name": "stdout",
     "output_type": "stream",
     "text": [
      "['C', 'C++', 'Java', 'python', 'angular', 'HTML', 'CSS', 'Javascript', 'React', 'Bootstrap', 'jquery']\n"
     ]
    }
   ],
   "source": [
    "data =['C','C++','Java','python','angular','HTML','CSS','Javascript','React','Bootstrap','jquery']\n",
    "print(data)"
   ]
  },
  {
   "cell_type": "code",
   "execution_count": 10,
   "id": "a11a296a-2333-4670-ab2a-c2342a7e461f",
   "metadata": {},
   "outputs": [
    {
     "name": "stdout",
     "output_type": "stream",
     "text": [
      "['basic Language', 'C++', 'Java', 'python', 'angular', 'HTML', 'CSS', 'Javascript', 'React', 'Bootstrap', 'jquery']\n"
     ]
    }
   ],
   "source": [
    "# c to basic language\n",
    "data[0] = \"basic Language\"\n",
    "print(data)"
   ]
  },
  {
   "cell_type": "code",
   "execution_count": 12,
   "id": "0228ae6e-4e96-4ef0-8e1a-0640a2cf8c9e",
   "metadata": {},
   "outputs": [
    {
     "name": "stdout",
     "output_type": "stream",
     "text": [
      "['Java', 'python', 'angular', 'HTML']\n"
     ]
    }
   ],
   "source": [
    "print(data[2:6])"
   ]
  },
  {
   "cell_type": "code",
   "execution_count": 16,
   "id": "fcecfbdf-c527-4580-89ee-341d78d15983",
   "metadata": {},
   "outputs": [
    {
     "name": "stdout",
     "output_type": "stream",
     "text": [
      "['basic Language', 'C++', 'English', 'Hindi', 'Marathi', 'Javascript', 'React', 'Bootstrap', 'jquery']\n"
     ]
    }
   ],
   "source": [
    "data[2:6] = \"English\",\"Hindi\",\"Marathi\"\n",
    "print(data)"
   ]
  },
  {
   "cell_type": "code",
   "execution_count": 18,
   "id": "e77b84fc-d003-4445-b625-94f5e81320dd",
   "metadata": {},
   "outputs": [
    {
     "name": "stdout",
     "output_type": "stream",
     "text": [
      "['C++', 'English', 'Hindi', 'Marathi', 'Javascript', 'React', 'Bootstrap', 'jquery']\n"
     ]
    }
   ],
   "source": [
    "data.pop(0)\n",
    "print(data)"
   ]
  },
  {
   "cell_type": "markdown",
   "id": "eb207e8d-c821-482a-8062-c9f769fc630c",
   "metadata": {},
   "source": [
    "# Deep copy()"
   ]
  },
  {
   "cell_type": "code",
   "execution_count": 21,
   "id": "14f888a5-225e-4368-88b5-31b5fa47af3d",
   "metadata": {},
   "outputs": [
    {
     "name": "stdout",
     "output_type": "stream",
     "text": [
      "[11, 22, 33, 44, 55]\n"
     ]
    }
   ],
   "source": [
    "data1 = [11,22,33,44,55]\n",
    "print(data1)"
   ]
  },
  {
   "cell_type": "code",
   "execution_count": 23,
   "id": "fa9ec207-c546-4e3f-b73f-a5699cc45d2d",
   "metadata": {},
   "outputs": [],
   "source": [
    "copy_data1=data1"
   ]
  },
  {
   "cell_type": "code",
   "execution_count": 25,
   "id": "dc1358f7-d19e-47da-b1c3-a250dade63d5",
   "metadata": {},
   "outputs": [
    {
     "name": "stdout",
     "output_type": "stream",
     "text": [
      "[11, 22, 33, 44, 55]\n"
     ]
    }
   ],
   "source": [
    "print(copy_data1)"
   ]
  },
  {
   "cell_type": "code",
   "execution_count": 27,
   "id": "c6089be0-9a48-4eae-8fe0-046e9d912a7c",
   "metadata": {},
   "outputs": [],
   "source": [
    "# adding an element in original list\n",
    "data1.append(66)"
   ]
  },
  {
   "cell_type": "code",
   "execution_count": 31,
   "id": "9c3f1aa7-9127-4c59-84eb-f9a9e9cfe203",
   "metadata": {},
   "outputs": [
    {
     "name": "stdout",
     "output_type": "stream",
     "text": [
      "[11, 22, 33, 44, 55, 66]\n",
      "[11, 22, 33, 44, 55, 66]\n"
     ]
    }
   ],
   "source": [
    "print(data1)\n",
    "print(copy_data1)"
   ]
  },
  {
   "cell_type": "code",
   "execution_count": 35,
   "id": "3e053aa8-e257-449c-9a20-8410dee7ee04",
   "metadata": {},
   "outputs": [
    {
     "data": {
      "text/plain": [
       "11"
      ]
     },
     "execution_count": 35,
     "metadata": {},
     "output_type": "execute_result"
    }
   ],
   "source": [
    "# remove the first element from the copy list\n",
    "copy_data1.pop(0)"
   ]
  },
  {
   "cell_type": "code",
   "execution_count": 37,
   "id": "c6ae1a4e-a3d2-4bdd-b5cb-f6634432a891",
   "metadata": {},
   "outputs": [
    {
     "name": "stdout",
     "output_type": "stream",
     "text": [
      "[22, 33, 44, 55, 66]\n"
     ]
    }
   ],
   "source": [
    "print(data1)"
   ]
  },
  {
   "cell_type": "code",
   "execution_count": 39,
   "id": "1f74889d-a3f5-40d5-ada1-e4fa94903b9a",
   "metadata": {},
   "outputs": [
    {
     "name": "stdout",
     "output_type": "stream",
     "text": [
      "[22, 33, 44, 55, 66]\n"
     ]
    }
   ],
   "source": [
    "print(copy_data1)"
   ]
  },
  {
   "cell_type": "code",
   "execution_count": 41,
   "id": "0e5ac7a7-0875-4eb8-8470-41c043420f60",
   "metadata": {},
   "outputs": [],
   "source": [
    "# modification\n",
    "data1[3] = \"test\""
   ]
  },
  {
   "cell_type": "code",
   "execution_count": 47,
   "id": "e1e362ea-e56a-4c7a-b1ee-27f61233d223",
   "metadata": {},
   "outputs": [
    {
     "name": "stdout",
     "output_type": "stream",
     "text": [
      "[22, 33, 44, 'test', 66]\n",
      "[22, 33, 44, 'test', 66]\n"
     ]
    }
   ],
   "source": [
    "print(data1)\n",
    "print(copy_data1)"
   ]
  },
  {
   "cell_type": "markdown",
   "id": "1af81898-0268-4e5b-8c20-0f5fac5f73d2",
   "metadata": {},
   "source": [
    "## shallow copy()"
   ]
  },
  {
   "cell_type": "code",
   "execution_count": 50,
   "id": "ce53f8c4-864e-408e-8a76-3b59d59f3a74",
   "metadata": {},
   "outputs": [
    {
     "name": "stdout",
     "output_type": "stream",
     "text": [
      "[11, 22, 33, 44, 55]\n"
     ]
    }
   ],
   "source": [
    "data1 = [11,22,33,44,55]\n",
    "print(data1)"
   ]
  },
  {
   "cell_type": "code",
   "execution_count": 52,
   "id": "03b1719e-520b-4a45-9f12-01b077b9f85e",
   "metadata": {},
   "outputs": [],
   "source": [
    "copy_data1=data1.copy()"
   ]
  },
  {
   "cell_type": "code",
   "execution_count": 54,
   "id": "1f59d71e-c9f0-41da-a91a-eafdf2128257",
   "metadata": {},
   "outputs": [
    {
     "name": "stdout",
     "output_type": "stream",
     "text": [
      "[11, 22, 33, 44, 55]\n"
     ]
    }
   ],
   "source": [
    "print(copy_data1)"
   ]
  },
  {
   "cell_type": "code",
   "execution_count": 56,
   "id": "4437953f-ffb1-4a65-967d-bd5844e4caf8",
   "metadata": {},
   "outputs": [],
   "source": [
    "# adding an element\n",
    "data1.append(66)"
   ]
  },
  {
   "cell_type": "code",
   "execution_count": 60,
   "id": "96400caf-84bb-44cb-a56e-6b6e3f8e5290",
   "metadata": {},
   "outputs": [
    {
     "name": "stdout",
     "output_type": "stream",
     "text": [
      "[11, 22, 33, 44, 55, 66]\n",
      "[11, 22, 33, 44, 55]\n"
     ]
    }
   ],
   "source": [
    "print(data1)\n",
    "print(copy_data1)"
   ]
  },
  {
   "cell_type": "code",
   "execution_count": 62,
   "id": "243a661e-2b97-402e-889e-5f53443953ed",
   "metadata": {},
   "outputs": [
    {
     "data": {
      "text/plain": [
       "11"
      ]
     },
     "execution_count": 62,
     "metadata": {},
     "output_type": "execute_result"
    }
   ],
   "source": [
    "# remove the first element from the copy list\n",
    "copy_data1.pop(0)"
   ]
  },
  {
   "cell_type": "code",
   "execution_count": 66,
   "id": "09bdcf3c-32bb-41e9-b273-593bd93721ff",
   "metadata": {},
   "outputs": [
    {
     "name": "stdout",
     "output_type": "stream",
     "text": [
      "[22, 33, 44, 55]\n",
      "[11, 22, 33, 44, 55, 66]\n"
     ]
    }
   ],
   "source": [
    "print(copy_data1)\n",
    "print(data1)"
   ]
  },
  {
   "cell_type": "code",
   "execution_count": 68,
   "id": "e67bb05a-bcd9-4895-8f34-e499c6a4330d",
   "metadata": {},
   "outputs": [],
   "source": [
    "# modification\n",
    "data1[3] = \"test\""
   ]
  },
  {
   "cell_type": "code",
   "execution_count": 70,
   "id": "8569c9f4-e032-4754-a0d3-0187f0e8eabc",
   "metadata": {},
   "outputs": [
    {
     "name": "stdout",
     "output_type": "stream",
     "text": [
      "[11, 22, 33, 'test', 55, 66]\n"
     ]
    }
   ],
   "source": [
    "print(data1)"
   ]
  },
  {
   "cell_type": "code",
   "execution_count": 72,
   "id": "b26338bd-fb89-44ff-a8cd-f40c92a04a69",
   "metadata": {},
   "outputs": [
    {
     "name": "stdout",
     "output_type": "stream",
     "text": [
      "[22, 33, 44, 55]\n"
     ]
    }
   ],
   "source": [
    "print(copy_data1)"
   ]
  },
  {
   "cell_type": "markdown",
   "id": "f69923de-a89a-4f03-b4bd-ac66038e4403",
   "metadata": {},
   "source": [
    "# Tuple"
   ]
  },
  {
   "cell_type": "code",
   "execution_count": 1,
   "id": "45cb04bb-8db7-47f0-9fef-c4c295fab1bb",
   "metadata": {},
   "outputs": [
    {
     "name": "stdout",
     "output_type": "stream",
     "text": [
      "<class 'tuple'>\n"
     ]
    }
   ],
   "source": [
    "tpl1=()\n",
    "print(type(tpl1))"
   ]
  },
  {
   "cell_type": "code",
   "execution_count": 3,
   "id": "0f7954ae-10b2-4553-8a02-eacd2750ef48",
   "metadata": {},
   "outputs": [
    {
     "name": "stdout",
     "output_type": "stream",
     "text": [
      "<class 'tuple'>\n"
     ]
    }
   ],
   "source": [
    "tpl2=tuple()\n",
    "print(type(tpl2))"
   ]
  },
  {
   "cell_type": "code",
   "execution_count": 21,
   "id": "4a5fdd36-4a7e-430d-8cd3-83396b5b1b4b",
   "metadata": {},
   "outputs": [
    {
     "name": "stdout",
     "output_type": "stream",
     "text": [
      "<class 'float'>\n"
     ]
    }
   ],
   "source": [
    "tpl3=(34.56)\n",
    "print(type(tpl3))"
   ]
  },
  {
   "cell_type": "code",
   "execution_count": 23,
   "id": "45d7003f-4778-478f-ab0c-70cf76f5e296",
   "metadata": {},
   "outputs": [
    {
     "name": "stdout",
     "output_type": "stream",
     "text": [
      "<class 'tuple'>\n"
     ]
    }
   ],
   "source": [
    "tpl3=(34.56,)\n",
    "print(type(tpl3))"
   ]
  },
  {
   "cell_type": "code",
   "execution_count": 25,
   "id": "a961ab86-769c-485e-8aea-b3c6c09239ed",
   "metadata": {},
   "outputs": [
    {
     "name": "stdout",
     "output_type": "stream",
     "text": [
      "<class 'tuple'>\n"
     ]
    }
   ],
   "source": [
    "# tuple can we store in () or without ()\n",
    "data = 12,13,14,15,16\n",
    "print(type(data))"
   ]
  },
  {
   "cell_type": "code",
   "execution_count": 27,
   "id": "c2838bd6-8c04-457f-9b14-e7fa0b58c0ef",
   "metadata": {},
   "outputs": [
    {
     "name": "stdout",
     "output_type": "stream",
     "text": [
      "(121, 'joj', 5000.67, 122, 'tom', 7000.34, 123, 'joy', 456.78, 124, 'thomus', 4556.67)\n",
      "<class 'tuple'>\n"
     ]
    }
   ],
   "source": [
    "data = 121,\"joj\",5000.67,122,\"tom\",7000.34,123,\"joy\",456.78,124,\"thomus\",4556.67\n",
    "print(data)\n",
    "print(type(data))"
   ]
  },
  {
   "cell_type": "code",
   "execution_count": 29,
   "id": "9fc0414f-c4ef-4b74-9aad-ae5cc3f5e4f4",
   "metadata": {},
   "outputs": [
    {
     "name": "stdout",
     "output_type": "stream",
     "text": [
      "(121, 'joj', 5000.67, 122, 'tom', 7000.34, 123, 'joy', 456.78, 124, 'thomus', 4556.67)\n",
      "<class 'tuple'>\n"
     ]
    }
   ],
   "source": [
    "data = (121,\"joj\",5000.67,122,\"tom\",7000.34,123,\"joy\",456.78,124,\"thomus\",4556.67)\n",
    "print(data)\n",
    "print(type(data))"
   ]
  },
  {
   "cell_type": "code",
   "execution_count": 37,
   "id": "dfe95d98-6056-407b-9125-f70a53f369b7",
   "metadata": {},
   "outputs": [
    {
     "name": "stdout",
     "output_type": "stream",
     "text": [
      "only the name of employee : ('joj', 'tom', 'joy', 'thomus')\n",
      "only the salary : (5000.67, 7000.34, 456.78, 4556.67)\n",
      "Total values : 12\n"
     ]
    }
   ],
   "source": [
    "print(\"only the name of employee :\",data[1::3])\n",
    "print(\"only the salary :\",data[2::3])\n",
    "print(\"Total values :\",len(data))"
   ]
  },
  {
   "cell_type": "code",
   "execution_count": 41,
   "id": "053c7779-9010-4ac6-bb50-a2f325475a4c",
   "metadata": {},
   "outputs": [
    {
     "name": "stdout",
     "output_type": "stream",
     "text": [
      "<class 'tuple'>\n",
      "78\n"
     ]
    }
   ],
   "source": [
    "var1 = 12,34,56,78,90\n",
    "print(type(var1))\n",
    "print(var1[3])"
   ]
  },
  {
   "cell_type": "code",
   "execution_count": 43,
   "id": "36c36ef1-8662-42e5-af42-74c181ef5b01",
   "metadata": {},
   "outputs": [
    {
     "ename": "TypeError",
     "evalue": "'tuple' object does not support item assignment",
     "output_type": "error",
     "traceback": [
      "\u001b[1;31m---------------------------------------------------------------------------\u001b[0m",
      "\u001b[1;31mTypeError\u001b[0m                                 Traceback (most recent call last)",
      "Cell \u001b[1;32mIn[43], line 1\u001b[0m\n\u001b[1;32m----> 1\u001b[0m var1[\u001b[38;5;241m3\u001b[39m]\u001b[38;5;241m=\u001b[39m\u001b[38;5;241m780\u001b[39m\n",
      "\u001b[1;31mTypeError\u001b[0m: 'tuple' object does not support item assignment"
     ]
    }
   ],
   "source": [
    "var1[3]=780\n",
    "# because of immutable"
   ]
  },
  {
   "cell_type": "code",
   "execution_count": 45,
   "id": "8e23a4a9-b58a-4edc-a6d5-9a9e142b82e8",
   "metadata": {},
   "outputs": [
    {
     "name": "stdout",
     "output_type": "stream",
     "text": [
      "33\n"
     ]
    }
   ],
   "source": [
    "var2 = 12,13,[11,22,33,44,55],14,15,16\n",
    "print(var2[2][2])"
   ]
  },
  {
   "cell_type": "code",
   "execution_count": 47,
   "id": "ff6ca39a-83f7-4cfe-8dc2-bdf92fbe11d3",
   "metadata": {},
   "outputs": [],
   "source": [
    "var2[2][2]=300"
   ]
  },
  {
   "cell_type": "code",
   "execution_count": 51,
   "id": "9ea158e1-955f-4c20-9286-5da033ab0d0c",
   "metadata": {},
   "outputs": [
    {
     "name": "stdout",
     "output_type": "stream",
     "text": [
      "300\n"
     ]
    }
   ],
   "source": [
    "print(var2[2][2])\n",
    "# it will updated because it will store in list not in tuple"
   ]
  },
  {
   "cell_type": "code",
   "execution_count": 53,
   "id": "324ca157-add3-4f27-b525-42aeeb50ae3b",
   "metadata": {},
   "outputs": [
    {
     "name": "stdout",
     "output_type": "stream",
     "text": [
      "(12, 24, 36, 48, 60)\n"
     ]
    }
   ],
   "source": [
    "var4 = 12,24,36,48,60\n",
    "print(var4)"
   ]
  },
  {
   "cell_type": "code",
   "execution_count": 55,
   "id": "b81218e0-397f-4c42-9fe4-320829849e37",
   "metadata": {},
   "outputs": [
    {
     "name": "stdout",
     "output_type": "stream",
     "text": [
      "[12, 24, 36, 48, 60]\n"
     ]
    }
   ],
   "source": [
    "# change the element value 36 to 360 then you\n",
    "# step 1 : convert the tuple element to list\n",
    "list1 = list(var4)\n",
    "print(list1)"
   ]
  },
  {
   "cell_type": "code",
   "execution_count": 57,
   "id": "313c3591-834b-4441-99cc-a478574906ce",
   "metadata": {},
   "outputs": [
    {
     "name": "stdout",
     "output_type": "stream",
     "text": [
      "[12, 24, 360, 48, 60]\n"
     ]
    }
   ],
   "source": [
    "# step 2 : perform the modification of the list element\n",
    "list1[2]=360\n",
    "print(list1)"
   ]
  },
  {
   "cell_type": "code",
   "execution_count": 63,
   "id": "2419e9c3-7b54-4412-a190-28efaaf68910",
   "metadata": {},
   "outputs": [],
   "source": [
    "# step 3 : reconvert the list element to tuple\n",
    "var4 = tuple(list1)"
   ]
  },
  {
   "cell_type": "code",
   "execution_count": 67,
   "id": "b39f09d6-21cf-4072-8d73-bb66a3469d07",
   "metadata": {},
   "outputs": [
    {
     "name": "stdout",
     "output_type": "stream",
     "text": [
      "(12, 24, 360, 48, 60)\n"
     ]
    }
   ],
   "source": [
    "print(var4)"
   ]
  },
  {
   "cell_type": "markdown",
   "id": "cf03aad5-11ef-4f5d-a6ec-30f7cd91a824",
   "metadata": {},
   "source": [
    "# Packaging and unpackaging"
   ]
  },
  {
   "cell_type": "code",
   "execution_count": 74,
   "id": "30f82959-948d-43c0-853f-8d4d7c93b2d7",
   "metadata": {},
   "outputs": [
    {
     "name": "stdout",
     "output_type": "stream",
     "text": [
      "(121, 'Thomus', 45000.89)\n"
     ]
    }
   ],
   "source": [
    "data = 121,\"Thomus\",45000.89\n",
    "print(data)"
   ]
  },
  {
   "cell_type": "code",
   "execution_count": 76,
   "id": "ab75658b-00db-4fe0-97dd-e3b0a5cd3c9e",
   "metadata": {},
   "outputs": [],
   "source": [
    "empid,empname,empsal = data"
   ]
  },
  {
   "cell_type": "code",
   "execution_count": 78,
   "id": "c125a5d5-58e4-4f03-944a-b2c8937d3c9e",
   "metadata": {},
   "outputs": [
    {
     "name": "stdout",
     "output_type": "stream",
     "text": [
      "121\n",
      "Thomus\n",
      "45000.89\n"
     ]
    }
   ],
   "source": [
    "print(empid)\n",
    "print(empname)\n",
    "print(empsal)"
   ]
  },
  {
   "cell_type": "code",
   "execution_count": 80,
   "id": "eb496421-4868-4730-83ef-42d1738783ab",
   "metadata": {},
   "outputs": [
    {
     "name": "stdout",
     "output_type": "stream",
     "text": [
      "(121, 'Thomus', 45000.89, 'Male', 'Dadar', 'BA')\n"
     ]
    }
   ],
   "source": [
    "data = 121,\"Thomus\",45000.89, \"Male\",\"Dadar\",\"BA\"\n",
    "print(data)"
   ]
  },
  {
   "cell_type": "code",
   "execution_count": 86,
   "id": "e0f8e7f7-5337-47d1-9977-2ea6c69632b6",
   "metadata": {},
   "outputs": [],
   "source": [
    "#empid,empname,empsal = data\n",
    "empid,empname,empsal,*other=data"
   ]
  },
  {
   "cell_type": "code",
   "execution_count": 88,
   "id": "92b23595-38e7-467c-b355-1fa5058f46a8",
   "metadata": {},
   "outputs": [
    {
     "name": "stdout",
     "output_type": "stream",
     "text": [
      "121\n",
      "Thomus\n",
      "45000.89\n",
      "Male Dadar BA\n"
     ]
    }
   ],
   "source": [
    "print(empid)\n",
    "print(empname)\n",
    "print(empsal)\n",
    "print(*other)"
   ]
  },
  {
   "cell_type": "code",
   "execution_count": 90,
   "id": "196fde08-ffcd-4d9c-8983-81e9ad97ee8f",
   "metadata": {},
   "outputs": [
    {
     "name": "stdout",
     "output_type": "stream",
     "text": [
      "315.67\n"
     ]
    }
   ],
   "source": [
    "data = (12,34,56,78,90,45.67)\n",
    "print(sum(data))"
   ]
  },
  {
   "cell_type": "code",
   "execution_count": 92,
   "id": "7f55bd0a-2e9c-4ea3-8b6b-54520c1feff2",
   "metadata": {},
   "outputs": [
    {
     "name": "stdout",
     "output_type": "stream",
     "text": [
      "90\n"
     ]
    }
   ],
   "source": [
    "print(max(data))"
   ]
  },
  {
   "cell_type": "code",
   "execution_count": 94,
   "id": "4352cee8-89e3-4be9-85a4-d8b6ae588c3f",
   "metadata": {},
   "outputs": [
    {
     "name": "stdout",
     "output_type": "stream",
     "text": [
      "12\n"
     ]
    }
   ],
   "source": [
    "print(min(data))"
   ]
  },
  {
   "cell_type": "code",
   "execution_count": 114,
   "id": "10f657f6-9ef6-4b2f-94f9-7ede75fad568",
   "metadata": {},
   "outputs": [
    {
     "name": "stdout",
     "output_type": "stream",
     "text": [
      "[2, 3, 54, 6]\n",
      "<class 'list'>\n"
     ]
    }
   ],
   "source": [
    "d = [2,3,54,6]\n",
    "print(d)\n",
    "print(type(data))"
   ]
  },
  {
   "cell_type": "code",
   "execution_count": 116,
   "id": "93a552bb-c541-402d-80d0-97db6b11a02d",
   "metadata": {},
   "outputs": [],
   "source": [
    "v = tuple(data)"
   ]
  },
  {
   "cell_type": "code",
   "execution_count": 118,
   "id": "ff44498e-5a4b-479d-ba90-f50d36e958c9",
   "metadata": {},
   "outputs": [
    {
     "name": "stdout",
     "output_type": "stream",
     "text": [
      "(2, 3, 54, 6)\n",
      "<class 'tuple'>\n"
     ]
    }
   ],
   "source": [
    "print(v)\n",
    "print(type(v))"
   ]
  },
  {
   "cell_type": "code",
   "execution_count": 121,
   "id": "fba8bfae-ade4-40c6-a016-d1a27484cb46",
   "metadata": {},
   "outputs": [
    {
     "name": "stdout",
     "output_type": "stream",
     "text": [
      "(12, 3, 53)\n",
      "<class 'tuple'>\n"
     ]
    }
   ],
   "source": [
    "a= 12,3,53\n",
    "print(a)\n",
    "print(type(a))"
   ]
  },
  {
   "cell_type": "code",
   "execution_count": 123,
   "id": "ccc0a936-92e4-4ba8-a721-ed1eae2116b7",
   "metadata": {},
   "outputs": [
    {
     "name": "stdout",
     "output_type": "stream",
     "text": [
      "[12, 3, 53]\n",
      "<class 'list'>\n"
     ]
    }
   ],
   "source": [
    "l = list(a)\n",
    "print(l)\n",
    "print(type(l))"
   ]
  },
  {
   "cell_type": "code",
   "execution_count": 132,
   "id": "c4457b7b-d805-49d4-9579-3db1ad914b6f",
   "metadata": {},
   "outputs": [
    {
     "name": "stdout",
     "output_type": "stream",
     "text": [
      "[-90, 4, 34, 45, 56, 78, 90, 45677]\n"
     ]
    }
   ],
   "source": [
    "data = [45677,-90,34,4,56,78,90,45]\n",
    "data.sort()\n",
    "print(data)"
   ]
  },
  {
   "cell_type": "code",
   "execution_count": 134,
   "id": "f00dc77f-703f-4137-8d48-386592cb0ca1",
   "metadata": {},
   "outputs": [
    {
     "name": "stdout",
     "output_type": "stream",
     "text": [
      "[45677, 90, 78, 56, 45, 34, 4, -90]\n"
     ]
    }
   ],
   "source": [
    "data = [45677,-90,34,4,56,78,90,45]\n",
    "data.sort(reverse=True)\n",
    "print(data)"
   ]
  },
  {
   "cell_type": "code",
   "execution_count": 136,
   "id": "0ddea729-f7c9-4d69-b568-8df27d09ce0f",
   "metadata": {},
   "outputs": [
    {
     "ename": "AttributeError",
     "evalue": "'tuple' object has no attribute 'sort'",
     "output_type": "error",
     "traceback": [
      "\u001b[1;31m---------------------------------------------------------------------------\u001b[0m",
      "\u001b[1;31mAttributeError\u001b[0m                            Traceback (most recent call last)",
      "Cell \u001b[1;32mIn[136], line 2\u001b[0m\n\u001b[0;32m      1\u001b[0m data \u001b[38;5;241m=\u001b[39m (\u001b[38;5;241m45677\u001b[39m,\u001b[38;5;241m-\u001b[39m\u001b[38;5;241m90\u001b[39m,\u001b[38;5;241m34\u001b[39m,\u001b[38;5;241m4\u001b[39m,\u001b[38;5;241m56\u001b[39m,\u001b[38;5;241m78\u001b[39m,\u001b[38;5;241m90\u001b[39m,\u001b[38;5;241m45\u001b[39m)\n\u001b[1;32m----> 2\u001b[0m data\u001b[38;5;241m.\u001b[39msort()\n\u001b[0;32m      3\u001b[0m \u001b[38;5;28mprint\u001b[39m(data)\n",
      "\u001b[1;31mAttributeError\u001b[0m: 'tuple' object has no attribute 'sort'"
     ]
    }
   ],
   "source": [
    "data = (45677,-90,34,4,56,78,90,45)\n",
    "data.sort()\n",
    "print(data)"
   ]
  },
  {
   "cell_type": "markdown",
   "id": "2bfd62d8-1424-47d4-856f-a90e6f5cf91e",
   "metadata": {},
   "source": [
    "# set"
   ]
  },
  {
   "cell_type": "code",
   "execution_count": 141,
   "id": "f734a8a9-1ee0-47e1-84ce-e06e2bc5b974",
   "metadata": {},
   "outputs": [
    {
     "name": "stdout",
     "output_type": "stream",
     "text": [
      "<class 'dict'>\n"
     ]
    }
   ],
   "source": [
    "var1 = {}\n",
    "print(type(var1))"
   ]
  },
  {
   "cell_type": "code",
   "execution_count": 143,
   "id": "89eef31c-9bb9-4431-b852-34375748bea0",
   "metadata": {},
   "outputs": [
    {
     "name": "stdout",
     "output_type": "stream",
     "text": [
      "<class 'set'>\n"
     ]
    }
   ],
   "source": [
    "var1 = {1}\n",
    "print(type(var1))"
   ]
  },
  {
   "cell_type": "code",
   "execution_count": 145,
   "id": "5d2f83fd-edfb-4ccb-ab84-1431da6cbe8e",
   "metadata": {},
   "outputs": [
    {
     "name": "stdout",
     "output_type": "stream",
     "text": [
      "<class 'set'>\n"
     ]
    }
   ],
   "source": [
    "var2 = set()\n",
    "print(type(var2))"
   ]
  },
  {
   "cell_type": "code",
   "execution_count": 149,
   "id": "f2645f33-0045-418d-8ae9-100659dcace1",
   "metadata": {},
   "outputs": [
    {
     "name": "stdout",
     "output_type": "stream",
     "text": [
      "{33, 2, 1, 12, 44, 333, 54, 55, 22, 444}\n"
     ]
    }
   ],
   "source": [
    "var3 = {12,33,33,33,33,44,54,22,22,1,2,333,444,55,12}\n",
    "print(var3)\n",
    "# duplicated treated as a unique"
   ]
  },
  {
   "cell_type": "code",
   "execution_count": 153,
   "id": "12e9d4e1-27e6-4fd0-993a-4ce404564744",
   "metadata": {},
   "outputs": [
    {
     "ename": "TypeError",
     "evalue": "'set' object is not subscriptable",
     "output_type": "error",
     "traceback": [
      "\u001b[1;31m---------------------------------------------------------------------------\u001b[0m",
      "\u001b[1;31mTypeError\u001b[0m                                 Traceback (most recent call last)",
      "Cell \u001b[1;32mIn[153], line 1\u001b[0m\n\u001b[1;32m----> 1\u001b[0m \u001b[38;5;28mprint\u001b[39m(var3[\u001b[38;5;241m0\u001b[39m])\n",
      "\u001b[1;31mTypeError\u001b[0m: 'set' object is not subscriptable"
     ]
    }
   ],
   "source": [
    "print(var3[0])\n",
    "# because set is unordered"
   ]
  },
  {
   "cell_type": "code",
   "execution_count": 157,
   "id": "0798591a-8689-4a2e-bf99-bde31b0e62f9",
   "metadata": {},
   "outputs": [
    {
     "name": "stdout",
     "output_type": "stream",
     "text": [
      "{34, 2, 3, 5, 67, 12, 78, 22, 54, 56, 90}\n"
     ]
    }
   ],
   "source": [
    "list1 = [12,34,22,12,56,78,90,54,34,2,3,5,67]\n",
    "var3 = set(list1)\n",
    "print(var3)"
   ]
  },
  {
   "cell_type": "code",
   "execution_count": 167,
   "id": "d9430981-d056-445a-b2d5-ba155ef42b4a",
   "metadata": {},
   "outputs": [
    {
     "name": "stdout",
     "output_type": "stream",
     "text": [
      "[34, 2, 3, 5, 67, 12, 78, 22, 54, 56, 90]\n",
      "<class 'list'>\n"
     ]
    }
   ],
   "source": [
    "l = list(var3)\n",
    "print(l)\n",
    "print(type(l))"
   ]
  },
  {
   "cell_type": "code",
   "execution_count": 169,
   "id": "4172de85-44cb-4fe2-a982-e9342357bed9",
   "metadata": {},
   "outputs": [],
   "source": [
    "l.sort()"
   ]
  },
  {
   "cell_type": "code",
   "execution_count": 171,
   "id": "c21745ca-6854-453f-827f-47af5dd6794a",
   "metadata": {},
   "outputs": [
    {
     "name": "stdout",
     "output_type": "stream",
     "text": [
      "[2, 3, 5, 12, 22, 34, 54, 56, 67, 78, 90]\n"
     ]
    }
   ],
   "source": [
    "print(l)"
   ]
  },
  {
   "cell_type": "code",
   "execution_count": 173,
   "id": "d9e6316c-043e-426c-896b-5a4f43370894",
   "metadata": {},
   "outputs": [
    {
     "name": "stdout",
     "output_type": "stream",
     "text": [
      "[90, 78, 67, 56, 54, 34, 22, 12, 5, 3, 2]\n"
     ]
    }
   ],
   "source": [
    "l.sort(reverse = True)\n",
    "print(l)"
   ]
  },
  {
   "cell_type": "code",
   "execution_count": 175,
   "id": "738e6936-f6bb-4df4-be00-6c91fc6855c7",
   "metadata": {},
   "outputs": [
    {
     "ename": "TypeError",
     "evalue": "unhashable type: 'list'",
     "output_type": "error",
     "traceback": [
      "\u001b[1;31m---------------------------------------------------------------------------\u001b[0m",
      "\u001b[1;31mTypeError\u001b[0m                                 Traceback (most recent call last)",
      "Cell \u001b[1;32mIn[175], line 1\u001b[0m\n\u001b[1;32m----> 1\u001b[0m data \u001b[38;5;241m=\u001b[39m {\u001b[38;5;241m33\u001b[39m,\u001b[38;5;241m2\u001b[39m,\u001b[38;5;241m1\u001b[39m,\u001b[38;5;241m12\u001b[39m,[\u001b[38;5;241m12\u001b[39m,\u001b[38;5;241m34\u001b[39m,\u001b[38;5;241m56\u001b[39m,\u001b[38;5;241m78\u001b[39m],\u001b[38;5;241m44\u001b[39m,\u001b[38;5;241m333\u001b[39m,\u001b[38;5;241m54\u001b[39m,\u001b[38;5;241m55\u001b[39m,\u001b[38;5;241m22\u001b[39m,\u001b[38;5;241m444\u001b[39m}\n\u001b[0;32m      2\u001b[0m \u001b[38;5;28mprint\u001b[39m(data)\n",
      "\u001b[1;31mTypeError\u001b[0m: unhashable type: 'list'"
     ]
    }
   ],
   "source": [
    "data = {33,2,1,12,[12,34,56,78],44,333,54,55,22,444}\n",
    "print(data)"
   ]
  },
  {
   "cell_type": "code",
   "execution_count": 185,
   "id": "f7cd555e-4b4a-4315-a762-45b03bacefb0",
   "metadata": {},
   "outputs": [
    {
     "name": "stdout",
     "output_type": "stream",
     "text": [
      "{33, 2, 1, (12, 34, 56, 78), 12, 44, 333, 54, 55, 22, 444}\n",
      "<class 'set'>\n"
     ]
    }
   ],
   "source": [
    "data = {33,2,1,12,(12,34,56,78),44,333,54,55,22,444}\n",
    "print(data)\n",
    "print(type(data))\n",
    "# forzent set = {()}"
   ]
  },
  {
   "cell_type": "markdown",
   "id": "fcb139cf-b4af-47db-92d1-7862745b2019",
   "metadata": {},
   "source": [
    "## adding an element inside a set"
   ]
  },
  {
   "cell_type": "markdown",
   "id": "047e1141-fd0f-4e47-9b1e-7941397fbdcf",
   "metadata": {},
   "source": [
    "### add : single element\n",
    "### update : multiple element can be added"
   ]
  },
  {
   "cell_type": "markdown",
   "id": "87125fd9-768a-4bdb-abd5-b8abf8ea16d5",
   "metadata": {},
   "source": [
    "### add"
   ]
  },
  {
   "cell_type": "code",
   "execution_count": 198,
   "id": "1c4fb673-ed8b-4614-94b5-66bb5e1a1507",
   "metadata": {},
   "outputs": [
    {
     "name": "stdout",
     "output_type": "stream",
     "text": [
      "{677, 56, 89, 234, 12, 45}\n"
     ]
    }
   ],
   "source": [
    "data = {12,12,234,56,677,89,45,12}\n",
    "print(data)"
   ]
  },
  {
   "cell_type": "code",
   "execution_count": 200,
   "id": "366b56d9-08a0-41cd-aede-1a80998702cb",
   "metadata": {},
   "outputs": [
    {
     "name": "stdout",
     "output_type": "stream",
     "text": [
      "{677, 56, 89, 234, 12, 45}\n"
     ]
    }
   ],
   "source": [
    "data.add(12)\n",
    "print(data)"
   ]
  },
  {
   "cell_type": "code",
   "execution_count": 202,
   "id": "9a0a7bba-3ffa-470f-993c-e537d2cff54f",
   "metadata": {},
   "outputs": [
    {
     "name": "stdout",
     "output_type": "stream",
     "text": [
      "{100, 677, 56, 89, 234, 12, 45}\n"
     ]
    }
   ],
   "source": [
    "data.add(100)\n",
    "print(data)"
   ]
  },
  {
   "cell_type": "code",
   "execution_count": 204,
   "id": "ad390be7-4ee0-4175-b7ac-885709e7df51",
   "metadata": {},
   "outputs": [
    {
     "name": "stdout",
     "output_type": "stream",
     "text": [
      "{100, 677, 900, 56, 89, 234, 12, 45}\n"
     ]
    }
   ],
   "source": [
    "data.add(900)\n",
    "print(data)"
   ]
  },
  {
   "cell_type": "markdown",
   "id": "28dd7157-989c-4721-977b-e0474a018941",
   "metadata": {},
   "source": [
    "### update"
   ]
  },
  {
   "cell_type": "code",
   "execution_count": 225,
   "id": "95ca5e76-fa55-4b37-97c8-e3eb0de4eec7",
   "metadata": {},
   "outputs": [
    {
     "name": "stdout",
     "output_type": "stream",
     "text": [
      "{900, 12, 89, 33, 100, 677, 234, 44, 45, 55, 56}\n"
     ]
    }
   ],
   "source": [
    "print(data)"
   ]
  },
  {
   "cell_type": "code",
   "execution_count": 227,
   "id": "58094354-e928-4aa1-abcc-b00ee90a2556",
   "metadata": {},
   "outputs": [],
   "source": [
    "data.update([900,677,12,33,44,55])"
   ]
  },
  {
   "cell_type": "code",
   "execution_count": 229,
   "id": "004dd59a-9d81-4b54-bb07-44827dd1fa53",
   "metadata": {},
   "outputs": [
    {
     "name": "stdout",
     "output_type": "stream",
     "text": [
      "{900, 12, 89, 33, 100, 677, 234, 44, 45, 55, 56}\n"
     ]
    }
   ],
   "source": [
    "print(data)"
   ]
  },
  {
   "cell_type": "raw",
   "id": "3a36b95b-029b-468b-9666-12a8b5d229b5",
   "metadata": {},
   "source": [
    "remove\n",
    "discard\n",
    "pop\n",
    "clear\n",
    "del"
   ]
  },
  {
   "cell_type": "markdown",
   "id": "202656c2-3a0f-46bf-9e16-2698005affc1",
   "metadata": {},
   "source": [
    "# remove\n",
    "### it will give an error if element will not present"
   ]
  },
  {
   "cell_type": "code",
   "execution_count": 234,
   "id": "fe348f9a-f44a-400d-87bd-3c76de08914b",
   "metadata": {},
   "outputs": [
    {
     "name": "stdout",
     "output_type": "stream",
     "text": [
      "{900, 12, 89, 33, 100, 677, 234, 44, 45, 55, 56}\n"
     ]
    }
   ],
   "source": [
    "print(data)"
   ]
  },
  {
   "cell_type": "code",
   "execution_count": 236,
   "id": "164c547f-83bb-4dca-9629-77086d731542",
   "metadata": {},
   "outputs": [
    {
     "ename": "KeyError",
     "evalue": "909",
     "output_type": "error",
     "traceback": [
      "\u001b[1;31m---------------------------------------------------------------------------\u001b[0m",
      "\u001b[1;31mKeyError\u001b[0m                                  Traceback (most recent call last)",
      "Cell \u001b[1;32mIn[236], line 1\u001b[0m\n\u001b[1;32m----> 1\u001b[0m data\u001b[38;5;241m.\u001b[39mremove(\u001b[38;5;241m909\u001b[39m)\n",
      "\u001b[1;31mKeyError\u001b[0m: 909"
     ]
    }
   ],
   "source": [
    "data.remove(909)"
   ]
  },
  {
   "cell_type": "markdown",
   "id": "9369abb2-7c7c-48a8-89ef-f07d86543883",
   "metadata": {},
   "source": [
    "# discard()\n",
    "## if element will not present it will not give an error"
   ]
  },
  {
   "cell_type": "code",
   "execution_count": 240,
   "id": "b6ee7e33-1828-4533-a8e6-9a144b9184c2",
   "metadata": {},
   "outputs": [
    {
     "name": "stdout",
     "output_type": "stream",
     "text": [
      "{900, 12, 89, 33, 100, 677, 234, 44, 45, 55, 56}\n"
     ]
    }
   ],
   "source": [
    "print(data)"
   ]
  },
  {
   "cell_type": "code",
   "execution_count": 242,
   "id": "217aa358-84ce-453b-8b23-3fb4783b04a7",
   "metadata": {},
   "outputs": [],
   "source": [
    "data.discard(909)"
   ]
  },
  {
   "cell_type": "code",
   "execution_count": 7,
   "id": "ec5eb574-1a79-495d-8dbf-6d908239428b",
   "metadata": {},
   "outputs": [
    {
     "name": "stdout",
     "output_type": "stream",
     "text": [
      "(12, 34, 56, 78)\n",
      "<class 'tuple'>\n"
     ]
    }
   ],
   "source": [
    "data = 12,34,56,78\n",
    "print(data)\n",
    "print(type(data))"
   ]
  },
  {
   "cell_type": "code",
   "execution_count": 9,
   "id": "7e0a6367-1b5e-43cb-b9f5-d5112cf1a3bf",
   "metadata": {},
   "outputs": [
    {
     "name": "stdout",
     "output_type": "stream",
     "text": [
      "[12, 34, 56, 78]\n",
      "<class 'list'>\n"
     ]
    }
   ],
   "source": [
    "list1 = list(data)\n",
    "print(list1)\n",
    "print(type(list1))"
   ]
  },
  {
   "cell_type": "code",
   "execution_count": 11,
   "id": "b6e51ec1-d2df-4dac-9a91-8c73a7822b5e",
   "metadata": {},
   "outputs": [
    {
     "name": "stdout",
     "output_type": "stream",
     "text": [
      "[12, 34, 56, 78, 100]\n"
     ]
    }
   ],
   "source": [
    "list1.append(100)\n",
    "print(list1)"
   ]
  },
  {
   "cell_type": "code",
   "execution_count": 17,
   "id": "bba97252-fc6d-4e57-9626-0309f08578b7",
   "metadata": {},
   "outputs": [
    {
     "name": "stdout",
     "output_type": "stream",
     "text": [
      "(12, 34, 56, 78, 100)\n",
      "<class 'tuple'>\n"
     ]
    }
   ],
   "source": [
    "data = tuple(list1)\n",
    "print(data)\n",
    "print(type(data))"
   ]
  },
  {
   "cell_type": "markdown",
   "id": "7ea5bb61-d99d-4c66-a8fd-7b30db61789d",
   "metadata": {},
   "source": [
    "## pop()\n",
    "## any random element"
   ]
  },
  {
   "cell_type": "code",
   "execution_count": 30,
   "id": "2adb4e45-baf5-499f-8206-2f6509a28030",
   "metadata": {},
   "outputs": [
    {
     "name": "stdout",
     "output_type": "stream",
     "text": [
      "{34, 67, 4, 12, 78, 55, 56, 90}\n"
     ]
    }
   ],
   "source": [
    "set1 = {12,34,56,78,90,4,55,67,12}\n",
    "print(set1)"
   ]
  },
  {
   "cell_type": "code",
   "execution_count": 32,
   "id": "2daaa5a0-d7f9-4221-877e-192f9e2c660a",
   "metadata": {},
   "outputs": [
    {
     "name": "stdout",
     "output_type": "stream",
     "text": [
      "{34, 67, 4, 12, 78, 55, 56, 90}\n",
      "{67, 4, 12, 78, 55, 56, 90}\n"
     ]
    }
   ],
   "source": [
    "print(set1)\n",
    "set1.pop()\n",
    "print(set1)"
   ]
  },
  {
   "cell_type": "code",
   "execution_count": 34,
   "id": "875c903e-2094-42d9-933a-5bedfc8e1294",
   "metadata": {},
   "outputs": [
    {
     "name": "stdout",
     "output_type": "stream",
     "text": [
      "{67, 4, 12, 78, 55, 56, 90}\n",
      "{4, 12, 78, 55, 56, 90}\n"
     ]
    }
   ],
   "source": [
    "print(set1)\n",
    "set1.pop()\n",
    "print(set1)"
   ]
  },
  {
   "cell_type": "markdown",
   "id": "0c17ed05-fece-48f7-bc1d-27c94c8673a6",
   "metadata": {},
   "source": [
    "## clear()"
   ]
  },
  {
   "cell_type": "code",
   "execution_count": 39,
   "id": "65118967-38c0-40e6-b96a-75d234c25559",
   "metadata": {},
   "outputs": [
    {
     "name": "stdout",
     "output_type": "stream",
     "text": [
      "set()\n"
     ]
    }
   ],
   "source": [
    "set1.clear()\n",
    "print(set1)"
   ]
  },
  {
   "cell_type": "code",
   "execution_count": 43,
   "id": "f5b3eb48-fbaa-4bd9-8a32-d83f941bac4d",
   "metadata": {},
   "outputs": [
    {
     "name": "stdout",
     "output_type": "stream",
     "text": [
      "set()\n"
     ]
    }
   ],
   "source": [
    "print(set1)"
   ]
  },
  {
   "cell_type": "markdown",
   "id": "7acb52fe-9aa3-4a17-97db-1039167c5276",
   "metadata": {},
   "source": [
    "## del"
   ]
  },
  {
   "cell_type": "code",
   "execution_count": 65,
   "id": "8f8a96a8-5a3d-4698-84d7-3133297856b9",
   "metadata": {},
   "outputs": [
    {
     "name": "stdout",
     "output_type": "stream",
     "text": [
      "{34, 67, 4, 12, 78, 55, 56, 90}\n"
     ]
    }
   ],
   "source": [
    "set1 = {12,34,56,78,90,4,55,67,12}\n",
    "print(set1)"
   ]
  },
  {
   "cell_type": "code",
   "execution_count": 67,
   "id": "2f43de9c-0448-4335-8f95-17a10f656d5c",
   "metadata": {},
   "outputs": [],
   "source": [
    "del set1\n",
    "# memory of set1 will deleted"
   ]
  },
  {
   "cell_type": "code",
   "execution_count": 69,
   "id": "a5f5f89e-9f07-4c74-9537-64cbfae6ef60",
   "metadata": {},
   "outputs": [
    {
     "ename": "NameError",
     "evalue": "name 'set1' is not defined",
     "output_type": "error",
     "traceback": [
      "\u001b[1;31m---------------------------------------------------------------------------\u001b[0m",
      "\u001b[1;31mNameError\u001b[0m                                 Traceback (most recent call last)",
      "Cell \u001b[1;32mIn[69], line 1\u001b[0m\n\u001b[1;32m----> 1\u001b[0m \u001b[38;5;28mprint\u001b[39m(set1)\n",
      "\u001b[1;31mNameError\u001b[0m: name 'set1' is not defined"
     ]
    }
   ],
   "source": [
    "print(set1)"
   ]
  },
  {
   "cell_type": "markdown",
   "id": "b584652a-461f-4e35-b48e-21a5976ccdeb",
   "metadata": {},
   "source": [
    "## union\n",
    "## it will merge both the set and duplicate element will be entered once"
   ]
  },
  {
   "cell_type": "code",
   "execution_count": 72,
   "id": "d5ff1616-8977-4b2e-b36c-86311aeb7cca",
   "metadata": {},
   "outputs": [
    {
     "name": "stdout",
     "output_type": "stream",
     "text": [
      "{'Tamil', 'English', 'French', 'Hindi', 'Marathi'}\n"
     ]
    }
   ],
   "source": [
    "set1 = {\"English\",\"Hindi\",\"Marathi\"}\n",
    "set2 = {\"Tamil\",\"French\",\"English\"}\n",
    "\n",
    "demo = set1.union(set2)\n",
    "print(demo)"
   ]
  },
  {
   "cell_type": "code",
   "execution_count": 74,
   "id": "6576a33b-7335-49ad-8fc1-0056485a62f8",
   "metadata": {},
   "outputs": [
    {
     "name": "stdout",
     "output_type": "stream",
     "text": [
      "{'Tamil', 'English', 'French', 'Hindi', 'Marathi'}\n"
     ]
    }
   ],
   "source": [
    "var1 = set1 | set2\n",
    "print(var1)"
   ]
  },
  {
   "cell_type": "markdown",
   "id": "e454bf17-8864-45ea-9367-c1846ee46ee9",
   "metadata": {},
   "source": [
    "# Intersection\n",
    "## Common element in both the set"
   ]
  },
  {
   "cell_type": "code",
   "execution_count": 77,
   "id": "26a90545-2f0f-4416-83a4-4678f610b8d6",
   "metadata": {},
   "outputs": [
    {
     "name": "stdout",
     "output_type": "stream",
     "text": [
      "{'Hindi', 'English', 'Marathi'}\n",
      "{'Tamil', 'English', 'French'}\n"
     ]
    }
   ],
   "source": [
    "print(set1)\n",
    "print(set2)"
   ]
  },
  {
   "cell_type": "code",
   "execution_count": 83,
   "id": "0a86a35e-2ae8-4d71-9dc9-78af3e85e4bb",
   "metadata": {},
   "outputs": [
    {
     "name": "stdout",
     "output_type": "stream",
     "text": [
      "{'English'}\n"
     ]
    }
   ],
   "source": [
    "data = set1.intersection(set2)\n",
    "print(data)"
   ]
  },
  {
   "cell_type": "code",
   "execution_count": 85,
   "id": "d60ece3b-5bcd-4b27-8bb0-04fdecbcd187",
   "metadata": {},
   "outputs": [
    {
     "name": "stdout",
     "output_type": "stream",
     "text": [
      "{'English'}\n"
     ]
    }
   ],
   "source": [
    "data2 = set1 & set2\n",
    "print(data2)"
   ]
  },
  {
   "cell_type": "code",
   "execution_count": 87,
   "id": "45e4e1d9-9a2b-4c65-9eda-17cee015b40b",
   "metadata": {},
   "outputs": [
    {
     "name": "stdout",
     "output_type": "stream",
     "text": [
      "{'Hindi', 'English', 'Marathi'}\n",
      "{'Tamil', 'English', 'French'}\n"
     ]
    }
   ],
   "source": [
    "print(set1)\n",
    "print(set2)"
   ]
  },
  {
   "cell_type": "markdown",
   "id": "35fc3adf-f3d6-4c98-944a-239384d749f7",
   "metadata": {},
   "source": [
    "## store the resultant of intersection in set1"
   ]
  },
  {
   "cell_type": "code",
   "execution_count": 90,
   "id": "ca361c17-17b5-4da3-ae80-8bdc41f7dc03",
   "metadata": {},
   "outputs": [
    {
     "name": "stdout",
     "output_type": "stream",
     "text": [
      "{'English'}\n",
      "{'Tamil', 'English', 'French'}\n"
     ]
    }
   ],
   "source": [
    "set1.intersection_update(set2)\n",
    "print(set1)\n",
    "print(set2)"
   ]
  },
  {
   "cell_type": "markdown",
   "id": "2301bd91-fbb6-42a7-b4db-49a1171c76f7",
   "metadata": {},
   "source": [
    "# symmetric difference\n",
    "## it is a opposite of intersection"
   ]
  },
  {
   "cell_type": "code",
   "execution_count": 113,
   "id": "3f05795f-5d49-4498-b414-fc48a98d0f25",
   "metadata": {},
   "outputs": [],
   "source": [
    "set1 = {'English','Hindi','Marathi'}"
   ]
  },
  {
   "cell_type": "code",
   "execution_count": 115,
   "id": "1805cb08-f1ca-4db2-bec5-d4bbe2afb02b",
   "metadata": {},
   "outputs": [
    {
     "name": "stdout",
     "output_type": "stream",
     "text": [
      "{'Hindi', 'English', 'Marathi'}\n",
      "{'Hindi', 'Marathi', 'Tamil', 'French'}\n"
     ]
    }
   ],
   "source": [
    "print(set1)\n",
    "print(set2)"
   ]
  },
  {
   "cell_type": "code",
   "execution_count": 117,
   "id": "2fa08b61-6506-4083-9d46-66a7c7f0058e",
   "metadata": {},
   "outputs": [
    {
     "name": "stdout",
     "output_type": "stream",
     "text": [
      "{'Tamil', 'English', 'French'}\n"
     ]
    }
   ],
   "source": [
    "new_set = set1.symmetric_difference(set2)\n",
    "print(new_set)\n",
    "# remove the unique values"
   ]
  },
  {
   "cell_type": "code",
   "execution_count": 119,
   "id": "36dcedfe-2bd3-4868-b4c1-9a0d83ee9cd0",
   "metadata": {},
   "outputs": [
    {
     "name": "stdout",
     "output_type": "stream",
     "text": [
      "{'Tamil', 'English', 'French'}\n"
     ]
    }
   ],
   "source": [
    "new_set2 = set1 ^ set2\n",
    "print(new_set2)"
   ]
  },
  {
   "cell_type": "markdown",
   "id": "90763694-050d-4a30-ad4a-23c271369661",
   "metadata": {},
   "source": [
    "## set2 save the resultant of sym_diff"
   ]
  },
  {
   "cell_type": "code",
   "execution_count": 107,
   "id": "9086bf68-2f9b-496b-8974-e39fc8933762",
   "metadata": {},
   "outputs": [
    {
     "name": "stdout",
     "output_type": "stream",
     "text": [
      "{'Hindi', 'Marathi', 'Tamil', 'French'}\n",
      "{'Hindi', 'English', 'Marathi'}\n"
     ]
    }
   ],
   "source": [
    "set2.symmetric_difference_update(set1)\n",
    "print(set2)\n",
    "print(set1)"
   ]
  },
  {
   "cell_type": "markdown",
   "id": "ec6bc42a-2e9e-4521-a1c0-41a070fa6efe",
   "metadata": {},
   "source": [
    "# Difference"
   ]
  },
  {
   "cell_type": "code",
   "execution_count": 1,
   "id": "27102489-8f47-46c5-976c-be8f9ac8087a",
   "metadata": {},
   "outputs": [],
   "source": [
    "set1 = {\"HTML\",\"CSS\",\"Javascript\",\"Python\",\"English\",\"Math\"}\n",
    "set2 = {\"Python\",\"angular\",\"Nodesjs\",\"English\",\"Math\"}"
   ]
  },
  {
   "cell_type": "code",
   "execution_count": 3,
   "id": "59425b9d-4980-4271-afc1-4dec6579cf2b",
   "metadata": {},
   "outputs": [
    {
     "name": "stdout",
     "output_type": "stream",
     "text": [
      "{'HTML', 'CSS', 'Math', 'Python', 'Javascript', 'English'}\n",
      "{'angular', 'Math', 'Nodesjs', 'Python', 'English'}\n"
     ]
    }
   ],
   "source": [
    "print(set1)\n",
    "print(set2)"
   ]
  },
  {
   "cell_type": "code",
   "execution_count": 5,
   "id": "053e4b12-8bcd-4c5a-b335-a6ef44249764",
   "metadata": {},
   "outputs": [
    {
     "name": "stdout",
     "output_type": "stream",
     "text": [
      "{'English', 'Math', 'Python'}\n"
     ]
    }
   ],
   "source": [
    "data = set1.intersection(set2)\n",
    "print(data)"
   ]
  },
  {
   "cell_type": "code",
   "execution_count": 7,
   "id": "d470b333-161a-41b3-b096-a1290cc80a83",
   "metadata": {},
   "outputs": [
    {
     "name": "stdout",
     "output_type": "stream",
     "text": [
      "{'Javascript', 'HTML', 'CSS'}\n"
     ]
    }
   ],
   "source": [
    "new_data = set1 - set2\n",
    "print(new_data)"
   ]
  },
  {
   "cell_type": "code",
   "execution_count": 9,
   "id": "fc0011b7-9968-4397-94a0-3355b66cfdcd",
   "metadata": {},
   "outputs": [
    {
     "name": "stdout",
     "output_type": "stream",
     "text": [
      "{'HTML', 'CSS', 'Javascript'}\n"
     ]
    }
   ],
   "source": [
    "set1.difference_update(set2)\n",
    "print(set1)"
   ]
  },
  {
   "cell_type": "code",
   "execution_count": 12,
   "id": "338e8d95-1ec4-447b-bfb6-9b15ce5a7097",
   "metadata": {},
   "outputs": [
    {
     "name": "stdout",
     "output_type": "stream",
     "text": [
      "{9056, 34, 56, 12, 78}\n"
     ]
    }
   ],
   "source": [
    "var1 = {12,34,56,78,9056,34,12}\n",
    "print(var1)"
   ]
  },
  {
   "cell_type": "code",
   "execution_count": 14,
   "id": "edd3e785-56cb-4207-a54f-ead1ea72a74f",
   "metadata": {},
   "outputs": [
    {
     "name": "stdout",
     "output_type": "stream",
     "text": [
      "{9056, 400, 34, 56, 12, 78}\n"
     ]
    }
   ],
   "source": [
    "var1.add(400)\n",
    "print(var1)"
   ]
  },
  {
   "cell_type": "code",
   "execution_count": 16,
   "id": "71cf9517-aef9-471b-9bc3-0357ee9f8f90",
   "metadata": {},
   "outputs": [
    {
     "name": "stdout",
     "output_type": "stream",
     "text": [
      "{400, 34, 56, 12, 78}\n"
     ]
    }
   ],
   "source": [
    "var1.remove(9056)\n",
    "print(var1)"
   ]
  },
  {
   "cell_type": "markdown",
   "id": "4570cae5-edb5-4722-a787-e66e86621520",
   "metadata": {},
   "source": [
    "# Immutable\n",
    "## Frozen Set : A set inside a tuple"
   ]
  },
  {
   "cell_type": "code",
   "execution_count": 24,
   "id": "6054d135-d902-49ec-bb82-b87f37983f5a",
   "metadata": {},
   "outputs": [
    {
     "name": "stdout",
     "output_type": "stream",
     "text": [
      "frozenset({34, 2, 3, 4, 12, 78, 56, 90})\n",
      "<class 'frozenset'>\n"
     ]
    }
   ],
   "source": [
    "set22 = frozenset((12,34,56,78,90,2,3,4))\n",
    "print(set22)\n",
    "print(type(set22))"
   ]
  },
  {
   "cell_type": "code",
   "execution_count": 28,
   "id": "3e17595b-5688-4ef4-b634-0a51edb3b5e0",
   "metadata": {},
   "outputs": [
    {
     "ename": "AttributeError",
     "evalue": "'frozenset' object has no attribute 'add'",
     "output_type": "error",
     "traceback": [
      "\u001b[1;31m---------------------------------------------------------------------------\u001b[0m",
      "\u001b[1;31mAttributeError\u001b[0m                            Traceback (most recent call last)",
      "Cell \u001b[1;32mIn[28], line 1\u001b[0m\n\u001b[1;32m----> 1\u001b[0m set22\u001b[38;5;241m.\u001b[39madd(\u001b[38;5;241m400\u001b[39m)\n",
      "\u001b[1;31mAttributeError\u001b[0m: 'frozenset' object has no attribute 'add'"
     ]
    }
   ],
   "source": [
    "set22.add(400)\n",
    "# It gives an error because frozen set is a immutable"
   ]
  },
  {
   "cell_type": "markdown",
   "id": "e4aa670c-b4ab-4d3e-be66-403e203c4b21",
   "metadata": {},
   "source": [
    "# Dictionary\n",
    "## unique, ordered, mutable"
   ]
  },
  {
   "cell_type": "code",
   "execution_count": 31,
   "id": "04c513ae-6c42-4f2b-a884-5f295167d54c",
   "metadata": {},
   "outputs": [
    {
     "name": "stdout",
     "output_type": "stream",
     "text": [
      "<class 'dict'>\n"
     ]
    }
   ],
   "source": [
    "data = {}\n",
    "print(type(data))"
   ]
  },
  {
   "cell_type": "code",
   "execution_count": 33,
   "id": "c83023da-8087-446a-9433-8b3b0c58fef1",
   "metadata": {},
   "outputs": [
    {
     "name": "stdout",
     "output_type": "stream",
     "text": [
      "<class 'dict'>\n"
     ]
    }
   ],
   "source": [
    "data2 = dict()\n",
    "print(type(data))"
   ]
  },
  {
   "cell_type": "code",
   "execution_count": 35,
   "id": "813fbabf-aaa2-4a34-9f3a-403d24e69fd4",
   "metadata": {},
   "outputs": [
    {
     "name": "stdout",
     "output_type": "stream",
     "text": [
      "{'Name': 'Abhi', 'Age': 34, 'Location': 'Mumbai'}\n"
     ]
    }
   ],
   "source": [
    "data = {\"Name\":\"Abhi\", \"Age\":34, \"Location\":\"Mumbai\"}\n",
    "print(data)"
   ]
  },
  {
   "cell_type": "code",
   "execution_count": 37,
   "id": "4392e960-1fac-435d-bb3d-37cb37c1cf77",
   "metadata": {},
   "outputs": [
    {
     "name": "stdout",
     "output_type": "stream",
     "text": [
      "{1: 'Abhi', 2: 'Aditi', 3: 'Mahi'}\n"
     ]
    }
   ],
   "source": [
    "data2 = {1:\"Abhi\", 2:\"Aditi\", 3:\"Mahi\"}\n",
    "print(data2)"
   ]
  },
  {
   "cell_type": "code",
   "execution_count": 39,
   "id": "0ae04368-5b59-4a06-a69b-15e010c2fc04",
   "metadata": {},
   "outputs": [
    {
     "name": "stdout",
     "output_type": "stream",
     "text": [
      "{12.1: 'Abhi', 12.2: 'Mahi'}\n"
     ]
    }
   ],
   "source": [
    "data3 = {12.1:\"Abhi\",12.2:\"Mahi\"}\n",
    "print(data3)"
   ]
  },
  {
   "cell_type": "code",
   "execution_count": 41,
   "id": "f6c268b3-5f8a-4b56-a390-1cf9b2a832d6",
   "metadata": {},
   "outputs": [
    {
     "name": "stdout",
     "output_type": "stream",
     "text": [
      "Abhi\n"
     ]
    }
   ],
   "source": [
    "print(data[\"Name\"])"
   ]
  },
  {
   "cell_type": "code",
   "execution_count": 43,
   "id": "cfeda718-bbc0-400f-b369-75638c8b0428",
   "metadata": {},
   "outputs": [
    {
     "name": "stdout",
     "output_type": "stream",
     "text": [
      "Aditi\n"
     ]
    }
   ],
   "source": [
    "print(data2[2])"
   ]
  },
  {
   "cell_type": "code",
   "execution_count": 45,
   "id": "44f81840-53f9-4ab7-ba67-0ca699cfc987",
   "metadata": {},
   "outputs": [
    {
     "name": "stdout",
     "output_type": "stream",
     "text": [
      "Mahi\n"
     ]
    }
   ],
   "source": [
    "print(data3[12.2])"
   ]
  },
  {
   "cell_type": "code",
   "execution_count": 47,
   "id": "1cf7deba-acc9-4617-a3d8-f2aa1c98439d",
   "metadata": {},
   "outputs": [
    {
     "name": "stdout",
     "output_type": "stream",
     "text": [
      "{'Name': 'Abhi', 'Age': 34, 'Location': 'Mumbai'}\n"
     ]
    }
   ],
   "source": [
    "print(data)"
   ]
  },
  {
   "cell_type": "code",
   "execution_count": 49,
   "id": "5dff01d6-6570-4d72-a3b0-63ef06251d4a",
   "metadata": {},
   "outputs": [
    {
     "name": "stdout",
     "output_type": "stream",
     "text": [
      "Mumbai\n"
     ]
    }
   ],
   "source": [
    "print(data.get(\"Location\"))"
   ]
  },
  {
   "cell_type": "code",
   "execution_count": 51,
   "id": "999b6855-f246-4810-8226-081e50cdfbca",
   "metadata": {},
   "outputs": [
    {
     "name": "stdout",
     "output_type": "stream",
     "text": [
      "dict_values(['Abhi', 34, 'Mumbai'])\n"
     ]
    }
   ],
   "source": [
    "print(data.values())"
   ]
  },
  {
   "cell_type": "code",
   "execution_count": 53,
   "id": "3ef92266-52cc-45e9-a079-43043e3071b3",
   "metadata": {},
   "outputs": [
    {
     "name": "stdout",
     "output_type": "stream",
     "text": [
      "dict_keys(['Name', 'Age', 'Location'])\n"
     ]
    }
   ],
   "source": [
    "print(data.keys())"
   ]
  },
  {
   "cell_type": "code",
   "execution_count": 55,
   "id": "4a00d37b-e5e2-4979-8f14-90b179921e50",
   "metadata": {},
   "outputs": [
    {
     "name": "stdout",
     "output_type": "stream",
     "text": [
      "dict_items([('Name', 'Abhi'), ('Age', 34), ('Location', 'Mumbai')])\n"
     ]
    }
   ],
   "source": [
    "print(data.items())"
   ]
  },
  {
   "cell_type": "markdown",
   "id": "53b358b0-65b4-4733-982d-fce464f0c209",
   "metadata": {},
   "source": [
    "### Modification"
   ]
  },
  {
   "cell_type": "code",
   "execution_count": 59,
   "id": "f93ccb39-88ec-4a63-843a-a479d075c9a7",
   "metadata": {},
   "outputs": [
    {
     "name": "stdout",
     "output_type": "stream",
     "text": [
      "{'Name': 'Abhi', 'Age': 34, 'Location': 'Mumbai'}\n"
     ]
    }
   ],
   "source": [
    "print(data)"
   ]
  },
  {
   "cell_type": "code",
   "execution_count": 61,
   "id": "56fe5b87-3902-42cb-8cbc-082d3b1c2a59",
   "metadata": {},
   "outputs": [
    {
     "name": "stdout",
     "output_type": "stream",
     "text": [
      "{'Name': 'Abhi', 'Age': 34, 'Location': 'Rajasthan'}\n"
     ]
    }
   ],
   "source": [
    "data[\"Location\"] = \"Rajasthan\"\n",
    "print(data)\n",
    "# here location will be updated, value will update if key present"
   ]
  },
  {
   "cell_type": "code",
   "execution_count": 63,
   "id": "31ef701b-6fac-49b9-809a-c47c8f3b736e",
   "metadata": {},
   "outputs": [
    {
     "name": "stdout",
     "output_type": "stream",
     "text": [
      "{'Name': 'Abhi', 'Age': 34, 'Location': 'Rajasthan', 'Education': 'DR'}\n"
     ]
    }
   ],
   "source": [
    "data[\"Education\"] = \"DR\"\n",
    "print(data)\n",
    "# here a new key with value will updated, if key will new then it will added"
   ]
  },
  {
   "cell_type": "code",
   "execution_count": 65,
   "id": "dc9c7ce7-e710-44fe-9046-b89c66ff1aaa",
   "metadata": {},
   "outputs": [
    {
     "name": "stdout",
     "output_type": "stream",
     "text": [
      "{'Name': 'Abhi', 'Age': 12, 'Location': 'Rajasthan', 'Education': 'DR'}\n"
     ]
    }
   ],
   "source": [
    "data[\"Age\"] = 12\n",
    "print(data)"
   ]
  },
  {
   "cell_type": "code",
   "execution_count": 67,
   "id": "54cf11d4-b218-471b-9bb7-686457fa93c0",
   "metadata": {},
   "outputs": [
    {
     "name": "stdout",
     "output_type": "stream",
     "text": [
      "{'Name': 'Abhi', 'Age': 12, 'Location': 'Rajasthan', 'Education': 'DR', 'Contact': 7366939192}\n"
     ]
    }
   ],
   "source": [
    "data[\"Contact\"] = 7366939192\n",
    "print(data)"
   ]
  },
  {
   "cell_type": "code",
   "execution_count": 69,
   "id": "b6142b94-00b1-43bc-85b6-fd4ac2c997b6",
   "metadata": {},
   "outputs": [
    {
     "name": "stdout",
     "output_type": "stream",
     "text": [
      "{'Name': 'Abhi', 'Age': 12, 'Location': 'Rajasthan', 'Education': 'DR', 'Contact': 7366939192, 'Emai': 'aravsingh192@gmail.com'}\n"
     ]
    }
   ],
   "source": [
    "data.update({\"Emai\":\"aravsingh192@gmail.com\"})\n",
    "print(data)"
   ]
  },
  {
   "cell_type": "code",
   "execution_count": 71,
   "id": "ff93618c-02ed-4799-a56c-72af95e014e6",
   "metadata": {},
   "outputs": [
    {
     "name": "stdout",
     "output_type": "stream",
     "text": [
      "{'Name': 'Sujal', 'Age': 12, 'Location': 'Rajasthan', 'Education': 'DR', 'Contact': 7366939192, 'Emai': 'aravsingh192@gmail.com'}\n"
     ]
    }
   ],
   "source": [
    "data.update({\"Name\":\"Sujal\"})\n",
    "print(data)"
   ]
  },
  {
   "cell_type": "markdown",
   "id": "d6cb8844-614e-416b-a4f0-1bde4c48c148",
   "metadata": {},
   "source": [
    "#### if the key is already present then dont go for update"
   ]
  },
  {
   "cell_type": "code",
   "execution_count": 76,
   "id": "102d485c-e23b-417b-b571-6b503249b38e",
   "metadata": {},
   "outputs": [
    {
     "name": "stdout",
     "output_type": "stream",
     "text": [
      "{'Name': 'Sujal', 'Age': 12, 'Location': 'Pune', 'Education': 'DR', 'Contact': 7366939192, 'Emai': 'aravsingh192@gmail.com'}\n"
     ]
    }
   ],
   "source": [
    "data.update({\"Location\":'Pune'})\n",
    "print(data)"
   ]
  },
  {
   "cell_type": "markdown",
   "id": "55ac2434-0369-4021-a2a2-444b9eb5f28e",
   "metadata": {},
   "source": [
    "#### if key is not there then only add the key and its"
   ]
  },
  {
   "cell_type": "code",
   "execution_count": 79,
   "id": "f4f2bbcb-a3a7-438a-863f-2038866ad086",
   "metadata": {},
   "outputs": [
    {
     "name": "stdout",
     "output_type": "stream",
     "text": [
      "{'Name': 'Sujal', 'Age': 12, 'Location': 'Pune', 'Education': 'DR', 'Contact': 7366939192, 'Emai': 'aravsingh192@gmail.com'}\n"
     ]
    }
   ],
   "source": [
    "data.setdefault(\"Name\",\"Priya\")\n",
    "print(data)"
   ]
  },
  {
   "cell_type": "code",
   "execution_count": 81,
   "id": "cf581ff3-1eb6-46ec-97b4-17ce608a5ae4",
   "metadata": {},
   "outputs": [
    {
     "name": "stdout",
     "output_type": "stream",
     "text": [
      "{'Name': 'Sujal', 'Age': 12, 'Location': 'Pune', 'Education': 'DR', 'Contact': 7366939192, 'Emai': 'aravsingh192@gmail.com', 'Gender': 'Male'}\n"
     ]
    }
   ],
   "source": [
    "data.setdefault(\"Gender\",\"Male\")\n",
    "print(data)"
   ]
  },
  {
   "cell_type": "code",
   "execution_count": 105,
   "id": "51dad767-74e0-4ad3-8131-45d989c60a77",
   "metadata": {},
   "outputs": [],
   "source": [
    "# update : modify\n",
    "# setdefault : if key is already being present it will not going to modify"
   ]
  },
  {
   "cell_type": "markdown",
   "id": "491da9a6-fc1c-4fcd-8ff6-3be200a3b44f",
   "metadata": {},
   "source": [
    "## pop(): to remove specified key"
   ]
  },
  {
   "cell_type": "code",
   "execution_count": 86,
   "id": "68bc6893-06bf-4e44-b237-7e642f3639f4",
   "metadata": {},
   "outputs": [
    {
     "name": "stdout",
     "output_type": "stream",
     "text": [
      "{'Name': 'Sujal', 'Age': 12, 'Location': 'Pune', 'Contact': 7366939192, 'Emai': 'aravsingh192@gmail.com', 'Gender': 'Male'}\n"
     ]
    }
   ],
   "source": [
    "data.pop('Education')\n",
    "print(data)"
   ]
  },
  {
   "cell_type": "markdown",
   "id": "8b2f2c96-7a1f-4500-b587-6b7e3e16eb07",
   "metadata": {},
   "source": [
    "## popitem() : to remove the last value"
   ]
  },
  {
   "cell_type": "code",
   "execution_count": 89,
   "id": "25108682-1b03-402e-8aae-b0bba6b47dba",
   "metadata": {},
   "outputs": [
    {
     "name": "stdout",
     "output_type": "stream",
     "text": [
      "{'Name': 'Sujal', 'Age': 12, 'Location': 'Pune', 'Contact': 7366939192, 'Emai': 'aravsingh192@gmail.com'}\n"
     ]
    }
   ],
   "source": [
    "data.popitem()\n",
    "print(data)"
   ]
  },
  {
   "cell_type": "code",
   "execution_count": 91,
   "id": "c69fe521-3440-4b5c-91f6-0a461e8352cc",
   "metadata": {},
   "outputs": [
    {
     "ename": "TypeError",
     "evalue": "pop expected at least 1 argument, got 0",
     "output_type": "error",
     "traceback": [
      "\u001b[1;31m---------------------------------------------------------------------------\u001b[0m",
      "\u001b[1;31mTypeError\u001b[0m                                 Traceback (most recent call last)",
      "Cell \u001b[1;32mIn[91], line 1\u001b[0m\n\u001b[1;32m----> 1\u001b[0m data\u001b[38;5;241m.\u001b[39mpop()\n\u001b[0;32m      2\u001b[0m \u001b[38;5;28mprint\u001b[39m(data)\n",
      "\u001b[1;31mTypeError\u001b[0m: pop expected at least 1 argument, got 0"
     ]
    }
   ],
   "source": [
    "data.pop()\n",
    "print(data)\n",
    "# pop need of agrument"
   ]
  },
  {
   "cell_type": "code",
   "execution_count": 93,
   "id": "f24cffd4-0e38-4a84-9ddd-e8dd3724a293",
   "metadata": {},
   "outputs": [
    {
     "ename": "TypeError",
     "evalue": "dict.popitem() takes no arguments (1 given)",
     "output_type": "error",
     "traceback": [
      "\u001b[1;31m---------------------------------------------------------------------------\u001b[0m",
      "\u001b[1;31mTypeError\u001b[0m                                 Traceback (most recent call last)",
      "Cell \u001b[1;32mIn[93], line 1\u001b[0m\n\u001b[1;32m----> 1\u001b[0m data\u001b[38;5;241m.\u001b[39mpopitem(\u001b[38;5;124m'\u001b[39m\u001b[38;5;124mLocation\u001b[39m\u001b[38;5;124m'\u001b[39m)\n",
      "\u001b[1;31mTypeError\u001b[0m: dict.popitem() takes no arguments (1 given)"
     ]
    }
   ],
   "source": [
    "data.popitem('Location')\n",
    "# popitem no need of agrument"
   ]
  },
  {
   "cell_type": "markdown",
   "id": "e65134d2-29eb-4b03-9945-f9811aafbcc2",
   "metadata": {},
   "source": [
    "## del"
   ]
  },
  {
   "cell_type": "code",
   "execution_count": 96,
   "id": "54b02421-05d5-4cbb-b55a-c7339725bee0",
   "metadata": {},
   "outputs": [
    {
     "name": "stdout",
     "output_type": "stream",
     "text": [
      "{'Age': 12, 'Location': 'Pune', 'Contact': 7366939192, 'Emai': 'aravsingh192@gmail.com'}\n"
     ]
    }
   ],
   "source": [
    "del data['Name']\n",
    "print(data)"
   ]
  },
  {
   "cell_type": "markdown",
   "id": "af1018b3-4fed-40d5-af8a-850f07b07a12",
   "metadata": {},
   "source": [
    "## clear()"
   ]
  },
  {
   "cell_type": "code",
   "execution_count": 99,
   "id": "0aa1dfa6-637b-453a-98ab-685378d47c07",
   "metadata": {},
   "outputs": [
    {
     "name": "stdout",
     "output_type": "stream",
     "text": [
      "{}\n"
     ]
    }
   ],
   "source": [
    "data.clear()\n",
    "print(data)"
   ]
  },
  {
   "cell_type": "code",
   "execution_count": 101,
   "id": "2041b567-78b4-4cfe-86d8-55bff9cd6472",
   "metadata": {},
   "outputs": [
    {
     "name": "stdout",
     "output_type": "stream",
     "text": [
      "{'Name': 'Arav'}\n"
     ]
    }
   ],
   "source": [
    "data.update({'Name':'Arav'})\n",
    "print(data)"
   ]
  },
  {
   "cell_type": "markdown",
   "id": "cfabafe8-1719-4351-b585-f7bfd9cb6e60",
   "metadata": {},
   "source": [
    "# function\n",
    "### It is block of code exceute only when it is been called"
   ]
  },
  {
   "cell_type": "code",
   "execution_count": 120,
   "id": "98598a5e-12c9-4de2-a2ae-194448882078",
   "metadata": {},
   "outputs": [],
   "source": [
    "def welcome_msg():\n",
    "    print(\"Welcome to Excelr\")\n",
    "    print(\"Welcome to Mumbai\")\n",
    "    print(\"Thank you\")"
   ]
  },
  {
   "cell_type": "code",
   "execution_count": 122,
   "id": "69a1ffb8-03b2-4234-a9c3-41f0db1be9e1",
   "metadata": {},
   "outputs": [
    {
     "name": "stdout",
     "output_type": "stream",
     "text": [
      "Good Afternoon\n"
     ]
    }
   ],
   "source": [
    "print(\"Good Afternoon\")"
   ]
  },
  {
   "cell_type": "code",
   "execution_count": 124,
   "id": "0dd82634-a7cd-4e1d-80fe-cbda5c71560f",
   "metadata": {},
   "outputs": [
    {
     "name": "stdout",
     "output_type": "stream",
     "text": [
      "Welcome to Excelr\n",
      "Welcome to Mumbai\n",
      "Thank you\n"
     ]
    }
   ],
   "source": [
    "welcome_msg()"
   ]
  },
  {
   "cell_type": "code",
   "execution_count": 126,
   "id": "5445945f-82ba-4e50-93f4-d5f9e105335d",
   "metadata": {},
   "outputs": [
    {
     "name": "stdout",
     "output_type": "stream",
     "text": [
      "Welcome to Excelr\n",
      "Welcome to Mumbai\n",
      "Thank you\n",
      "Welcome to Excelr\n",
      "Welcome to Mumbai\n",
      "Thank you\n",
      "Welcome to Excelr\n",
      "Welcome to Mumbai\n",
      "Thank you\n",
      "Welcome to Excelr\n",
      "Welcome to Mumbai\n",
      "Thank you\n"
     ]
    }
   ],
   "source": [
    "welcome_msg()\n",
    "welcome_msg()\n",
    "welcome_msg()\n",
    "welcome_msg()"
   ]
  },
  {
   "cell_type": "code",
   "execution_count": 128,
   "id": "00c763f0-3b32-48ba-a6bd-b7c2c294c75c",
   "metadata": {},
   "outputs": [],
   "source": [
    "def welcome_xyz():\n",
    "    print(\"Welcome to Excelr\")\n",
    "    print(\"Welcome to Mumbai\")\n",
    "    print(\"Thank you\")"
   ]
  },
  {
   "cell_type": "code",
   "execution_count": 130,
   "id": "70e42e28-c3d6-495b-be28-7c94d275763d",
   "metadata": {},
   "outputs": [
    {
     "name": "stdout",
     "output_type": "stream",
     "text": [
      "Welcome to Excelr\n",
      "Welcome to Mumbai\n",
      "Thank you\n"
     ]
    }
   ],
   "source": [
    "welcome_xyz()"
   ]
  },
  {
   "cell_type": "code",
   "execution_count": 132,
   "id": "788b37bb-d0b8-4160-8d7b-0cc91fe9d10c",
   "metadata": {},
   "outputs": [
    {
     "name": "stdout",
     "output_type": "stream",
     "text": [
      "Welcome to Excelr\n",
      "Welcome to Mumbai\n",
      "Thank you\n"
     ]
    }
   ],
   "source": [
    "welcome_msg()"
   ]
  },
  {
   "cell_type": "code",
   "execution_count": 134,
   "id": "320bdc8a-7a8d-4de2-934f-c2040125f1e2",
   "metadata": {},
   "outputs": [],
   "source": [
    "def welcome_stud(name,location):\n",
    "    print(\"hello \",name)\n",
    "    print(\"Welcome to \",location)"
   ]
  },
  {
   "cell_type": "code",
   "execution_count": 136,
   "id": "a803da11-09ad-4fab-a846-400511fb8cf9",
   "metadata": {},
   "outputs": [
    {
     "name": "stdout",
     "output_type": "stream",
     "text": [
      "hello  Sujal\n",
      "Welcome to  Mumbai\n"
     ]
    }
   ],
   "source": [
    "welcome_stud(\"Sujal\",\"Mumbai\")"
   ]
  },
  {
   "cell_type": "code",
   "execution_count": 1,
   "id": "ae28d82e-def5-48a5-9d30-3bb05013a9ec",
   "metadata": {},
   "outputs": [],
   "source": [
    "def addition(a,b):\n",
    "    c = a+b\n",
    "    print(\"Total is\",c)"
   ]
  },
  {
   "cell_type": "code",
   "execution_count": 3,
   "id": "5302cea7-5e4e-4c55-8fd4-328d5949d546",
   "metadata": {},
   "outputs": [
    {
     "name": "stdout",
     "output_type": "stream",
     "text": [
      "Total is 46\n"
     ]
    }
   ],
   "source": [
    "addition(12,34)"
   ]
  },
  {
   "cell_type": "code",
   "execution_count": 5,
   "id": "a73c5635-4e40-432b-be09-a49103c19337",
   "metadata": {},
   "outputs": [],
   "source": [
    "def total(a,b):\n",
    "    c = a+b\n",
    "    return c"
   ]
  },
  {
   "cell_type": "code",
   "execution_count": 7,
   "id": "c725385a-7555-478e-a0f9-0497159ff93f",
   "metadata": {},
   "outputs": [
    {
     "data": {
      "text/plain": [
       "46"
      ]
     },
     "execution_count": 7,
     "metadata": {},
     "output_type": "execute_result"
    }
   ],
   "source": [
    "total(12,34)"
   ]
  },
  {
   "cell_type": "code",
   "execution_count": 9,
   "id": "b98c8010-836b-4fa6-8910-3de480f6b092",
   "metadata": {},
   "outputs": [
    {
     "name": "stdout",
     "output_type": "stream",
     "text": [
      "Total is 100\n"
     ]
    }
   ],
   "source": [
    "var1 = total(50,50)\n",
    "print(\"Total is\",var1)"
   ]
  },
  {
   "cell_type": "code",
   "execution_count": 11,
   "id": "ea725b26-d6ef-46dc-84ad-ecd05bae2fd0",
   "metadata": {},
   "outputs": [],
   "source": [
    "def menu(num1,num2):\n",
    "    add=num1+num2\n",
    "    sub=num1-num2\n",
    "    mul=num1*num2\n",
    "    div=num1/num2\n",
    "    return add,sub,mul,div"
   ]
  },
  {
   "cell_type": "code",
   "execution_count": 13,
   "id": "596f6760-acdf-4a37-ad48-7c93a16f9d2e",
   "metadata": {},
   "outputs": [
    {
     "data": {
      "text/plain": [
       "(37, 31, 102, 11.333333333333334)"
      ]
     },
     "execution_count": 13,
     "metadata": {},
     "output_type": "execute_result"
    }
   ],
   "source": [
    "menu(34,3)"
   ]
  },
  {
   "cell_type": "code",
   "execution_count": 15,
   "id": "4d48f05d-6b49-4a16-b4a9-5e8b76fe9bda",
   "metadata": {},
   "outputs": [],
   "source": [
    "a,b,c,d = menu(12,2)"
   ]
  },
  {
   "cell_type": "code",
   "execution_count": 17,
   "id": "6905a2c2-58f0-4bb9-a7ef-4429ba354f12",
   "metadata": {},
   "outputs": [
    {
     "name": "stdout",
     "output_type": "stream",
     "text": [
      "addition 14\n"
     ]
    }
   ],
   "source": [
    "print(\"addition\",a)"
   ]
  },
  {
   "cell_type": "code",
   "execution_count": 19,
   "id": "9c320092-e439-4bb4-9aab-2b972497cf2b",
   "metadata": {},
   "outputs": [
    {
     "name": "stdout",
     "output_type": "stream",
     "text": [
      "Division 6.0\n"
     ]
    }
   ],
   "source": [
    "print(\"Division\",d)"
   ]
  },
  {
   "cell_type": "markdown",
   "id": "9d35961c-8759-43f1-85ae-d7e5b3842fa5",
   "metadata": {},
   "source": [
    "# Functional parameters\n",
    "### 1. Positional parameter"
   ]
  },
  {
   "cell_type": "code",
   "execution_count": 150,
   "id": "125f634a-bb8b-4484-909f-e70cc5f42dc1",
   "metadata": {},
   "outputs": [],
   "source": [
    "def demo(name,age,location):\n",
    "    print(\"Name is\",name)\n",
    "    print(\"Age is\",age)\n",
    "    print(\"Location is\",location)"
   ]
  },
  {
   "cell_type": "code",
   "execution_count": 24,
   "id": "b7b99ffb-c317-49d5-8d07-31cff4b5b554",
   "metadata": {},
   "outputs": [
    {
     "name": "stdout",
     "output_type": "stream",
     "text": [
      "Name is Rahul\n",
      "Age is 34\n",
      "Location is Pune\n"
     ]
    }
   ],
   "source": [
    "demo(\"Rahul\",34,\"Pune\")"
   ]
  },
  {
   "cell_type": "code",
   "execution_count": 26,
   "id": "1f8ccc17-1b78-4fe1-bc97-6bfff76b1085",
   "metadata": {},
   "outputs": [
    {
     "ename": "TypeError",
     "evalue": "demo() missing 1 required positional argument: 'location'",
     "output_type": "error",
     "traceback": [
      "\u001b[1;31m---------------------------------------------------------------------------\u001b[0m",
      "\u001b[1;31mTypeError\u001b[0m                                 Traceback (most recent call last)",
      "Cell \u001b[1;32mIn[26], line 1\u001b[0m\n\u001b[1;32m----> 1\u001b[0m demo(\u001b[38;5;124m\"\u001b[39m\u001b[38;5;124mRahul\u001b[39m\u001b[38;5;124m\"\u001b[39m,\u001b[38;5;241m34\u001b[39m)\n",
      "\u001b[1;31mTypeError\u001b[0m: demo() missing 1 required positional argument: 'location'"
     ]
    }
   ],
   "source": [
    "demo(\"Rahul\",34)"
   ]
  },
  {
   "cell_type": "markdown",
   "id": "e8565a79-ff41-4630-996b-69f8e843e493",
   "metadata": {},
   "source": [
    "### 2. Keyword Argument"
   ]
  },
  {
   "cell_type": "code",
   "execution_count": 29,
   "id": "4f80ea60-2587-4378-ac26-fe36a81001b8",
   "metadata": {},
   "outputs": [
    {
     "name": "stdout",
     "output_type": "stream",
     "text": [
      "Name is Rahul\n",
      "Age is 34\n",
      "Location is Pune\n"
     ]
    }
   ],
   "source": [
    "demo(\"Rahul\",34,\"Pune\")"
   ]
  },
  {
   "cell_type": "code",
   "execution_count": 31,
   "id": "b52aa1f2-b665-4039-bfdb-2d0e3cff9711",
   "metadata": {},
   "outputs": [
    {
     "name": "stdout",
     "output_type": "stream",
     "text": [
      "Name is Rahul\n",
      "Age is 34\n",
      "Location is dadar\n"
     ]
    }
   ],
   "source": [
    "demo(location=\"dadar\",name=\"Rahul\",age=34)\n"
   ]
  },
  {
   "cell_type": "markdown",
   "id": "68d7e09a-3261-4b05-be6e-7c8d201775f8",
   "metadata": {},
   "source": [
    "# 3. default parameter"
   ]
  },
  {
   "cell_type": "code",
   "execution_count": 38,
   "id": "b1614440-ffcf-491c-8ebf-05fdb26c254d",
   "metadata": {},
   "outputs": [],
   "source": [
    "def demo(name,age,location=\"Delhi\"):\n",
    "    print(\"Name is\",name)\n",
    "    print(\"Age is\",age)\n",
    "    print(\"Location is\",location)"
   ]
  },
  {
   "cell_type": "code",
   "execution_count": 40,
   "id": "43cd956b-c6cb-4e1d-98a8-db52fb3c0fe2",
   "metadata": {},
   "outputs": [
    {
     "name": "stdout",
     "output_type": "stream",
     "text": [
      "Name is Priya\n",
      "Age is 45\n",
      "Location is Delhi\n"
     ]
    }
   ],
   "source": [
    "demo(\"Priya\",45)"
   ]
  },
  {
   "cell_type": "code",
   "execution_count": 42,
   "id": "f6c2f4e2-f3b9-4e2f-ad30-9cb9ac67d209",
   "metadata": {},
   "outputs": [
    {
     "name": "stdout",
     "output_type": "stream",
     "text": [
      "Name is anjali\n",
      "Age is 45\n",
      "Location is Lucknow\n"
     ]
    }
   ],
   "source": [
    "demo(\"anjali\",45,\"Lucknow\")"
   ]
  },
  {
   "cell_type": "code",
   "execution_count": 44,
   "id": "8118f852-ae39-4049-95c4-f3bf39901512",
   "metadata": {},
   "outputs": [
    {
     "name": "stdout",
     "output_type": "stream",
     "text": [
      "Name is pooja\n",
      "Age is 45\n",
      "Location is Delhi\n"
     ]
    }
   ],
   "source": [
    "demo(\"pooja\",45)"
   ]
  },
  {
   "cell_type": "markdown",
   "id": "a69d232f-0c72-4220-b9f4-998e46ba002b",
   "metadata": {},
   "source": [
    "# 4. Variable length argument * variable_name"
   ]
  },
  {
   "cell_type": "code",
   "execution_count": 47,
   "id": "40aa2360-5442-4dc0-a9d8-f3dc475244bf",
   "metadata": {},
   "outputs": [],
   "source": [
    "def test(*var1):\n",
    "    print(var1)"
   ]
  },
  {
   "cell_type": "code",
   "execution_count": 49,
   "id": "9c57f900-0e77-4880-989a-5b92d0c66d60",
   "metadata": {},
   "outputs": [
    {
     "name": "stdout",
     "output_type": "stream",
     "text": [
      "(12, 34, 56)\n"
     ]
    }
   ],
   "source": [
    "test(12,34,56)"
   ]
  },
  {
   "cell_type": "code",
   "execution_count": 51,
   "id": "ec0b7ce3-ceab-4753-869e-9db58046d655",
   "metadata": {},
   "outputs": [
    {
     "name": "stdout",
     "output_type": "stream",
     "text": [
      "()\n"
     ]
    }
   ],
   "source": [
    "test()"
   ]
  },
  {
   "cell_type": "code",
   "execution_count": 53,
   "id": "ddd030e4-96d1-43e8-8d87-ffc4a31e8a25",
   "metadata": {},
   "outputs": [
    {
     "name": "stdout",
     "output_type": "stream",
     "text": [
      "(12, 34, 56, 67, 89, 90, 89)\n"
     ]
    }
   ],
   "source": [
    "test(12,34,56,67,89,90,89)\n",
    "# value store in tuple"
   ]
  },
  {
   "cell_type": "code",
   "execution_count": 61,
   "id": "f73b5f5c-f515-4c74-a78d-9ad62a4f13d2",
   "metadata": {},
   "outputs": [
    {
     "name": "stdout",
     "output_type": "stream",
     "text": [
      "12\n",
      "34\n",
      "56\n",
      "67\n",
      "89\n",
      "90\n",
      "89\n"
     ]
    }
   ],
   "source": [
    "data = (12, 34, 56, 67, 89, 90, 89)\n",
    "for x in data:\n",
    "    print(x)"
   ]
  },
  {
   "cell_type": "code",
   "execution_count": 63,
   "id": "0fcbb781-2f85-4cb8-882e-09d8af56f889",
   "metadata": {},
   "outputs": [],
   "source": [
    "def test(*data):\n",
    "    for x in data:\n",
    "        print(x)"
   ]
  },
  {
   "cell_type": "code",
   "execution_count": 67,
   "id": "4d67e991-9bb6-4261-8cf9-af9e7c4d8fd9",
   "metadata": {},
   "outputs": [
    {
     "name": "stdout",
     "output_type": "stream",
     "text": [
      "12\n",
      "34\n",
      "54\n"
     ]
    }
   ],
   "source": [
    "# value not showing in tuple,it will show individualy\n",
    "test(12,34,54)"
   ]
  },
  {
   "cell_type": "code",
   "execution_count": 73,
   "id": "9e19fb17-5f67-4af2-bd15-29f4e43ba276",
   "metadata": {},
   "outputs": [
    {
     "name": "stdout",
     "output_type": "stream",
     "text": [
      "12\n",
      "34\n",
      "56\n",
      "67\n",
      "89\n",
      "90\n",
      "89\n"
     ]
    }
   ],
   "source": [
    "test(12,34,56,67,89,90,89)"
   ]
  },
  {
   "cell_type": "markdown",
   "id": "25c9ca17-b000-462a-95eb-8cfa5214a64f",
   "metadata": {},
   "source": [
    "# 5. Keyword variable length arg"
   ]
  },
  {
   "cell_type": "code",
   "execution_count": 76,
   "id": "ddc09c8e-e71d-4684-88a7-905543ffb213",
   "metadata": {},
   "outputs": [],
   "source": [
    "def test(**data):\n",
    "    print(data)"
   ]
  },
  {
   "cell_type": "code",
   "execution_count": 78,
   "id": "7deae002-c618-4b8e-b6cb-d2d41070058e",
   "metadata": {},
   "outputs": [
    {
     "name": "stdout",
     "output_type": "stream",
     "text": [
      "{'name': 'Rahul', 'age': 34}\n",
      "{'name': 'Preti', 'age': 23, 'Location': 'Mumbai'}\n",
      "{'name': 'Preti', 'age': 23, 'location': 'Mumbai', 'email': 'priti@gmail.com'}\n"
     ]
    }
   ],
   "source": [
    "test(name=\"Rahul\",age=34)\n",
    "test(name=\"Preti\",age=23,Location=\"Mumbai\")\n",
    "test(name=\"Preti\",age=23,location=\"Mumbai\",email=\"priti@gmail.com\")"
   ]
  },
  {
   "cell_type": "code",
   "execution_count": 80,
   "id": "b9c32c09-d69e-45f3-a2fe-b35880304ac2",
   "metadata": {},
   "outputs": [
    {
     "name": "stdout",
     "output_type": "stream",
     "text": [
      "22\n"
     ]
    }
   ],
   "source": [
    "data = \"Python For DataScience\"\n",
    "print(len(data))"
   ]
  },
  {
   "cell_type": "code",
   "execution_count": 82,
   "id": "5e131802-7547-4d5a-93ea-59a0ad22e344",
   "metadata": {},
   "outputs": [],
   "source": [
    "def cal_string(var1):\n",
    "    c = 0\n",
    "    for t in var1:\n",
    "        c+=1\n",
    "    return c"
   ]
  },
  {
   "cell_type": "code",
   "execution_count": 84,
   "id": "c68d5607-0afa-4993-9e63-c2e1ff3e0dd3",
   "metadata": {},
   "outputs": [
    {
     "data": {
      "text/plain": [
       "22"
      ]
     },
     "execution_count": 84,
     "metadata": {},
     "output_type": "execute_result"
    }
   ],
   "source": [
    "cal_string(data)"
   ]
  },
  {
   "cell_type": "code",
   "execution_count": 86,
   "id": "1c311eaf-37e8-438d-8f81-5d319149b7a5",
   "metadata": {},
   "outputs": [],
   "source": [
    "# task\n",
    "def remove(duplicates):\n",
    "    list=[]\n",
    "    for num in duplicate:\n",
    "        if num not in list:\n",
    "            list.append(num)\n",
    "    return list"
   ]
  },
  {
   "cell_type": "code",
   "execution_count": 88,
   "id": "8a710b29-4fb9-4900-8b2f-bd13738dd1a3",
   "metadata": {},
   "outputs": [],
   "source": [
    "duplicate = [11,22,33,44,55,66,11,11,22,33,44,55]"
   ]
  },
  {
   "cell_type": "code",
   "execution_count": 90,
   "id": "a04d3169-95e5-467b-9aea-ffc4170265b6",
   "metadata": {},
   "outputs": [
    {
     "data": {
      "text/plain": [
       "[11, 22, 33, 44, 55, 66]"
      ]
     },
     "execution_count": 90,
     "metadata": {},
     "output_type": "execute_result"
    }
   ],
   "source": [
    "remove(duplicate)"
   ]
  },
  {
   "cell_type": "code",
   "execution_count": 92,
   "id": "ab9c017d-5efa-4bdc-8bbf-83ee4a76466f",
   "metadata": {},
   "outputs": [],
   "source": [
    "# task\n",
    "def multiply(list):\n",
    "    result=1\n",
    "    for x in list:\n",
    "        if type(x) == int:\n",
    "            result=result*x\n",
    "    return result"
   ]
  },
  {
   "cell_type": "code",
   "execution_count": 94,
   "id": "3a653e5a-1832-4b22-a9a9-e9f1a28ce8ac",
   "metadata": {},
   "outputs": [],
   "source": [
    "list = [2,3,5,\"xyz\"]\n"
   ]
  },
  {
   "cell_type": "code",
   "execution_count": 102,
   "id": "3506afb3-9a90-4997-a7d2-d43ee7f8d095",
   "metadata": {},
   "outputs": [
    {
     "data": {
      "text/plain": [
       "30"
      ]
     },
     "execution_count": 102,
     "metadata": {},
     "output_type": "execute_result"
    }
   ],
   "source": [
    "multiply(list)"
   ]
  },
  {
   "cell_type": "markdown",
   "id": "a75d6f20-b64b-4810-8cbc-ca6bd3a665f2",
   "metadata": {},
   "source": [
    "# call the test2 user define module"
   ]
  },
  {
   "cell_type": "code",
   "execution_count": 1,
   "id": "11fcacdb-5ea3-4772-ba31-89bae5798723",
   "metadata": {},
   "outputs": [
    {
     "ename": "ModuleNotFoundError",
     "evalue": "No module named 'test2'",
     "output_type": "error",
     "traceback": [
      "\u001b[1;31m---------------------------------------------------------------------------\u001b[0m",
      "\u001b[1;31mModuleNotFoundError\u001b[0m                       Traceback (most recent call last)",
      "Cell \u001b[1;32mIn[1], line 1\u001b[0m\n\u001b[1;32m----> 1\u001b[0m \u001b[38;5;28;01mimport\u001b[39;00m \u001b[38;5;21;01mtest2\u001b[39;00m \u001b[38;5;28;01mas\u001b[39;00m \u001b[38;5;21;01mtt\u001b[39;00m\n",
      "\u001b[1;31mModuleNotFoundError\u001b[0m: No module named 'test2'"
     ]
    }
   ],
   "source": [
    "import test2 as tt\n"
   ]
  },
  {
   "cell_type": "code",
   "execution_count": null,
   "id": "1b2ff446-5d7e-4007-86fa-851c89c37bb9",
   "metadata": {},
   "outputs": [],
   "source": []
  },
  {
   "cell_type": "code",
   "execution_count": 21,
   "id": "80f62c12-fce8-46f0-98f6-25a5b1dcdbb2",
   "metadata": {},
   "outputs": [],
   "source": [
    "import test as tt"
   ]
  },
  {
   "cell_type": "code",
   "execution_count": 23,
   "id": "f397cf05-accf-457a-be69-fefcc98a9fe0",
   "metadata": {},
   "outputs": [
    {
     "ename": "AttributeError",
     "evalue": "module 'test' has no attribute 'welcome'",
     "output_type": "error",
     "traceback": [
      "\u001b[1;31m---------------------------------------------------------------------------\u001b[0m",
      "\u001b[1;31mAttributeError\u001b[0m                            Traceback (most recent call last)",
      "Cell \u001b[1;32mIn[23], line 1\u001b[0m\n\u001b[1;32m----> 1\u001b[0m tt\u001b[38;5;241m.\u001b[39mwelcome()\n",
      "\u001b[1;31mAttributeError\u001b[0m: module 'test' has no attribute 'welcome'"
     ]
    }
   ],
   "source": [
    "tt.welcome()"
   ]
  },
  {
   "cell_type": "code",
   "execution_count": 35,
   "id": "2b7cb808-4f0b-4259-a0ca-2e741e33e06a",
   "metadata": {},
   "outputs": [
    {
     "ename": "AttributeError",
     "evalue": "module 'test' has no attribute 'welcome'",
     "output_type": "error",
     "traceback": [
      "\u001b[1;31m---------------------------------------------------------------------------\u001b[0m",
      "\u001b[1;31mAttributeError\u001b[0m                            Traceback (most recent call last)",
      "Cell \u001b[1;32mIn[35], line 2\u001b[0m\n\u001b[0;32m      1\u001b[0m \u001b[38;5;28;01mimport\u001b[39;00m \u001b[38;5;21;01mtest\u001b[39;00m \u001b[38;5;28;01mas\u001b[39;00m \u001b[38;5;21;01mt\u001b[39;00m\n\u001b[1;32m----> 2\u001b[0m t\u001b[38;5;241m.\u001b[39mwelcome ()\n",
      "\u001b[1;31mAttributeError\u001b[0m: module 'test' has no attribute 'welcome'"
     ]
    }
   ],
   "source": [
    "import test as t\n",
    "t.welcome ()"
   ]
  },
  {
   "cell_type": "markdown",
   "id": "9c7966bf-3203-4fd4-b021-88a7b7b1f054",
   "metadata": {},
   "source": [
    "## Math module"
   ]
  },
  {
   "cell_type": "code",
   "execution_count": 39,
   "id": "4219df4e-9ddc-41eb-94a8-30517baaba70",
   "metadata": {},
   "outputs": [],
   "source": [
    "import math"
   ]
  },
  {
   "cell_type": "code",
   "execution_count": 41,
   "id": "446a11a7-1c80-4cb5-98ef-06ad88f5f260",
   "metadata": {},
   "outputs": [
    {
     "name": "stdout",
     "output_type": "stream",
     "text": [
      "2.0\n"
     ]
    }
   ],
   "source": [
    "print(math.sqrt(4))"
   ]
  },
  {
   "cell_type": "code",
   "execution_count": 43,
   "id": "4a89e35d-8e6b-4c75-9bd4-64e3d72fb97b",
   "metadata": {},
   "outputs": [
    {
     "name": "stdout",
     "output_type": "stream",
     "text": [
      "0.33819667724779123\n"
     ]
    }
   ],
   "source": [
    "print(math.sin(0.345))"
   ]
  },
  {
   "cell_type": "code",
   "execution_count": 45,
   "id": "d76abf93-dd0a-41fc-bc9c-6bba9d252afc",
   "metadata": {},
   "outputs": [
    {
     "name": "stdout",
     "output_type": "stream",
     "text": [
      "0.9736663950053749\n"
     ]
    }
   ],
   "source": [
    "print(math.cos(0.23))"
   ]
  },
  {
   "cell_type": "code",
   "execution_count": 47,
   "id": "19408d20-52e9-4850-99e7-1da8df5b6045",
   "metadata": {},
   "outputs": [
    {
     "name": "stdout",
     "output_type": "stream",
     "text": [
      "-0.024783032802668283\n"
     ]
    }
   ],
   "source": [
    "print(math.tan(9.4))"
   ]
  },
  {
   "cell_type": "code",
   "execution_count": 49,
   "id": "226fb330-0dcf-487d-97cd-f54ea22d24f1",
   "metadata": {},
   "outputs": [
    {
     "name": "stdout",
     "output_type": "stream",
     "text": [
      "3.8066624897703196\n"
     ]
    }
   ],
   "source": [
    "print(math.log(45))"
   ]
  },
  {
   "cell_type": "code",
   "execution_count": 51,
   "id": "d803ed30-9ee2-4943-8bc0-75487be9c55c",
   "metadata": {},
   "outputs": [
    {
     "name": "stdout",
     "output_type": "stream",
     "text": [
      "8.0\n"
     ]
    }
   ],
   "source": [
    "print(math.pow(2,3))"
   ]
  },
  {
   "cell_type": "markdown",
   "id": "bb4ab6c8-18f1-4f55-ba14-f685d7d7f7e7",
   "metadata": {},
   "source": [
    "## random module"
   ]
  },
  {
   "cell_type": "code",
   "execution_count": 55,
   "id": "efc55f6c-e56d-4e5a-87ae-3a3ee9a289ed",
   "metadata": {},
   "outputs": [
    {
     "name": "stdout",
     "output_type": "stream",
     "text": [
      "0.33844870025349116\n"
     ]
    }
   ],
   "source": [
    "import random\n",
    "print(random.random())"
   ]
  },
  {
   "cell_type": "code",
   "execution_count": 57,
   "id": "452ae66d-40de-44c4-ab53-b1087d22f8fb",
   "metadata": {},
   "outputs": [
    {
     "name": "stdout",
     "output_type": "stream",
     "text": [
      "56\n"
     ]
    }
   ],
   "source": [
    "print(random.randint(50,100))"
   ]
  },
  {
   "cell_type": "code",
   "execution_count": 59,
   "id": "1eb48f36-c100-46a8-99dd-b3cb00708a2c",
   "metadata": {},
   "outputs": [
    {
     "name": "stdout",
     "output_type": "stream",
     "text": [
      "55\n"
     ]
    }
   ],
   "source": [
    "print(random.randrange(50,100,5))"
   ]
  },
  {
   "cell_type": "code",
   "execution_count": 61,
   "id": "f0f1975d-ba67-4d9e-ac6e-61f6f3ae7983",
   "metadata": {},
   "outputs": [
    {
     "name": "stdout",
     "output_type": "stream",
     "text": [
      "s\n"
     ]
    }
   ],
   "source": [
    "print(random.choice(\"Tuesday\"))"
   ]
  },
  {
   "cell_type": "code",
   "execution_count": 63,
   "id": "021c9cf1-ed64-4fee-898d-427087f36faa",
   "metadata": {},
   "outputs": [
    {
     "name": "stdout",
     "output_type": "stream",
     "text": [
      "[12, 56, 78, 90, 34, 23, 3]\n"
     ]
    }
   ],
   "source": [
    "var1 = [12,56,78,90,34,23,3]\n",
    "print(var1)"
   ]
  },
  {
   "cell_type": "code",
   "execution_count": 65,
   "id": "3631c9aa-a656-4bff-a8eb-7ecc2e3ad0d7",
   "metadata": {},
   "outputs": [],
   "source": [
    "random.shuffle(var1)"
   ]
  },
  {
   "cell_type": "code",
   "execution_count": 67,
   "id": "8b0bbb79-3157-433a-a665-2991d6130e87",
   "metadata": {},
   "outputs": [
    {
     "name": "stdout",
     "output_type": "stream",
     "text": [
      "[3, 56, 23, 78, 12, 34, 90]\n"
     ]
    }
   ],
   "source": [
    "print(var1)"
   ]
  },
  {
   "cell_type": "markdown",
   "id": "f72b1145-232b-4392-95e7-61c6105d0feb",
   "metadata": {},
   "source": [
    "# File Handling"
   ]
  },
  {
   "cell_type": "markdown",
   "id": "f2bf557d-038c-4b59-8622-6fade592c576",
   "metadata": {},
   "source": [
    "## 1. read():reading a file\n",
    "## read(size): then specified character being readout"
   ]
  },
  {
   "cell_type": "code",
   "execution_count": 27,
   "id": "b8492ea8-7838-4b76-a1bc-67d87fa31817",
   "metadata": {},
   "outputs": [
    {
     "name": "stdout",
     "output_type": "stream",
     "text": [
      "Type of computer network\n",
      "fjfdbfhbjkdnn djbfkjedne jrfnenj dkdnrubs fjsjdhfbthds vnfheidnsj jfjnd\n",
      "fnhndjn arav kumar singh sinfbngndhb djndkjd \n",
      "fjnjnrffn\n"
     ]
    },
    {
     "data": {
      "text/plain": [
       "<function TextIOWrapper.close()>"
      ]
     },
     "execution_count": 27,
     "metadata": {},
     "output_type": "execute_result"
    }
   ],
   "source": [
    "fp = open(\"Arav.txt\",\"r\")\n",
    "print(fp.read())\n",
    "fp.close"
   ]
  },
  {
   "cell_type": "code",
   "execution_count": 29,
   "id": "81ec0300-8749-42c0-a77c-c7ec021427dc",
   "metadata": {},
   "outputs": [
    {
     "name": "stdout",
     "output_type": "stream",
     "text": [
      "Type of computer network\n",
      "fjfdbfhbjkdnn djbfkjedne jrfnenj dkdnrubs fjsjdhfbthds vnfheidnsj jfjnd\n",
      "fnhndjn arav kumar singh sinfbngndhb djndkjd \n",
      "fjnjnrffn\n"
     ]
    }
   ],
   "source": [
    "fp = open(\"Arav.txt\",\"r\")\n",
    "print(fp.read())\n",
    "# if we want to delete this file from fileexplorer it cnt delete because here we not apply fb.close"
   ]
  },
  {
   "cell_type": "code",
   "execution_count": 31,
   "id": "0955d856-df0d-4fa0-b27d-c1ace54c66cd",
   "metadata": {},
   "outputs": [
    {
     "name": "stdout",
     "output_type": "stream",
     "text": [
      "Type of computer network\n",
      "fjfdbfhbjkdnn djbfkjedne jrfnenj dkdnrubs fjsjdhfbthds vnfheidnsj jfjnd\n",
      "fnhndjn arav kumar singh sinfbngndhb djndkjd \n",
      "fjnjnrffn\n"
     ]
    },
    {
     "data": {
      "text/plain": [
       "<function TextIOWrapper.close()>"
      ]
     },
     "execution_count": 31,
     "metadata": {},
     "output_type": "execute_result"
    }
   ],
   "source": [
    "fp = open(\"Arav.txt\",\"r\")\n",
    "print(fp.read())\n",
    "fp.close\n",
    "# then we have to delete a file Arav"
   ]
  },
  {
   "cell_type": "code",
   "execution_count": 33,
   "id": "fea3808a-6fa2-4642-aeba-bd4a4e57b5c9",
   "metadata": {},
   "outputs": [
    {
     "name": "stdout",
     "output_type": "stream",
     "text": [
      "Type \n"
     ]
    }
   ],
   "source": [
    "fp = open(\"Arav.txt\",\"r\")\n",
    "print(fp.read(5))\n",
    "fb.close()"
   ]
  },
  {
   "cell_type": "code",
   "execution_count": 35,
   "id": "26ccaaeb-74ab-4b68-9b64-17ea4abdb0b2",
   "metadata": {},
   "outputs": [
    {
     "name": "stdout",
     "output_type": "stream",
     "text": [
      "Typ\n"
     ]
    }
   ],
   "source": [
    "fp = open(\"Arav.txt\",\"r\")\n",
    "print(fp.read(3))\n",
    "fb.close()"
   ]
  },
  {
   "cell_type": "markdown",
   "id": "32fe90b0-d65f-42cc-8a39-9f6f5d834212",
   "metadata": {},
   "source": [
    "## seek()"
   ]
  },
  {
   "cell_type": "code",
   "execution_count": 40,
   "id": "e5ef5027-31b5-4505-9dca-6fc77de6f1d3",
   "metadata": {},
   "outputs": [
    {
     "name": "stdout",
     "output_type": "stream",
     "text": [
      "omputer network\n",
      "fjfdbfhbjkdnn djbfkjedne jrfnenj dkdnrubs fjsjdhfbthds vnfheidnsj jfjnd\n",
      "fnhndjn arav kumar singh sinfbngndhb djndkjd \n",
      "fjnjnrffn\n"
     ]
    }
   ],
   "source": [
    "fp = open(\"Arav.txt\",\"r\")\n",
    "fp.seek(9)\n",
    "print(fp.read())\n",
    "fp.close()"
   ]
  },
  {
   "cell_type": "code",
   "execution_count": 63,
   "id": "50f6c5f7-81bd-41c2-ae5d-6b3c50f8d45d",
   "metadata": {},
   "outputs": [
    {
     "name": "stdout",
     "output_type": "stream",
     "text": [
      "9\n",
      "omputer network\n",
      "fjfdbfhbjkdnn djbfkjedne jrfnenj dkdnrubs fjsjdhfbthds vnfheidnsj jfjnd\n",
      "fnhndjn arav kumar singh sinfbngndhb djndkjd \n",
      "fjnjnrffn\n"
     ]
    }
   ],
   "source": [
    "fp = open(\"Arav.txt\",\"r\")\n",
    "print(fp.seek(9))\n",
    "print(fp.read())\n",
    "fp.close()"
   ]
  },
  {
   "cell_type": "markdown",
   "id": "3e6508f5-35b8-44ff-8197-005cdd8142dd",
   "metadata": {},
   "source": [
    "## readline()\n",
    "### one line at one time"
   ]
  },
  {
   "cell_type": "code",
   "execution_count": 56,
   "id": "94797962-7770-44f6-8ceb-a8b0c3a036dc",
   "metadata": {},
   "outputs": [
    {
     "name": "stdout",
     "output_type": "stream",
     "text": [
      "Type of computer network\n",
      "\n"
     ]
    }
   ],
   "source": [
    "fp = open(\"Arav.txt\",\"r\")\n",
    "print(fp.readline())\n",
    "fp.close()"
   ]
  },
  {
   "cell_type": "code",
   "execution_count": 58,
   "id": "9a99e668-3f10-4301-98d1-4a7cb5e73fb7",
   "metadata": {},
   "outputs": [
    {
     "name": "stdout",
     "output_type": "stream",
     "text": [
      "Type of computer network\n",
      "\n",
      "fjfdbfhbjkdnn djbfkjedne jrfnenj dkdnrubs fjsjdhfbthds vnfheidnsj jfjnd\n",
      "\n"
     ]
    }
   ],
   "source": [
    "fp = open(\"Arav.txt\",\"r\")\n",
    "print(fp.readline())\n",
    "print(fp.readline())\n",
    "fp.close()"
   ]
  },
  {
   "cell_type": "markdown",
   "id": "eeb70658-3371-48c9-86a0-1586ef0667a2",
   "metadata": {},
   "source": [
    "# readlines():this function read the entire file in the form of list"
   ]
  },
  {
   "cell_type": "code",
   "execution_count": 66,
   "id": "bd675b9a-dbf2-4832-aa3e-b1231453d780",
   "metadata": {},
   "outputs": [
    {
     "name": "stdout",
     "output_type": "stream",
     "text": [
      "['Type of computer network\\n', 'fjfdbfhbjkdnn djbfkjedne jrfnenj dkdnrubs fjsjdhfbthds vnfheidnsj jfjnd\\n', 'fnhndjn arav kumar singh sinfbngndhb djndkjd \\n', 'fjnjnrffn']\n"
     ]
    }
   ],
   "source": [
    "fp = open(\"Arav.txt\",\"r\")\n",
    "print(fp.readlines())\n",
    "fb.close()"
   ]
  },
  {
   "cell_type": "code",
   "execution_count": 68,
   "id": "4a63a4f7-d937-45a1-9d00-a5c1826eccab",
   "metadata": {},
   "outputs": [
    {
     "name": "stdout",
     "output_type": "stream",
     "text": [
      "Tasmiya\n",
      "shaikh\n",
      "Mumbai\n"
     ]
    }
   ],
   "source": [
    "print(\"Tasmiya\\nshaikh\\nMumbai\")"
   ]
  },
  {
   "cell_type": "code",
   "execution_count": 70,
   "id": "3eebe084-560c-4862-99b1-753697f67546",
   "metadata": {},
   "outputs": [
    {
     "name": "stdout",
     "output_type": "stream",
     "text": [
      "Tasmiya\\nshaikh\\nMumbai\n"
     ]
    }
   ],
   "source": [
    "print(r\"Tasmiya\\nshaikh\\nMumbai\")"
   ]
  },
  {
   "cell_type": "code",
   "execution_count": 76,
   "id": "cc9b6f4e-10d4-454c-824a-662e99350a88",
   "metadata": {},
   "outputs": [
    {
     "name": "stdout",
     "output_type": "stream",
     "text": [
      "['Type of computer network\\n', 'fjfdbfhbjkdnn djbfkjedne jrfnenj dkdnrubs fjsjdhfbthds vnfheidnsj jfjnd\\n', 'fnhndjn arav kumar singh sinfbngndhb djndkjd \\n', 'fjnjnrffn']\n"
     ]
    }
   ],
   "source": [
    "fp = open(r\"C:\\Users\\Arav\\Downloads\\Arav.txt\",\"r\")\n",
    "print(fp.readlines())\n",
    "fp.close()"
   ]
  },
  {
   "cell_type": "markdown",
   "id": "b80b076d-c740-49cc-92b2-86f2ccfb48f9",
   "metadata": {},
   "source": [
    "# writing a file"
   ]
  },
  {
   "cell_type": "code",
   "execution_count": 79,
   "id": "2ce609e3-e622-414b-af92-e7d7f64595c2",
   "metadata": {},
   "outputs": [
    {
     "name": "stdout",
     "output_type": "stream",
     "text": [
      "successfull Done\n"
     ]
    }
   ],
   "source": [
    "data = \"personal area network\"\n",
    "fp = open(\"Anthony.txt\",\"w\")\n",
    "fp.write(data)\n",
    "fp.close()\n",
    "print(\"successfull Done\")"
   ]
  },
  {
   "cell_type": "code",
   "execution_count": 81,
   "id": "6fc8919e-2d03-4f82-bf77-b83ff04db29b",
   "metadata": {},
   "outputs": [
    {
     "name": "stdout",
     "output_type": "stream",
     "text": [
      "Successfull Done\n"
     ]
    }
   ],
   "source": [
    "data = \"Local area network\"\n",
    "fp = open(\"Anthony.txt\",\"w\")\n",
    "fp.write(data)\n",
    "fp.close()\n",
    "print(\"Successfull Done\")"
   ]
  },
  {
   "cell_type": "code",
   "execution_count": 85,
   "id": "b238e34b-325d-4260-8e9f-4f458b853d9a",
   "metadata": {},
   "outputs": [
    {
     "name": "stdout",
     "output_type": "stream",
     "text": [
      "Successfull Done\n"
     ]
    }
   ],
   "source": [
    "data = \"Metroplitian Area network\"\n",
    "fp = open(\"Anthony.txt\",\"a\")\n",
    "fp.write(data)\n",
    "fp.close()\n",
    "print(\"Successfull Done\")"
   ]
  },
  {
   "cell_type": "code",
   "execution_count": 87,
   "id": "4ae421e4-127a-44e8-b917-941de75926f1",
   "metadata": {},
   "outputs": [
    {
     "name": "stdout",
     "output_type": "stream",
     "text": [
      "Successfull Done\n"
     ]
    }
   ],
   "source": [
    "data = \"\\nMetroplitian Area network\"\n",
    "fp = open(\"Anthony.txt\",\"a\")\n",
    "fp.write(data)\n",
    "fp.close()\n",
    "print(\"Successfull Done\")"
   ]
  },
  {
   "cell_type": "markdown",
   "id": "314fe033-adc8-4c92-bcaf-ccffdd8f93ed",
   "metadata": {},
   "source": [
    "# writelines: this method is used to write multiple line which is present in the form of list"
   ]
  },
  {
   "cell_type": "code",
   "execution_count": 92,
   "id": "3d31b02a-a3f8-4570-b450-4261e4ce3a51",
   "metadata": {},
   "outputs": [
    {
     "name": "stdout",
     "output_type": "stream",
     "text": [
      "successfull Done\n"
     ]
    }
   ],
   "source": [
    "data = ['Type of computer network\\n', 'fjfdbfhbjkdnn djbfkjedne jrfnenj dkdnrubs fjsjdhfbthds vnfheidnsj jfjnd\\n', 'fnhndjn arav kumar singh sinfbngndhb djndkjd \\n', 'fjnjnrffn']\n",
    "data1 = \"A man is larger\"\n",
    "data2 = [\"\\none\",\"\\ntwo\"]\n",
    "fp = open(\"Viraj.txt\",\"a\")\n",
    "fp.write(data1)\n",
    "fp.writelines(data)\n",
    "fp.close()\n",
    "print(\"successfull Done\")"
   ]
  },
  {
   "cell_type": "markdown",
   "id": "b936d43b-5b9a-417c-be2a-e692bdc808be",
   "metadata": {},
   "source": [
    "## Both read and write"
   ]
  },
  {
   "cell_type": "code",
   "execution_count": 2,
   "id": "73ec6e41-cc32-4b73-a90e-5b8fa01a8966",
   "metadata": {},
   "outputs": [
    {
     "name": "stdout",
     "output_type": "stream",
     "text": [
      "Local area networkMetroplitian Area network\n",
      "Metroplitian Area network\n",
      "Uses of computer network\n",
      "Success\n"
     ]
    }
   ],
   "source": [
    "data=\"\\nUses of computer network\"\n",
    "fp = open(\"Anthony.txt\",\"a+\")\n",
    "fp.write(data)\n",
    "fp.seek(0)\n",
    "print(fp.read())\n",
    "fp.close()\n",
    "print(\"Success\")"
   ]
  },
  {
   "cell_type": "markdown",
   "id": "dbec8320-1af9-402d-80a7-e0e7046c4d59",
   "metadata": {},
   "source": [
    "## Practice File handling"
   ]
  },
  {
   "cell_type": "code",
   "execution_count": 12,
   "id": "3290ce19-7a9b-441b-a393-94745b4e09cd",
   "metadata": {},
   "outputs": [
    {
     "name": "stdout",
     "output_type": "stream",
     "text": [
      "Bhardwaj Arav Singh \n",
      "Data Scientist\n",
      "Bangalore \n",
      "Excelr\n",
      "Lakshami Narain Colleage Of Technology\n",
      "Success\n"
     ]
    }
   ],
   "source": [
    "fp = open(\"Singh.txt\",\"r\")\n",
    "print(fp.read())\n",
    "fp.close()\n",
    "print(\"Success\")"
   ]
  },
  {
   "cell_type": "code",
   "execution_count": 14,
   "id": "f0f0ad86-26ba-4767-9a61-998a0fcfed7a",
   "metadata": {},
   "outputs": [
    {
     "name": "stdout",
     "output_type": "stream",
     "text": [
      "Bha\n",
      "Success\n"
     ]
    }
   ],
   "source": [
    "fp = open(\"Singh.txt\",\"r\")\n",
    "print(fp.read(3))\n",
    "fp.close()\n",
    "print(\"Success\")"
   ]
  },
  {
   "cell_type": "code",
   "execution_count": 16,
   "id": "29bd7534-7501-4e0a-b7ca-0d166966c5fe",
   "metadata": {},
   "outputs": [
    {
     "name": "stdout",
     "output_type": "stream",
     "text": [
      "3\n",
      "Success\n"
     ]
    }
   ],
   "source": [
    "fp = open(\"Singh.txt\",\"r\")\n",
    "print(fp.seek(3))\n",
    "fp.close()\n",
    "print(\"Success\")"
   ]
  },
  {
   "cell_type": "code",
   "execution_count": 22,
   "id": "36ac510d-161b-41f6-9fb2-590bd44c6bc5",
   "metadata": {},
   "outputs": [
    {
     "name": "stdout",
     "output_type": "stream",
     "text": [
      "rdwaj Arav Singh \n",
      "Data Scientist\n",
      "Bangalore \n",
      "Excelr\n",
      "Lakshami Narain Colleage Of Technology\n"
     ]
    }
   ],
   "source": [
    "fp = open(\"singh.txt\",\"r\")\n",
    "fp.seek(3)\n",
    "print(fp.read())\n",
    "fp.close()"
   ]
  },
  {
   "cell_type": "code",
   "execution_count": 36,
   "id": "4919d671-9d60-4c0d-a1f6-ef1e9e35e565",
   "metadata": {},
   "outputs": [
    {
     "name": "stdout",
     "output_type": "stream",
     "text": [
      "waj Arav Singh \n",
      "Data Scientist\n",
      "Bangalore \n",
      "Excelr\n",
      "Lakshami Narain Colleage Of Technology\n",
      "Successfull Done\n"
     ]
    }
   ],
   "source": [
    "fp = open(\"Singh.txt\",\"r\")\n",
    "fp.seek(5)\n",
    "print(fp.read())\n",
    "fp.close()\n",
    "print(\"Successfull Done\")"
   ]
  },
  {
   "cell_type": "code",
   "execution_count": 38,
   "id": "68ffd141-605f-4cc8-8bdf-6f07e6619c03",
   "metadata": {},
   "outputs": [
    {
     "name": "stdout",
     "output_type": "stream",
     "text": [
      "Bhardwaj Arav Singh \n",
      "\n",
      "Successfull Done\n"
     ]
    }
   ],
   "source": [
    "fp = open(\"Singh.txt\",\"r\")\n",
    "print(fp.readline())\n",
    "fp.close()\n",
    "print(\"Successfull Done\")"
   ]
  },
  {
   "cell_type": "code",
   "execution_count": 42,
   "id": "6172fe47-db68-4dc7-9f8e-66ea059b8fa6",
   "metadata": {},
   "outputs": [
    {
     "name": "stdout",
     "output_type": "stream",
     "text": [
      "Bhardwaj Arav Singh \n",
      "\n",
      "Data Scientist\n",
      "\n",
      "Successfull Done\n"
     ]
    }
   ],
   "source": [
    "fp = open('Singh.txt','r')\n",
    "print(fp.readline())\n",
    "print(fp.readline())\n",
    "fp.close()\n",
    "print(\"Successfull Done\")"
   ]
  },
  {
   "cell_type": "code",
   "execution_count": 44,
   "id": "a92613fe-2b4b-4f2c-89df-9b3029469833",
   "metadata": {},
   "outputs": [
    {
     "name": "stdout",
     "output_type": "stream",
     "text": [
      "['Bhardwaj Arav Singh \\n', 'Data Scientist\\n', 'Bangalore \\n', 'Excelr\\n', 'Lakshami Narain Colleage Of Technology']\n",
      "Successfull Done\n"
     ]
    }
   ],
   "source": [
    "fp = open(\"Singh.txt\",\"r\")\n",
    "print(fp.readlines())\n",
    "fp.close()\n",
    "print(\"Successfull Done\")"
   ]
  },
  {
   "cell_type": "code",
   "execution_count": 50,
   "id": "01f35aae-590d-446c-afcf-6ca93486d6ad",
   "metadata": {},
   "outputs": [
    {
     "name": "stdout",
     "output_type": "stream",
     "text": [
      "Bhardwaj Arav Singh \n",
      "Data Scientist\n",
      "Bangalore \n",
      "Excelr\n",
      "Lakshami Narain Colleage Of Technology\n"
     ]
    }
   ],
   "source": [
    "fp = open(\"Singh.txt\",\"r\")\n",
    "print(fp.read())\n",
    "fp.close()"
   ]
  },
  {
   "cell_type": "code",
   "execution_count": 53,
   "id": "59d37645-bdd0-4bbd-9cfd-43d346df0259",
   "metadata": {},
   "outputs": [
    {
     "name": "stdout",
     "output_type": "stream",
     "text": [
      "Bhardwaj Arav Singh \n",
      "Data Scientist\n",
      "Bangalore \n",
      "Excelr\n",
      "Lakshami Narain Colleage Of Technology\n"
     ]
    }
   ],
   "source": [
    "fp = open(\"Singh.txt\",\"r\")\n",
    "a = fp.read()\n",
    "print(a)\n",
    "fp.close()"
   ]
  },
  {
   "cell_type": "code",
   "execution_count": 57,
   "id": "f8f18efe-94dd-41b2-b21a-8881c97fa86b",
   "metadata": {},
   "outputs": [
    {
     "name": "stdout",
     "output_type": "stream",
     "text": [
      "waj Arav Singh \n",
      "Data Scientist\n",
      "Bangalore \n",
      "Excelr\n",
      "Lakshami Narain Colleage Of Technology\n",
      "5\n"
     ]
    }
   ],
   "source": [
    "fp = open(\"Singh.txt\",\"r\")\n",
    "b = fp.seek(5)\n",
    "print(fp.read())\n",
    "print(b)\n",
    "fp.close()"
   ]
  },
  {
   "cell_type": "code",
   "execution_count": 61,
   "id": "39930b47-8587-4400-bb36-5ee6d9336fa6",
   "metadata": {},
   "outputs": [
    {
     "name": "stdout",
     "output_type": "stream",
     "text": [
      "3\n",
      "rdwaj Arav Singh \n",
      "Data Scientist\n",
      "Bangalore \n",
      "Excelr\n",
      "Lakshami Narain Colleage Of Technology\n"
     ]
    }
   ],
   "source": [
    "fp = open(\"Singh.txt\",\"r\")\n",
    "print(fp.seek(3))\n",
    "print(fp.read())\n",
    "fp.close()\n"
   ]
  },
  {
   "cell_type": "code",
   "execution_count": 81,
   "id": "8ba5252e-314b-47f4-9697-c9b7dd1e6516",
   "metadata": {},
   "outputs": [],
   "source": [
    "data = \"Bharwaj Arav Singh, Data Scientist\\nBangalore\"\n",
    "fp = open(\"Excelr.txt\",\"w\")\n",
    "fp.write(data)\n",
    "fp.close()"
   ]
  },
  {
   "cell_type": "code",
   "execution_count": 83,
   "id": "5563d07b-4b84-4188-96d9-9d36a9f069e3",
   "metadata": {},
   "outputs": [],
   "source": [
    "data =  \"Local Area Network\"\n",
    "fp = open(\"Excelr.txt\",\"w\")\n",
    "fp.write(data)\n",
    "fp.close()"
   ]
  },
  {
   "cell_type": "code",
   "execution_count": 87,
   "id": "eba21bbe-1df7-4c1e-a901-eddba57ddf64",
   "metadata": {},
   "outputs": [],
   "source": [
    "data = \"Personal Area Network\"\n",
    "fp = open(\"Excelr.txt\",\"w\")\n",
    "fp.write(data)\n",
    "fp.close()"
   ]
  },
  {
   "cell_type": "code",
   "execution_count": 89,
   "id": "7fe0a4be-2ec7-42d2-96e0-1ecab1cbbb56",
   "metadata": {},
   "outputs": [],
   "source": [
    "data = \"Excelr at bangalore\"\n",
    "fp = open(\"Excelr.txt\",\"a\")\n",
    "fp.write(data)\n",
    "fp.close()"
   ]
  },
  {
   "cell_type": "code",
   "execution_count": 93,
   "id": "f92d8913-3e70-4ad2-a312-66e6e76bba5a",
   "metadata": {},
   "outputs": [],
   "source": [
    "data = \"\\nBangalore\"\n",
    "fp = open(\"Excelr.txt\",\"a\")\n",
    "fp.write(data)\n",
    "fp.close()"
   ]
  },
  {
   "cell_type": "code",
   "execution_count": 103,
   "id": "f403477a-8f0d-4c28-a7a3-5f299ef94dc8",
   "metadata": {},
   "outputs": [],
   "source": [
    "data = ['Types of computer network\\n','there are mainly five types of computer networks\\n']\n",
    "data1 = \"A man is \"\n",
    "data2 = ['\\none','\\ntwo']\n",
    "fp = open(\"kumar.txt\",'w')\n",
    "fp.write(data1)\n",
    "fp.writelines(data2)\n",
    "fp.close()"
   ]
  },
  {
   "cell_type": "markdown",
   "id": "eef3cb0f-b722-4f94-94de-83c1c7d501a3",
   "metadata": {},
   "source": [
    "# Exceptional Handling"
   ]
  },
  {
   "cell_type": "code",
   "execution_count": 107,
   "id": "001d6a76-17ec-4796-a609-d2d987ac1102",
   "metadata": {},
   "outputs": [
    {
     "ename": "IndexError",
     "evalue": "list index out of range",
     "output_type": "error",
     "traceback": [
      "\u001b[1;31m---------------------------------------------------------------------------\u001b[0m",
      "\u001b[1;31mIndexError\u001b[0m                                Traceback (most recent call last)",
      "Cell \u001b[1;32mIn[107], line 2\u001b[0m\n\u001b[0;32m      1\u001b[0m a \u001b[38;5;241m=\u001b[39m [\u001b[38;5;124m\"\u001b[39m\u001b[38;5;124mFood\u001b[39m\u001b[38;5;124m\"\u001b[39m,\u001b[38;5;124m\"\u001b[39m\u001b[38;5;124mWater\u001b[39m\u001b[38;5;124m\"\u001b[39m,\u001b[38;5;124m\"\u001b[39m\u001b[38;5;124mMobile\u001b[39m\u001b[38;5;124m\"\u001b[39m]\n\u001b[1;32m----> 2\u001b[0m \u001b[38;5;28mprint\u001b[39m(a[\u001b[38;5;241m10\u001b[39m])\n",
      "\u001b[1;31mIndexError\u001b[0m: list index out of range"
     ]
    }
   ],
   "source": [
    "a = [\"Food\",\"Water\",\"Mobile\"]\n",
    "print(a[10])"
   ]
  },
  {
   "cell_type": "markdown",
   "id": "5639927a-369d-4cbf-b78c-ff5f3b4b82fb",
   "metadata": {},
   "source": [
    "### If I dont no the error form\n",
    "### Universal error acceptor:except"
   ]
  },
  {
   "cell_type": "code",
   "execution_count": 111,
   "id": "1c6c7dae-a0f7-4487-9892-bd657cd5b834",
   "metadata": {},
   "outputs": [
    {
     "name": "stdout",
     "output_type": "stream",
     "text": [
      "Dear contact with the admin department\n"
     ]
    }
   ],
   "source": [
    "try:\n",
    "    a=[\"Food\",\"Water\",\"Mobile\"]\n",
    "    pritn(a[10])\n",
    "except:\n",
    "    print(\"Dear contact with the admin department\")"
   ]
  },
  {
   "cell_type": "code",
   "execution_count": 109,
   "id": "6fbbb2d6-3095-4cd6-b2bc-d7691ee62c6a",
   "metadata": {},
   "outputs": [
    {
     "ename": "ZeroDivisionError",
     "evalue": "division by zero",
     "output_type": "error",
     "traceback": [
      "\u001b[1;31m---------------------------------------------------------------------------\u001b[0m",
      "\u001b[1;31mZeroDivisionError\u001b[0m                         Traceback (most recent call last)",
      "Cell \u001b[1;32mIn[109], line 3\u001b[0m\n\u001b[0;32m      1\u001b[0m a \u001b[38;5;241m=\u001b[39m \u001b[38;5;241m12\u001b[39m\n\u001b[0;32m      2\u001b[0m b \u001b[38;5;241m=\u001b[39m \u001b[38;5;241m0\u001b[39m\n\u001b[1;32m----> 3\u001b[0m c \u001b[38;5;241m=\u001b[39m a\u001b[38;5;241m/\u001b[39mb\n\u001b[0;32m      4\u001b[0m \u001b[38;5;28mprint\u001b[39m(c)\n",
      "\u001b[1;31mZeroDivisionError\u001b[0m: division by zero"
     ]
    }
   ],
   "source": [
    "a = 12\n",
    "b = 0\n",
    "c = a/b\n",
    "print(c)"
   ]
  },
  {
   "cell_type": "code",
   "execution_count": 118,
   "id": "ebcfdbbd-e2a7-4339-b440-cb5f6ade486b",
   "metadata": {},
   "outputs": [
    {
     "name": "stdout",
     "output_type": "stream",
     "text": [
      "Not Divisible \n"
     ]
    }
   ],
   "source": [
    "try:\n",
    "    a=12\n",
    "    b=0\n",
    "    c=a/b\n",
    "    print(c)\n",
    "except:\n",
    "    print(\"Not Divisible \")"
   ]
  },
  {
   "cell_type": "code",
   "execution_count": 124,
   "id": "eacc54a6-a2db-4389-867a-277685caea4e",
   "metadata": {},
   "outputs": [
    {
     "name": "stdout",
     "output_type": "stream",
     "text": [
      "Mobile\n",
      "2.0\n"
     ]
    }
   ],
   "source": [
    "try:\n",
    "    a = [\"Food\",\"Water\",\"Mobile\"]\n",
    "    print(a[2])\n",
    "    num1 = 12\n",
    "    num2 = 6\n",
    "    num3 = num1/num2\n",
    "    print(num3)\n",
    "except:\n",
    "    print(\"Dear contact with the department\")\n",
    "# it will run successfully because there is no any error"
   ]
  },
  {
   "cell_type": "code",
   "execution_count": 130,
   "id": "6663ba06-2660-4a6f-bcbc-2d832db3c3e4",
   "metadata": {},
   "outputs": [
    {
     "name": "stdout",
     "output_type": "stream",
     "text": [
      "Mobile\n",
      "Dear contact with the department\n"
     ]
    }
   ],
   "source": [
    "try:\n",
    "    a = [\"Food\",\"Water\",\"Mobile\"]\n",
    "    print(a[2])\n",
    "    num1 = 12\n",
    "    num2 = 0\n",
    "    num3 = num1/num2\n",
    "    print(num3)\n",
    "except:\n",
    "    print(\"Dear contact with the department\")"
   ]
  },
  {
   "cell_type": "code",
   "execution_count": 132,
   "id": "d370731f-5761-46ee-bb5b-ce3af8fdc511",
   "metadata": {},
   "outputs": [
    {
     "name": "stdout",
     "output_type": "stream",
     "text": [
      "Dear contact with the department\n"
     ]
    }
   ],
   "source": [
    "try:\n",
    "    a = [\"Food\",\"Water\",\"Mobile\"]\n",
    "    print(a[12])\n",
    "    num1 = 12\n",
    "    num2 = 0\n",
    "    num3 = num1/num2\n",
    "    print(num3)\n",
    "except:\n",
    "    print(\"Dear contact with the department\")"
   ]
  },
  {
   "cell_type": "code",
   "execution_count": 136,
   "id": "6aec9d46-5393-45b6-8842-47a07ab61901",
   "metadata": {},
   "outputs": [
    {
     "name": "stdout",
     "output_type": "stream",
     "text": [
      "Food\n",
      "Number 3 is  4.0\n"
     ]
    }
   ],
   "source": [
    "try:\n",
    "    a =[\"Food\",\"Water\",\"Mobile\"]\n",
    "    print(a[0])\n",
    "    num1 = 12\n",
    "    num2 = 3\n",
    "    num3 = num1/num2\n",
    "    print(\"Number 3 is \",num3)\n",
    "except IndexError:\n",
    "    print(\"Dear your index size is out of range\")\n",
    "except ZeroDivisionError:\n",
    "    print(\"Dear you are performing wrong arithmetic operation\")\n",
    "except TypeError:\n",
    "    print(\"Dear you are performing int and string operation\")\n",
    "except:\n",
    "    print(\"Unknown Problem\")"
   ]
  },
  {
   "cell_type": "markdown",
   "id": "0b38e73a-fbcd-4faa-a519-be1a8f731b6e",
   "metadata": {},
   "source": [
    "### create a function take 2 parameter for division if the second parameter is 0 then disp-lay a error message as dear scond value cant be zero"
   ]
  },
  {
   "cell_type": "code",
   "execution_count": 161,
   "id": "a1915875-8272-4d64-9d1e-2a026d1e5d9e",
   "metadata": {},
   "outputs": [
    {
     "name": "stdout",
     "output_type": "stream",
     "text": [
      "Second number cant be zero\n"
     ]
    }
   ],
   "source": [
    "def div_num(a,b):\n",
    "    try:\n",
    "        print(a/b)\n",
    "    except:\n",
    "        if b==0:\n",
    "            print(\"Second number cant be zero\")\n",
    "div_num(12,0)"
   ]
  },
  {
   "cell_type": "markdown",
   "id": "7499fbc5-d478-43d8-90bf-45892d6213c4",
   "metadata": {},
   "source": [
    "# else(optinal)"
   ]
  },
  {
   "cell_type": "raw",
   "id": "01adaf2d-984a-46a7-9b5f-e6a98bb9b0b8",
   "metadata": {},
   "source": [
    "try:\n",
    "    it is used to check whether the block of code containerror or not\n",
    "except:\n",
    "    will dispaly the error in general form.\n",
    "    If there is an error in try block.\n",
    "els:-->optional\n",
    "    to dispaly the line of code if there is No error in try block\n",
    "finally:-->optional\n",
    "        wheather there is error or not error you execute\n",
    "    "
   ]
  },
  {
   "cell_type": "code",
   "execution_count": 2,
   "id": "cf58bc5e-daf1-4936-828a-cfaca48b6d13",
   "metadata": {},
   "outputs": [
    {
     "name": "stdout",
     "output_type": "stream",
     "text": [
      "Something went wrong re-try your input\n"
     ]
    }
   ],
   "source": [
    "try:\n",
    "    a = 12\n",
    "    b = 0\n",
    "    c = a/b\n",
    "except:\n",
    "    print(\"Something went wrong re-try your input\")\n",
    "else:\n",
    "    print(\"Division is \",c)"
   ]
  },
  {
   "cell_type": "code",
   "execution_count": 10,
   "id": "9393eaba-7936-4d16-a811-a326e0512901",
   "metadata": {},
   "outputs": [
    {
     "name": "stdout",
     "output_type": "stream",
     "text": [
      "Division is  3.0\n"
     ]
    }
   ],
   "source": [
    "try:\n",
    "    a = 12\n",
    "    b = 4\n",
    "    c = a/b\n",
    "except:\n",
    "    print(\"Something went wrong re-try your input\")\n",
    "else:\n",
    "    print(\"Division is \",c)"
   ]
  },
  {
   "cell_type": "markdown",
   "id": "e44b6b30-9cc8-47b6-8f72-c729f01de8f3",
   "metadata": {},
   "source": [
    "## Take the file name from user"
   ]
  },
  {
   "cell_type": "code",
   "execution_count": 15,
   "id": "c34f2a0c-f0dc-49da-90b1-32111890e0ca",
   "metadata": {},
   "outputs": [
    {
     "name": "stdin",
     "output_type": "stream",
     "text": [
      "Enter a file name Anthony.txt\n"
     ]
    },
    {
     "name": "stdout",
     "output_type": "stream",
     "text": [
      "Local area networkMetroplitian Area network\n",
      "Metroplitian Area network\n",
      "Uses of computer network\n"
     ]
    }
   ],
   "source": [
    "try:\n",
    "    filename = input(\"Enter a file name\")\n",
    "    fp = open(filename,\"r\")\n",
    "except:\n",
    "    print(\"Something went wrong re-try your input\")\n",
    "else:\n",
    "    print(fp.read())\n",
    "    fp.close()"
   ]
  },
  {
   "cell_type": "markdown",
   "id": "4ab75604-5ad9-42f8-9f5c-95b6e2d2f84d",
   "metadata": {},
   "source": [
    "# finally(optional)\n",
    "wheather there is error or no error you execute"
   ]
  },
  {
   "cell_type": "code",
   "execution_count": 20,
   "id": "47d847ee-c159-4f75-a33f-7b72da6f3be1",
   "metadata": {},
   "outputs": [
    {
     "name": "stdin",
     "output_type": "stream",
     "text": [
      "Enter a file name Anthony.txt\n"
     ]
    },
    {
     "name": "stdout",
     "output_type": "stream",
     "text": [
      "Local area networkMetroplitian Area network\n",
      "Metroplitian Area network\n",
      "Uses of computer network\n",
      "Thanks for the Execution\n"
     ]
    }
   ],
   "source": [
    "try:\n",
    "    filename= input(\"Enter a file name\")\n",
    "    fp=open(filename,\"r\")\n",
    "except:\n",
    "    print(\"Something went wrong re-try your input\")\n",
    "else:\n",
    "    print(fp.read())\n",
    "    fp.close()\n",
    "finally:\n",
    "    print(\"Thanks for the Execution\")\n"
   ]
  },
  {
   "cell_type": "markdown",
   "id": "521b03e7-07d5-41e4-b543-0135b41d4cc5",
   "metadata": {},
   "source": [
    "# OPPS : Object Oriented Programming Structure"
   ]
  },
  {
   "cell_type": "raw",
   "id": "0f62d574-185f-436b-9390-3d57bb736ad3",
   "metadata": {},
   "source": [
    "class -> class is the blue print for an object\n",
    "ex,brief structure of buildng\n",
    "\n",
    "object -> object is the blue print of an class"
   ]
  },
  {
   "cell_type": "code",
   "execution_count": 25,
   "id": "ba0e4187-10b5-4b23-9465-002866eb77b7",
   "metadata": {},
   "outputs": [],
   "source": [
    "class test:\n",
    "    num1=\"\"\n",
    "    num2=\"\"\n",
    "    "
   ]
  },
  {
   "cell_type": "code",
   "execution_count": 27,
   "id": "645110fc-7ba5-4760-8d0c-6d48ee07b10f",
   "metadata": {},
   "outputs": [],
   "source": [
    "#object\n",
    "t1 = test()\n"
   ]
  },
  {
   "cell_type": "markdown",
   "id": "9b09eb31-adb4-4b57-b872-a950e1113e2c",
   "metadata": {},
   "source": [
    "#### I want to check wheather t1 is an object of test class or not"
   ]
  },
  {
   "cell_type": "code",
   "execution_count": 32,
   "id": "8bafbc30-43d0-4b5e-9ab3-d3c3370ca64e",
   "metadata": {},
   "outputs": [
    {
     "name": "stdout",
     "output_type": "stream",
     "text": [
      "True\n"
     ]
    }
   ],
   "source": [
    "a1 = []\n",
    "print(isinstance(a1,list))"
   ]
  },
  {
   "cell_type": "code",
   "execution_count": 34,
   "id": "a381333f-2f46-43c8-bc75-e950131e2ecb",
   "metadata": {},
   "outputs": [
    {
     "name": "stdout",
     "output_type": "stream",
     "text": [
      "False\n"
     ]
    }
   ],
   "source": [
    "a1 = ()\n",
    "print(isinstance(a1,list))"
   ]
  },
  {
   "cell_type": "code",
   "execution_count": 36,
   "id": "7d676145-d89d-46e7-9e15-d8c58aa7ad49",
   "metadata": {},
   "outputs": [
    {
     "name": "stdout",
     "output_type": "stream",
     "text": [
      "True\n"
     ]
    }
   ],
   "source": [
    "# check\n",
    "print(isinstance(t1,test))"
   ]
  },
  {
   "cell_type": "code",
   "execution_count": 38,
   "id": "39fd7232-e94c-48f6-be7c-791ec6617508",
   "metadata": {},
   "outputs": [
    {
     "name": "stdout",
     "output_type": "stream",
     "text": [
      "12\n",
      "34\n"
     ]
    }
   ],
   "source": [
    "t1.num1=12\n",
    "t1.num2=34\n",
    "print(t1.num1)\n",
    "print(t1.num2)"
   ]
  },
  {
   "cell_type": "markdown",
   "id": "1175c610-091e-4720-8a1d-5e05e2184c29",
   "metadata": {},
   "source": [
    "### can you tell me how to create one more new object t2"
   ]
  },
  {
   "cell_type": "code",
   "execution_count": 42,
   "id": "66cdbf0c-d256-464f-ab48-312bec40c3d8",
   "metadata": {},
   "outputs": [
    {
     "name": "stdout",
     "output_type": "stream",
     "text": [
      "90\n",
      "89\n"
     ]
    }
   ],
   "source": [
    "t2 = test()\n",
    "t2.num1=90\n",
    "t2.num2=89\n",
    "print(t2.num1)\n",
    "print(t2.num2)"
   ]
  },
  {
   "cell_type": "code",
   "execution_count": 46,
   "id": "89c5d96c-1a46-4a5b-a3be-2f9b9cbfcae3",
   "metadata": {},
   "outputs": [],
   "source": [
    "class student:\n",
    "    name=\"Dheeraj\"\n",
    "    std = 9\n",
    "    def display(self):\n",
    "        print(\"Student name is\",self.name)\n",
    "        print(\"Student std is \",self.std)"
   ]
  },
  {
   "cell_type": "code",
   "execution_count": 48,
   "id": "d3c2cc1c-1f57-48bf-9a9d-0c0dd156cdc8",
   "metadata": {},
   "outputs": [],
   "source": [
    "s1=student()"
   ]
  },
  {
   "cell_type": "code",
   "execution_count": 50,
   "id": "c9633b6d-2773-40a3-9e43-d38520ec0121",
   "metadata": {},
   "outputs": [
    {
     "name": "stdout",
     "output_type": "stream",
     "text": [
      "Student name is Dheeraj\n",
      "Student std is  9\n"
     ]
    }
   ],
   "source": [
    "s1.display()"
   ]
  },
  {
   "cell_type": "code",
   "execution_count": 54,
   "id": "a9e68d2f-843a-4652-b17a-c8f00a2dac9a",
   "metadata": {},
   "outputs": [],
   "source": [
    "s2 = student()"
   ]
  },
  {
   "cell_type": "code",
   "execution_count": 58,
   "id": "ef51a693-e0ba-4d95-9fdd-3bc1307b4e26",
   "metadata": {},
   "outputs": [
    {
     "name": "stdout",
     "output_type": "stream",
     "text": [
      "Student name is Dheeraj\n",
      "Student std is  9\n"
     ]
    }
   ],
   "source": [
    "s2.display()"
   ]
  },
  {
   "cell_type": "markdown",
   "id": "01a41ed9-a4d9-4180-8c00-e139a2c9e146",
   "metadata": {},
   "source": [
    "# Constructor\n",
    "it is called automatically when object is being created"
   ]
  },
  {
   "cell_type": "code",
   "execution_count": 63,
   "id": "c2bdb10b-5534-4218-9be8-85fe99b63812",
   "metadata": {},
   "outputs": [],
   "source": [
    "class student:\n",
    "    name = \"Dheeraj\"\n",
    "    std=9\n",
    "    def __init__(self):\n",
    "        print(\"I am a constructor,i being called..\")\n",
    "    def display(self):\n",
    "        print(\"student name is\",self.name)\n",
    "        print(\"Student std is\",self.std)    "
   ]
  },
  {
   "cell_type": "code",
   "execution_count": 65,
   "id": "b365004a-f25e-4524-9883-dede30009867",
   "metadata": {},
   "outputs": [
    {
     "name": "stdout",
     "output_type": "stream",
     "text": [
      "I am a constructor,i being called..\n"
     ]
    }
   ],
   "source": [
    "s1 = student()"
   ]
  },
  {
   "cell_type": "code",
   "execution_count": 68,
   "id": "9ddb7fac-1a22-4269-b736-8148203b29cc",
   "metadata": {},
   "outputs": [
    {
     "name": "stdout",
     "output_type": "stream",
     "text": [
      "I am a constructor,i being called..\n"
     ]
    }
   ],
   "source": [
    "s2 = student()"
   ]
  },
  {
   "cell_type": "code",
   "execution_count": 76,
   "id": "4942efe8-642d-4129-95fb-074f2c8fe1e3",
   "metadata": {},
   "outputs": [],
   "source": [
    "class Student:\n",
    "    School_name=\"St.Peters High School\"\n",
    "    def __init__(self,name,std):\n",
    "        self.name=name\n",
    "        self.std=std\n",
    "    def display(self):\n",
    "        print(self.School_name)\n",
    "        print(\"Student name is \",self.name)\n",
    "        print(\"Student std is \",self.std)"
   ]
  },
  {
   "cell_type": "code",
   "execution_count": 78,
   "id": "8774ec55-0445-48ad-80a6-2c05f424991c",
   "metadata": {},
   "outputs": [],
   "source": [
    "s1=Student(\"Mohit\",5)\n",
    "s2=Student(\"Akash\",6)\n",
    "s3= Student(\"Neha\",9)"
   ]
  },
  {
   "cell_type": "code",
   "execution_count": 84,
   "id": "14a20c6b-7081-4d83-8ee9-fb72570d71b7",
   "metadata": {},
   "outputs": [
    {
     "name": "stdout",
     "output_type": "stream",
     "text": [
      "St.Peters High School\n",
      "Student name is  Mohit\n",
      "Student std is  5\n",
      "St.Peters High School\n",
      "Student name is  Akash\n",
      "Student std is  6\n",
      "St.Peters High School\n",
      "Student name is  Neha\n",
      "Student std is  9\n"
     ]
    }
   ],
   "source": [
    "s1.display()\n",
    "s2.display()\n",
    "s3.display()"
   ]
  },
  {
   "cell_type": "markdown",
   "id": "bec4dbec-662b-419b-bb1e-e11ad6730879",
   "metadata": {},
   "source": [
    "# Destructor"
   ]
  },
  {
   "cell_type": "code",
   "execution_count": 29,
   "id": "a59dc776-cacf-4e84-bc02-ef685db63165",
   "metadata": {},
   "outputs": [],
   "source": [
    "class Student:\n",
    "    School_name=\"St.Peters High School\"\n",
    "    #constructor\n",
    "    def __init__(self,name,std):\n",
    "        self.name=name\n",
    "        self.std=std\n",
    "    #Destructor\n",
    "    def __del__(self):\n",
    "        print(\"Your object is being destroy\")\n",
    "    def display(self):\n",
    "        print(self.School_name)\n",
    "        print(\"Student name is \",self.name)\n",
    "        print(\"Student std is \",self.std)"
   ]
  },
  {
   "cell_type": "code",
   "execution_count": 31,
   "id": "736c6c44-a1b1-4bbf-869e-48f49dda8592",
   "metadata": {},
   "outputs": [],
   "source": [
    "s1=Student(\"Mohit\",5)\n",
    "s2=Student(\"Akash\",5)\n",
    "s3=Student(\"Neha\",9)"
   ]
  },
  {
   "cell_type": "code",
   "execution_count": 33,
   "id": "c11c6bcb-e684-4ae5-8323-8940490bcfa1",
   "metadata": {},
   "outputs": [
    {
     "name": "stdout",
     "output_type": "stream",
     "text": [
      "St.Peters High School\n",
      "Student name is  Mohit\n",
      "Student std is  5\n"
     ]
    }
   ],
   "source": [
    "s1.display()"
   ]
  },
  {
   "cell_type": "code",
   "execution_count": 35,
   "id": "95cbf1cb-3936-4c93-9b25-a61448122998",
   "metadata": {},
   "outputs": [
    {
     "name": "stdout",
     "output_type": "stream",
     "text": [
      "St.Peters High School\n",
      "Student name is  Akash\n",
      "Student std is  5\n"
     ]
    }
   ],
   "source": [
    "s2.display()"
   ]
  },
  {
   "cell_type": "code",
   "execution_count": 37,
   "id": "1fa1f5d8-fdcd-4931-9206-47f42bc42459",
   "metadata": {},
   "outputs": [
    {
     "name": "stdout",
     "output_type": "stream",
     "text": [
      "St.Peters High School\n",
      "Student name is  Neha\n",
      "Student std is  9\n"
     ]
    }
   ],
   "source": [
    "s3.display()"
   ]
  },
  {
   "cell_type": "code",
   "execution_count": 39,
   "id": "5b3469ab-69cd-496f-8a5f-2966778464aa",
   "metadata": {},
   "outputs": [
    {
     "name": "stdout",
     "output_type": "stream",
     "text": [
      "Your object is being destroy\n"
     ]
    }
   ],
   "source": [
    "del s2"
   ]
  },
  {
   "cell_type": "code",
   "execution_count": 44,
   "id": "214fe3c1-f6c3-4a4e-97de-3097919c0c62",
   "metadata": {},
   "outputs": [
    {
     "name": "stdout",
     "output_type": "stream",
     "text": [
      "Your object is being destroy\n"
     ]
    }
   ],
   "source": [
    "del s3"
   ]
  },
  {
   "cell_type": "markdown",
   "id": "f28b70d0-8101-4e33-8727-db9b8870739b",
   "metadata": {},
   "source": [
    "# Abstraction"
   ]
  },
  {
   "cell_type": "code",
   "execution_count": 51,
   "id": "27a50b29-870b-4d3b-b0e4-6982f2e96dac",
   "metadata": {},
   "outputs": [],
   "source": [
    "class Student:\n",
    "    School_name=\"St.Peters High School\"\n",
    "    \n",
    "    #constructor\n",
    "    def __init__(self,name,std,fees):\n",
    "        self.name=name\n",
    "        self.std=std\n",
    "        self.__fees=fees # abstraction fees will be private\n",
    "        \n",
    "    #Destructor\n",
    "    def __del__(self):\n",
    "        print(\"Your object is being destroy\")\n",
    "        \n",
    "    def display(self):\n",
    "        print(self.School_name)\n",
    "        print(\"Student name is \",self.name)\n",
    "        print(\"Student std is \",self.std)\n",
    "        print(\"Student paid fees is \",self.__fees)"
   ]
  },
  {
   "cell_type": "code",
   "execution_count": 72,
   "id": "79b6b722-a1e7-490e-9376-f6592a7c4e97",
   "metadata": {},
   "outputs": [
    {
     "name": "stdout",
     "output_type": "stream",
     "text": [
      "Your object is being destroy\n",
      "Your object is being destroy\n"
     ]
    }
   ],
   "source": [
    "s1=Student(\"Mohit\",5,5000)\n",
    "s2=Student(\"Akash\",6,5500)\n",
    "s3=Student(\"Neha\",9,6000)"
   ]
  },
  {
   "cell_type": "code",
   "execution_count": 59,
   "id": "e27ae6ea-ddc5-4692-8071-c407b8e82458",
   "metadata": {},
   "outputs": [
    {
     "name": "stdout",
     "output_type": "stream",
     "text": [
      "St.Peters High School\n",
      "Student name is  Mohit\n",
      "Student std is  5\n",
      "Student paid fees is  5000\n",
      "St.Peters High School\n",
      "Student name is  Akash\n",
      "Student std is  5\n",
      "Student paid fees is  5500\n",
      "St.Peters High School\n",
      "Student name is  Neha\n",
      "Student std is  9\n",
      "Student paid fees is  6000\n"
     ]
    }
   ],
   "source": [
    "s1.display()\n",
    "s2.display()\n",
    "s3.display()"
   ]
  },
  {
   "cell_type": "code",
   "execution_count": 67,
   "id": "04f0d8cd-f41a-4159-aa45-efea195662a7",
   "metadata": {},
   "outputs": [
    {
     "name": "stdout",
     "output_type": "stream",
     "text": [
      "Mohit\n",
      "5\n"
     ]
    },
    {
     "ename": "AttributeError",
     "evalue": "'Student' object has no attribute 'fees'",
     "output_type": "error",
     "traceback": [
      "\u001b[1;31m---------------------------------------------------------------------------\u001b[0m",
      "\u001b[1;31mAttributeError\u001b[0m                            Traceback (most recent call last)",
      "Cell \u001b[1;32mIn[67], line 3\u001b[0m\n\u001b[0;32m      1\u001b[0m \u001b[38;5;28mprint\u001b[39m(s1\u001b[38;5;241m.\u001b[39mname)\n\u001b[0;32m      2\u001b[0m \u001b[38;5;28mprint\u001b[39m(s1\u001b[38;5;241m.\u001b[39mstd)\n\u001b[1;32m----> 3\u001b[0m \u001b[38;5;28mprint\u001b[39m(s1\u001b[38;5;241m.\u001b[39mfees)\n",
      "\u001b[1;31mAttributeError\u001b[0m: 'Student' object has no attribute 'fees'"
     ]
    }
   ],
   "source": [
    "print(s1.name)\n",
    "print(s1.std)\n",
    "print(s1.fees)\n",
    "# because fees were hide by self.__fees"
   ]
  },
  {
   "cell_type": "markdown",
   "id": "106b4af5-248f-4291-b9de-edee041dc6eb",
   "metadata": {},
   "source": [
    "## Name mangling"
   ]
  },
  {
   "cell_type": "code",
   "execution_count": 70,
   "id": "1dd38f08-f119-4bc4-aa27-14711e290f45",
   "metadata": {},
   "outputs": [
    {
     "name": "stdout",
     "output_type": "stream",
     "text": [
      "5000\n"
     ]
    }
   ],
   "source": [
    "print(s1._Student__fees)"
   ]
  },
  {
   "cell_type": "markdown",
   "id": "b49c5096-ba96-4bed-9519-803ee2eaaf0e",
   "metadata": {},
   "source": [
    "# Inheritance\n",
    "Code Reuseability"
   ]
  },
  {
   "cell_type": "code",
   "execution_count": 108,
   "id": "6fc564f3-1d94-4cb3-a617-f48c45aa9350",
   "metadata": {},
   "outputs": [],
   "source": [
    "class NOKIA:\n",
    "    company=\"Nokia India\"\n",
    "    website=\"www.nokiaindia.com\"\n",
    "    \n",
    "    def contact_details(self):\n",
    "        print(\"Address : Dr.Bhem J Road, Opposite Peters School , Dadar East , Maharashtra : 400010\")\n",
    "        "
   ]
  },
  {
   "cell_type": "code",
   "execution_count": 118,
   "id": "1247ec3e-a503-417d-816a-6d9748869ddd",
   "metadata": {},
   "outputs": [],
   "source": [
    "class NOKIA1100(NOKIA):\n",
    "    def __init__(self):\n",
    "        self.name=\"NOKIA 1100\"\n",
    "        self.year=2020\n",
    "        \n",
    "    def Product_details(self):\n",
    "        print(\"Product name is \",self.name)\n",
    "        print(\"Product launch year is \",self.year)\n",
    "        print(\"Product comapny is \",self.company)\n",
    "        print(\"Product website is \",self.website)"
   ]
  },
  {
   "cell_type": "code",
   "execution_count": 120,
   "id": "e787ca3a-c947-45e5-ae84-d5b740486a4b",
   "metadata": {},
   "outputs": [],
   "source": [
    "m1 = NOKIA1100()"
   ]
  },
  {
   "cell_type": "code",
   "execution_count": 126,
   "id": "be785973-aebc-4c31-abe5-eb8151919dfb",
   "metadata": {},
   "outputs": [
    {
     "name": "stdout",
     "output_type": "stream",
     "text": [
      "Product name is  NOKIA 1100\n",
      "Product launch year is  2020\n",
      "Product comapny is  Nokia India\n",
      "Product website is  www.nokiaindia.com\n",
      "Address : Dr.Bhem J Road, Opposite Peters School , Dadar East , Maharashtra : 400010\n"
     ]
    }
   ],
   "source": [
    "m1.Product_details()\n",
    "m1.contact_details()"
   ]
  },
  {
   "cell_type": "markdown",
   "id": "1b171e9a-ef60-465b-b6e1-2185a89ea693",
   "metadata": {},
   "source": [
    "### New Example"
   ]
  },
  {
   "cell_type": "code",
   "execution_count": 129,
   "id": "2720d750-e03b-40e1-b9f0-5bd472313cf7",
   "metadata": {},
   "outputs": [],
   "source": [
    "class Person:\n",
    "    def person_info(self,name,age):\n",
    "        print(\"Person name is \",name)\n",
    "        print(\"Person age is \",age)"
   ]
  },
  {
   "cell_type": "code",
   "execution_count": 131,
   "id": "8d6f9258-8d6f-4ed2-847c-29610658e8cf",
   "metadata": {},
   "outputs": [],
   "source": [
    "class Company:\n",
    "    def company_info(self,cname,location):\n",
    "        print(\"company name is \",cname)\n",
    "        print(\"company location is \",location)"
   ]
  },
  {
   "cell_type": "code",
   "execution_count": 133,
   "id": "f212b9b9-56a6-494e-961c-18f8fe6d4cc5",
   "metadata": {},
   "outputs": [],
   "source": [
    "class Employee(Person,Company):\n",
    "    def Employee_info(self,salary,skill):\n",
    "        print(\"Employee salary is \",salary)\n",
    "        print(\"Employee skill is\",skill)\n",
    "   "
   ]
  },
  {
   "cell_type": "code",
   "execution_count": 135,
   "id": "4528718c-26a1-42a7-9522-51357204f36f",
   "metadata": {},
   "outputs": [],
   "source": [
    "e1 = Employee()"
   ]
  },
  {
   "cell_type": "code",
   "execution_count": 137,
   "id": "003b27aa-560c-4d59-af24-0ec48b5f9f9e",
   "metadata": {},
   "outputs": [
    {
     "name": "stdout",
     "output_type": "stream",
     "text": [
      "Person name is  Mohit\n",
      "Person age is  34\n"
     ]
    }
   ],
   "source": [
    "e1.person_info(\"Mohit\",34)"
   ]
  },
  {
   "cell_type": "code",
   "execution_count": 141,
   "id": "6512885f-e5a5-4e14-b419-be518efb3f5f",
   "metadata": {},
   "outputs": [
    {
     "name": "stdout",
     "output_type": "stream",
     "text": [
      "company name is  Excelr\n",
      "company location is  dadar\n"
     ]
    }
   ],
   "source": [
    "e1.company_info(\"Excelr\",\"dadar\")"
   ]
  },
  {
   "cell_type": "markdown",
   "id": "e437252f-408a-49b3-bde4-41a7d0625511",
   "metadata": {},
   "source": [
    "# Libraries"
   ]
  },
  {
   "cell_type": "markdown",
   "id": "860c827b-c59c-469d-8932-ac7e7d9f361f",
   "metadata": {},
   "source": [
    "### numpy"
   ]
  },
  {
   "cell_type": "code",
   "execution_count": 2,
   "id": "1f662c48-3e5f-492c-a094-432f47bb308c",
   "metadata": {},
   "outputs": [],
   "source": [
    "import numpy as np"
   ]
  },
  {
   "cell_type": "code",
   "execution_count": 4,
   "id": "05e5c82e-d8c1-4106-bf67-30e1f1f5de4f",
   "metadata": {},
   "outputs": [
    {
     "name": "stdout",
     "output_type": "stream",
     "text": [
      "[12, 34, 56, 78, 90]\n"
     ]
    }
   ],
   "source": [
    "list1 = [12,34,56,78,90]\n",
    "print(list1)"
   ]
  },
  {
   "cell_type": "code",
   "execution_count": 6,
   "id": "b9dfcbee-81ee-4779-bf87-392f77c38eb2",
   "metadata": {},
   "outputs": [
    {
     "name": "stdout",
     "output_type": "stream",
     "text": [
      "[[12  4 56 78 90 54 34 45]\n",
      " [12  4 56 78 90 54 34 45]]\n"
     ]
    }
   ],
   "source": [
    "ar1= np.array([[12,4,56,78,90,54,34,45],[12,4,56,78,90,54,34,45]])\n",
    "print(ar1)"
   ]
  },
  {
   "cell_type": "code",
   "execution_count": 8,
   "id": "f21b7424-83af-459e-870b-e14edc752d17",
   "metadata": {},
   "outputs": [
    {
     "name": "stdout",
     "output_type": "stream",
     "text": [
      "<class 'numpy.ndarray'>\n"
     ]
    }
   ],
   "source": [
    "print(type(ar1))"
   ]
  },
  {
   "cell_type": "code",
   "execution_count": 10,
   "id": "ee6cb855-894e-4080-a2eb-2837b1e7aa5e",
   "metadata": {},
   "outputs": [
    {
     "name": "stdout",
     "output_type": "stream",
     "text": [
      "(2, 8)\n"
     ]
    }
   ],
   "source": [
    "print(ar1.shape)"
   ]
  },
  {
   "cell_type": "code",
   "execution_count": 12,
   "id": "b5593ed1-094d-4292-b4c4-02dcc6c5293c",
   "metadata": {},
   "outputs": [
    {
     "name": "stdout",
     "output_type": "stream",
     "text": [
      "int32\n"
     ]
    }
   ],
   "source": [
    "print(ar1.dtype)"
   ]
  },
  {
   "cell_type": "code",
   "execution_count": 14,
   "id": "e76413df-f4cc-4ea5-aa33-c035dd82b2c9",
   "metadata": {},
   "outputs": [
    {
     "name": "stdout",
     "output_type": "stream",
     "text": [
      "[[12 12]\n",
      " [ 4  4]\n",
      " [56 56]\n",
      " [78 78]\n",
      " [90 90]\n",
      " [54 54]\n",
      " [34 34]\n",
      " [45 45]]\n"
     ]
    }
   ],
   "source": [
    "print(ar1.T)"
   ]
  },
  {
   "cell_type": "code",
   "execution_count": 16,
   "id": "2664366a-1765-4415-ab08-5fb25a37e7e3",
   "metadata": {},
   "outputs": [],
   "source": [
    "num1 = np.array([[23,45,67],[12,34,78]])"
   ]
  },
  {
   "cell_type": "code",
   "execution_count": 18,
   "id": "66a62359-450c-4479-afbe-f7d0437301cb",
   "metadata": {},
   "outputs": [],
   "source": [
    "num2 = np.array([[5,5,5],[3,3,3]])"
   ]
  },
  {
   "cell_type": "code",
   "execution_count": 20,
   "id": "c1f6fc1d-ee96-4852-9db3-7494394d6507",
   "metadata": {},
   "outputs": [
    {
     "name": "stdout",
     "output_type": "stream",
     "text": [
      "[[28 50 72]\n",
      " [15 37 81]]\n"
     ]
    }
   ],
   "source": [
    "print(np.add(num1,num2))"
   ]
  },
  {
   "cell_type": "code",
   "execution_count": 24,
   "id": "ae3f9ced-6ed1-46c3-af7e-f65c91e1e713",
   "metadata": {},
   "outputs": [
    {
     "name": "stdout",
     "output_type": "stream",
     "text": [
      "[[18 40 62]\n",
      " [ 9 31 75]]\n"
     ]
    }
   ],
   "source": [
    "print(np.subtract(num1,num2))"
   ]
  },
  {
   "cell_type": "code",
   "execution_count": 26,
   "id": "13aa4e60-cc48-456f-9177-cdebc5c2b89a",
   "metadata": {},
   "outputs": [
    {
     "name": "stdout",
     "output_type": "stream",
     "text": [
      "[[115 225 335]\n",
      " [ 36 102 234]]\n"
     ]
    }
   ],
   "source": [
    "print(np.multiply(num1,num2))"
   ]
  },
  {
   "cell_type": "code",
   "execution_count": 28,
   "id": "3f8dc584-051b-4bbe-b135-d586a7b8f011",
   "metadata": {},
   "outputs": [
    {
     "name": "stdout",
     "output_type": "stream",
     "text": [
      "[[ 4.6         9.         13.4       ]\n",
      " [ 4.         11.33333333 26.        ]]\n"
     ]
    }
   ],
   "source": [
    "print(np.divide(num1,num2))"
   ]
  },
  {
   "cell_type": "code",
   "execution_count": 30,
   "id": "8c00a76e-6846-49b9-b787-3051deeec64c",
   "metadata": {},
   "outputs": [
    {
     "name": "stdout",
     "output_type": "stream",
     "text": [
      "[[   6436343  184528125 1350125107]\n",
      " [      1728      39304     474552]]\n"
     ]
    }
   ],
   "source": [
    "print(np.power(num1,num2))"
   ]
  },
  {
   "cell_type": "markdown",
   "id": "48902159-f318-4eb7-913c-0e681cc42804",
   "metadata": {},
   "source": [
    "### pandas"
   ]
  },
  {
   "cell_type": "code",
   "execution_count": 3,
   "id": "bfa81dae-0ba5-4f6a-af6f-c45561e57c0f",
   "metadata": {},
   "outputs": [],
   "source": [
    "import pandas as pd"
   ]
  },
  {
   "cell_type": "code",
   "execution_count": 7,
   "id": "3e0cc471-3e40-4cc6-b862-f02014561b50",
   "metadata": {},
   "outputs": [
    {
     "data": {
      "text/plain": [
       "0         c\n",
       "1       C++\n",
       "2        C#\n",
       "3      .net\n",
       "4      JAVA\n",
       "5    PYTHON\n",
       "dtype: object"
      ]
     },
     "execution_count": 7,
     "metadata": {},
     "output_type": "execute_result"
    }
   ],
   "source": [
    "data = [\"c\",\"C++\",\"C#\",\".net\",\"JAVA\",\"PYTHON\"]\n",
    "pd.Series(data)"
   ]
  },
  {
   "cell_type": "code",
   "execution_count": 11,
   "id": "7186bbb3-0a65-447e-914f-cd994e9c6ea5",
   "metadata": {},
   "outputs": [
    {
     "data": {
      "text/plain": [
       "1         c\n",
       "2       C++\n",
       "3        C#\n",
       "4      .net\n",
       "5      JAVA\n",
       "6    PYTHON\n",
       "dtype: object"
      ]
     },
     "execution_count": 11,
     "metadata": {},
     "output_type": "execute_result"
    }
   ],
   "source": [
    "pd.Series(data,index=[1,2,3,4,5,6])"
   ]
  },
  {
   "cell_type": "code",
   "execution_count": 17,
   "id": "aab7ca24-708e-4e49-ac6f-9b0b92c2bc4a",
   "metadata": {},
   "outputs": [
    {
     "data": {
      "text/plain": [
       "lnag1         c\n",
       "lang2       C++\n",
       "lang3        C#\n",
       "lang4      .net\n",
       "lang5      JAVA\n",
       "lang6    PYTHON\n",
       "dtype: object"
      ]
     },
     "execution_count": 17,
     "metadata": {},
     "output_type": "execute_result"
    }
   ],
   "source": [
    "pd.Series(data,index=[\"lnag1\",\"lang2\",\"lang3\",\"lang4\",\"lang5\",\"lang6\"])"
   ]
  },
  {
   "cell_type": "code",
   "execution_count": 19,
   "id": "39fb3ccc-b278-48ea-af54-c27591898029",
   "metadata": {},
   "outputs": [],
   "source": [
    "Data={\n",
    "    \"lang1\":\"C\",\n",
    "    \"lang2\":\"C++\",\n",
    "    \"lang3\":\"JAVA\"\n",
    "}"
   ]
  },
  {
   "cell_type": "code",
   "execution_count": 21,
   "id": "837737bf-19bb-454c-943b-626584a7f41c",
   "metadata": {},
   "outputs": [
    {
     "data": {
      "text/plain": [
       "lang1       C\n",
       "lang2     C++\n",
       "lang3    JAVA\n",
       "dtype: object"
      ]
     },
     "execution_count": 21,
     "metadata": {},
     "output_type": "execute_result"
    }
   ],
   "source": [
    "pd.Series(Data)"
   ]
  },
  {
   "cell_type": "markdown",
   "id": "ce9ae26f-0682-4775-8469-0be4330bfb2b",
   "metadata": {},
   "source": [
    "### DATAFRAME"
   ]
  },
  {
   "cell_type": "code",
   "execution_count": 24,
   "id": "a99d1f21-bef9-4aed-80cb-cea7300cd021",
   "metadata": {},
   "outputs": [],
   "source": [
    "data = {\n",
    "    \"NAME\":[\"ARTI\",\"ARMAN\",\"ARUN\"],\n",
    "    \"AGE\":[23,43,56],\n",
    "    \"LOCATION\":[\"MUMBAI\",\"DELHI\",\"PUNE\"]\n",
    "}"
   ]
  },
  {
   "cell_type": "code",
   "execution_count": 26,
   "id": "a320a067-c3e3-45d8-8fee-0f4e91529f2e",
   "metadata": {},
   "outputs": [
    {
     "data": {
      "text/html": [
       "<div>\n",
       "<style scoped>\n",
       "    .dataframe tbody tr th:only-of-type {\n",
       "        vertical-align: middle;\n",
       "    }\n",
       "\n",
       "    .dataframe tbody tr th {\n",
       "        vertical-align: top;\n",
       "    }\n",
       "\n",
       "    .dataframe thead th {\n",
       "        text-align: right;\n",
       "    }\n",
       "</style>\n",
       "<table border=\"1\" class=\"dataframe\">\n",
       "  <thead>\n",
       "    <tr style=\"text-align: right;\">\n",
       "      <th></th>\n",
       "      <th>NAME</th>\n",
       "      <th>AGE</th>\n",
       "      <th>LOCATION</th>\n",
       "    </tr>\n",
       "  </thead>\n",
       "  <tbody>\n",
       "    <tr>\n",
       "      <th>0</th>\n",
       "      <td>ARTI</td>\n",
       "      <td>23</td>\n",
       "      <td>MUMBAI</td>\n",
       "    </tr>\n",
       "    <tr>\n",
       "      <th>1</th>\n",
       "      <td>ARMAN</td>\n",
       "      <td>43</td>\n",
       "      <td>DELHI</td>\n",
       "    </tr>\n",
       "    <tr>\n",
       "      <th>2</th>\n",
       "      <td>ARUN</td>\n",
       "      <td>56</td>\n",
       "      <td>PUNE</td>\n",
       "    </tr>\n",
       "  </tbody>\n",
       "</table>\n",
       "</div>"
      ],
      "text/plain": [
       "    NAME  AGE LOCATION\n",
       "0   ARTI   23   MUMBAI\n",
       "1  ARMAN   43    DELHI\n",
       "2   ARUN   56     PUNE"
      ]
     },
     "execution_count": 26,
     "metadata": {},
     "output_type": "execute_result"
    }
   ],
   "source": [
    "pd.DataFrame(data)"
   ]
  },
  {
   "cell_type": "code",
   "execution_count": 28,
   "id": "8c3ba9cb-ced2-46b3-8e92-c0424984280a",
   "metadata": {},
   "outputs": [
    {
     "data": {
      "text/html": [
       "<div>\n",
       "<style scoped>\n",
       "    .dataframe tbody tr th:only-of-type {\n",
       "        vertical-align: middle;\n",
       "    }\n",
       "\n",
       "    .dataframe tbody tr th {\n",
       "        vertical-align: top;\n",
       "    }\n",
       "\n",
       "    .dataframe thead th {\n",
       "        text-align: right;\n",
       "    }\n",
       "</style>\n",
       "<table border=\"1\" class=\"dataframe\">\n",
       "  <thead>\n",
       "    <tr style=\"text-align: right;\">\n",
       "      <th></th>\n",
       "      <th>NAME</th>\n",
       "      <th>AGE</th>\n",
       "      <th>LOCATION</th>\n",
       "    </tr>\n",
       "  </thead>\n",
       "  <tbody>\n",
       "    <tr>\n",
       "      <th>1</th>\n",
       "      <td>ARTI</td>\n",
       "      <td>23</td>\n",
       "      <td>MUMBAI</td>\n",
       "    </tr>\n",
       "    <tr>\n",
       "      <th>2</th>\n",
       "      <td>ARMAN</td>\n",
       "      <td>43</td>\n",
       "      <td>DELHI</td>\n",
       "    </tr>\n",
       "    <tr>\n",
       "      <th>3</th>\n",
       "      <td>ARUN</td>\n",
       "      <td>56</td>\n",
       "      <td>PUNE</td>\n",
       "    </tr>\n",
       "  </tbody>\n",
       "</table>\n",
       "</div>"
      ],
      "text/plain": [
       "    NAME  AGE LOCATION\n",
       "1   ARTI   23   MUMBAI\n",
       "2  ARMAN   43    DELHI\n",
       "3   ARUN   56     PUNE"
      ]
     },
     "execution_count": 28,
     "metadata": {},
     "output_type": "execute_result"
    }
   ],
   "source": [
    "pd.DataFrame(data,index=[1,2,3,])"
   ]
  },
  {
   "cell_type": "code",
   "execution_count": 30,
   "id": "d6276f25-683c-42ff-82da-0a2af25e1aff",
   "metadata": {},
   "outputs": [],
   "source": [
    "df = pd.read_csv(r\"D:\\EXCEELR_3RD_BATCH\\CARS_1.csv\")"
   ]
  },
  {
   "cell_type": "code",
   "execution_count": 32,
   "id": "16c4a3dc-eca1-4034-a178-1b808db319e3",
   "metadata": {},
   "outputs": [
    {
     "data": {
      "text/html": [
       "<div>\n",
       "<style scoped>\n",
       "    .dataframe tbody tr th:only-of-type {\n",
       "        vertical-align: middle;\n",
       "    }\n",
       "\n",
       "    .dataframe tbody tr th {\n",
       "        vertical-align: top;\n",
       "    }\n",
       "\n",
       "    .dataframe thead th {\n",
       "        text-align: right;\n",
       "    }\n",
       "</style>\n",
       "<table border=\"1\" class=\"dataframe\">\n",
       "  <thead>\n",
       "    <tr style=\"text-align: right;\">\n",
       "      <th></th>\n",
       "      <th>name_of_car</th>\n",
       "      <th>Model</th>\n",
       "      <th>Type</th>\n",
       "      <th>Origin</th>\n",
       "      <th>DriveTrain</th>\n",
       "      <th>MSRP</th>\n",
       "      <th>Invoice</th>\n",
       "      <th>EngineSize</th>\n",
       "      <th>Cylinders</th>\n",
       "      <th>Horsepower</th>\n",
       "      <th>MPG_City</th>\n",
       "      <th>MPG_Highway</th>\n",
       "      <th>Weight</th>\n",
       "      <th>Wheelbase</th>\n",
       "      <th>Length</th>\n",
       "      <th>Unnamed: 15</th>\n",
       "    </tr>\n",
       "  </thead>\n",
       "  <tbody>\n",
       "    <tr>\n",
       "      <th>0</th>\n",
       "      <td>Acura</td>\n",
       "      <td>NSX coupe 2dr manual S</td>\n",
       "      <td>Sports</td>\n",
       "      <td>Asia</td>\n",
       "      <td>Rear</td>\n",
       "      <td>$89,765</td>\n",
       "      <td>$79,978</td>\n",
       "      <td>3.2</td>\n",
       "      <td>6.0</td>\n",
       "      <td>290.0</td>\n",
       "      <td>17.0</td>\n",
       "      <td>24.0</td>\n",
       "      <td>3153.0</td>\n",
       "      <td>100.0</td>\n",
       "      <td>174.0</td>\n",
       "      <td>NaN</td>\n",
       "    </tr>\n",
       "    <tr>\n",
       "      <th>1</th>\n",
       "      <td>Acura</td>\n",
       "      <td>3.5 RL w/Navigation 4dr</td>\n",
       "      <td>Sedan</td>\n",
       "      <td>Asia</td>\n",
       "      <td>Front</td>\n",
       "      <td>$46,100</td>\n",
       "      <td>$41,100</td>\n",
       "      <td>3.5</td>\n",
       "      <td>6.0</td>\n",
       "      <td>225.0</td>\n",
       "      <td>18.0</td>\n",
       "      <td>24.0</td>\n",
       "      <td>3893.0</td>\n",
       "      <td>115.0</td>\n",
       "      <td>197.0</td>\n",
       "      <td>NaN</td>\n",
       "    </tr>\n",
       "    <tr>\n",
       "      <th>2</th>\n",
       "      <td>Acura</td>\n",
       "      <td>3.5 RL 4dr</td>\n",
       "      <td>Sedan</td>\n",
       "      <td>Asia</td>\n",
       "      <td>Front</td>\n",
       "      <td>$43,755</td>\n",
       "      <td>$39,014</td>\n",
       "      <td>3.5</td>\n",
       "      <td>6.0</td>\n",
       "      <td>225.0</td>\n",
       "      <td>18.0</td>\n",
       "      <td>24.0</td>\n",
       "      <td>3880.0</td>\n",
       "      <td>115.0</td>\n",
       "      <td>197.0</td>\n",
       "      <td>NaN</td>\n",
       "    </tr>\n",
       "    <tr>\n",
       "      <th>3</th>\n",
       "      <td>Acura</td>\n",
       "      <td>MDX</td>\n",
       "      <td>NaN</td>\n",
       "      <td>Asia</td>\n",
       "      <td>All</td>\n",
       "      <td>$36,945</td>\n",
       "      <td>NaN</td>\n",
       "      <td>3.5</td>\n",
       "      <td>6.0</td>\n",
       "      <td>265.0</td>\n",
       "      <td>17.0</td>\n",
       "      <td>23.0</td>\n",
       "      <td>4451.0</td>\n",
       "      <td>106.0</td>\n",
       "      <td>189.0</td>\n",
       "      <td>NaN</td>\n",
       "    </tr>\n",
       "    <tr>\n",
       "      <th>4</th>\n",
       "      <td>Acura</td>\n",
       "      <td>TL 4dr</td>\n",
       "      <td>NaN</td>\n",
       "      <td>Asia</td>\n",
       "      <td>Front</td>\n",
       "      <td>$33,195</td>\n",
       "      <td>NaN</td>\n",
       "      <td>3.2</td>\n",
       "      <td>6.0</td>\n",
       "      <td>270.0</td>\n",
       "      <td>20.0</td>\n",
       "      <td>28.0</td>\n",
       "      <td>3575.0</td>\n",
       "      <td>108.0</td>\n",
       "      <td>186.0</td>\n",
       "      <td>NaN</td>\n",
       "    </tr>\n",
       "    <tr>\n",
       "      <th>...</th>\n",
       "      <td>...</td>\n",
       "      <td>...</td>\n",
       "      <td>...</td>\n",
       "      <td>...</td>\n",
       "      <td>...</td>\n",
       "      <td>...</td>\n",
       "      <td>...</td>\n",
       "      <td>...</td>\n",
       "      <td>...</td>\n",
       "      <td>...</td>\n",
       "      <td>...</td>\n",
       "      <td>...</td>\n",
       "      <td>...</td>\n",
       "      <td>...</td>\n",
       "      <td>...</td>\n",
       "      <td>...</td>\n",
       "    </tr>\n",
       "    <tr>\n",
       "      <th>438</th>\n",
       "      <td>NaN</td>\n",
       "      <td>NaN</td>\n",
       "      <td>NaN</td>\n",
       "      <td>NaN</td>\n",
       "      <td>NaN</td>\n",
       "      <td>NaN</td>\n",
       "      <td>NaN</td>\n",
       "      <td>NaN</td>\n",
       "      <td>NaN</td>\n",
       "      <td>NaN</td>\n",
       "      <td>NaN</td>\n",
       "      <td>NaN</td>\n",
       "      <td>NaN</td>\n",
       "      <td>NaN</td>\n",
       "      <td>NaN</td>\n",
       "      <td>NaN</td>\n",
       "    </tr>\n",
       "    <tr>\n",
       "      <th>439</th>\n",
       "      <td>NaN</td>\n",
       "      <td>NaN</td>\n",
       "      <td>NaN</td>\n",
       "      <td>NaN</td>\n",
       "      <td>NaN</td>\n",
       "      <td>NaN</td>\n",
       "      <td>NaN</td>\n",
       "      <td>NaN</td>\n",
       "      <td>NaN</td>\n",
       "      <td>NaN</td>\n",
       "      <td>NaN</td>\n",
       "      <td>NaN</td>\n",
       "      <td>NaN</td>\n",
       "      <td>NaN</td>\n",
       "      <td>NaN</td>\n",
       "      <td>NaN</td>\n",
       "    </tr>\n",
       "    <tr>\n",
       "      <th>440</th>\n",
       "      <td>NaN</td>\n",
       "      <td>group by</td>\n",
       "      <td>1) data will split</td>\n",
       "      <td>NaN</td>\n",
       "      <td>NaN</td>\n",
       "      <td>NaN</td>\n",
       "      <td>NaN</td>\n",
       "      <td>NaN</td>\n",
       "      <td>NaN</td>\n",
       "      <td>NaN</td>\n",
       "      <td>NaN</td>\n",
       "      <td>NaN</td>\n",
       "      <td>NaN</td>\n",
       "      <td>NaN</td>\n",
       "      <td>NaN</td>\n",
       "      <td>NaN</td>\n",
       "    </tr>\n",
       "    <tr>\n",
       "      <th>441</th>\n",
       "      <td>NaN</td>\n",
       "      <td>NaN</td>\n",
       "      <td>2) apply the function mean(mpg)</td>\n",
       "      <td>NaN</td>\n",
       "      <td>NaN</td>\n",
       "      <td>NaN</td>\n",
       "      <td>NaN</td>\n",
       "      <td>NaN</td>\n",
       "      <td>NaN</td>\n",
       "      <td>NaN</td>\n",
       "      <td>NaN</td>\n",
       "      <td>NaN</td>\n",
       "      <td>NaN</td>\n",
       "      <td>NaN</td>\n",
       "      <td>NaN</td>\n",
       "      <td>NaN</td>\n",
       "    </tr>\n",
       "    <tr>\n",
       "      <th>442</th>\n",
       "      <td>NaN</td>\n",
       "      <td>NaN</td>\n",
       "      <td>3) combine</td>\n",
       "      <td>NaN</td>\n",
       "      <td>NaN</td>\n",
       "      <td>NaN</td>\n",
       "      <td>NaN</td>\n",
       "      <td>NaN</td>\n",
       "      <td>NaN</td>\n",
       "      <td>NaN</td>\n",
       "      <td>NaN</td>\n",
       "      <td>NaN</td>\n",
       "      <td>NaN</td>\n",
       "      <td>NaN</td>\n",
       "      <td>NaN</td>\n",
       "      <td>NaN</td>\n",
       "    </tr>\n",
       "  </tbody>\n",
       "</table>\n",
       "<p>443 rows × 16 columns</p>\n",
       "</div>"
      ],
      "text/plain": [
       "    name_of_car                    Model                             Type  \\\n",
       "0         Acura   NSX coupe 2dr manual S                           Sports   \n",
       "1         Acura  3.5 RL w/Navigation 4dr                            Sedan   \n",
       "2         Acura               3.5 RL 4dr                            Sedan   \n",
       "3         Acura                      MDX                              NaN   \n",
       "4         Acura                   TL 4dr                              NaN   \n",
       "..          ...                      ...                              ...   \n",
       "438         NaN                      NaN                              NaN   \n",
       "439         NaN                      NaN                              NaN   \n",
       "440         NaN                group by                1) data will split   \n",
       "441         NaN                      NaN  2) apply the function mean(mpg)   \n",
       "442         NaN                      NaN                       3) combine   \n",
       "\n",
       "    Origin DriveTrain      MSRP   Invoice  EngineSize  Cylinders  Horsepower  \\\n",
       "0     Asia       Rear  $89,765   $79,978          3.2        6.0       290.0   \n",
       "1     Asia      Front  $46,100   $41,100          3.5        6.0       225.0   \n",
       "2     Asia      Front  $43,755   $39,014          3.5        6.0       225.0   \n",
       "3     Asia        All  $36,945        NaN         3.5        6.0       265.0   \n",
       "4     Asia      Front  $33,195        NaN         3.2        6.0       270.0   \n",
       "..     ...        ...       ...       ...         ...        ...         ...   \n",
       "438    NaN        NaN       NaN       NaN         NaN        NaN         NaN   \n",
       "439    NaN        NaN       NaN       NaN         NaN        NaN         NaN   \n",
       "440    NaN        NaN       NaN       NaN         NaN        NaN         NaN   \n",
       "441    NaN        NaN       NaN       NaN         NaN        NaN         NaN   \n",
       "442    NaN        NaN       NaN       NaN         NaN        NaN         NaN   \n",
       "\n",
       "     MPG_City  MPG_Highway  Weight  Wheelbase  Length  Unnamed: 15  \n",
       "0        17.0         24.0  3153.0      100.0   174.0          NaN  \n",
       "1        18.0         24.0  3893.0      115.0   197.0          NaN  \n",
       "2        18.0         24.0  3880.0      115.0   197.0          NaN  \n",
       "3        17.0         23.0  4451.0      106.0   189.0          NaN  \n",
       "4        20.0         28.0  3575.0      108.0   186.0          NaN  \n",
       "..        ...          ...     ...        ...     ...          ...  \n",
       "438       NaN          NaN     NaN        NaN     NaN          NaN  \n",
       "439       NaN          NaN     NaN        NaN     NaN          NaN  \n",
       "440       NaN          NaN     NaN        NaN     NaN          NaN  \n",
       "441       NaN          NaN     NaN        NaN     NaN          NaN  \n",
       "442       NaN          NaN     NaN        NaN     NaN          NaN  \n",
       "\n",
       "[443 rows x 16 columns]"
      ]
     },
     "execution_count": 32,
     "metadata": {},
     "output_type": "execute_result"
    }
   ],
   "source": [
    "df"
   ]
  },
  {
   "cell_type": "code",
   "execution_count": 34,
   "id": "cb627219-22cc-46a3-8973-fac60edf4b7e",
   "metadata": {},
   "outputs": [],
   "source": [
    "type = pd.Series(df[\"Type\"])"
   ]
  },
  {
   "cell_type": "code",
   "execution_count": 36,
   "id": "ae2f2664-e944-4d08-b365-403e4c6c07ea",
   "metadata": {},
   "outputs": [
    {
     "data": {
      "text/plain": [
       "0                               Sports\n",
       "1                                Sedan\n",
       "2                                Sedan\n",
       "3                                  NaN\n",
       "4                                  NaN\n",
       "                    ...               \n",
       "438                                NaN\n",
       "439                                NaN\n",
       "440                 1) data will split\n",
       "441    2) apply the function mean(mpg)\n",
       "442                         3) combine\n",
       "Name: Type, Length: 443, dtype: object"
      ]
     },
     "execution_count": 36,
     "metadata": {},
     "output_type": "execute_result"
    }
   ],
   "source": [
    "type"
   ]
  },
  {
   "cell_type": "code",
   "execution_count": 38,
   "id": "da0a6fb2-3dfc-46d0-b799-9da961f28e25",
   "metadata": {},
   "outputs": [
    {
     "data": {
      "text/html": [
       "<div>\n",
       "<style scoped>\n",
       "    .dataframe tbody tr th:only-of-type {\n",
       "        vertical-align: middle;\n",
       "    }\n",
       "\n",
       "    .dataframe tbody tr th {\n",
       "        vertical-align: top;\n",
       "    }\n",
       "\n",
       "    .dataframe thead th {\n",
       "        text-align: right;\n",
       "    }\n",
       "</style>\n",
       "<table border=\"1\" class=\"dataframe\">\n",
       "  <thead>\n",
       "    <tr style=\"text-align: right;\">\n",
       "      <th></th>\n",
       "      <th>name_of_car</th>\n",
       "      <th>Model</th>\n",
       "      <th>Type</th>\n",
       "      <th>Origin</th>\n",
       "      <th>DriveTrain</th>\n",
       "      <th>MSRP</th>\n",
       "      <th>Invoice</th>\n",
       "      <th>EngineSize</th>\n",
       "      <th>Cylinders</th>\n",
       "      <th>Horsepower</th>\n",
       "      <th>MPG_City</th>\n",
       "      <th>MPG_Highway</th>\n",
       "      <th>Weight</th>\n",
       "      <th>Wheelbase</th>\n",
       "      <th>Length</th>\n",
       "      <th>Unnamed: 15</th>\n",
       "    </tr>\n",
       "  </thead>\n",
       "  <tbody>\n",
       "    <tr>\n",
       "      <th>0</th>\n",
       "      <td>Acura</td>\n",
       "      <td>NSX coupe 2dr manual S</td>\n",
       "      <td>Sports</td>\n",
       "      <td>Asia</td>\n",
       "      <td>Rear</td>\n",
       "      <td>$89,765</td>\n",
       "      <td>$79,978</td>\n",
       "      <td>3.2</td>\n",
       "      <td>6.0</td>\n",
       "      <td>290.0</td>\n",
       "      <td>17.0</td>\n",
       "      <td>24.0</td>\n",
       "      <td>3153.0</td>\n",
       "      <td>100.0</td>\n",
       "      <td>174.0</td>\n",
       "      <td>NaN</td>\n",
       "    </tr>\n",
       "    <tr>\n",
       "      <th>1</th>\n",
       "      <td>Acura</td>\n",
       "      <td>3.5 RL w/Navigation 4dr</td>\n",
       "      <td>Sedan</td>\n",
       "      <td>Asia</td>\n",
       "      <td>Front</td>\n",
       "      <td>$46,100</td>\n",
       "      <td>$41,100</td>\n",
       "      <td>3.5</td>\n",
       "      <td>6.0</td>\n",
       "      <td>225.0</td>\n",
       "      <td>18.0</td>\n",
       "      <td>24.0</td>\n",
       "      <td>3893.0</td>\n",
       "      <td>115.0</td>\n",
       "      <td>197.0</td>\n",
       "      <td>NaN</td>\n",
       "    </tr>\n",
       "    <tr>\n",
       "      <th>2</th>\n",
       "      <td>Acura</td>\n",
       "      <td>3.5 RL 4dr</td>\n",
       "      <td>Sedan</td>\n",
       "      <td>Asia</td>\n",
       "      <td>Front</td>\n",
       "      <td>$43,755</td>\n",
       "      <td>$39,014</td>\n",
       "      <td>3.5</td>\n",
       "      <td>6.0</td>\n",
       "      <td>225.0</td>\n",
       "      <td>18.0</td>\n",
       "      <td>24.0</td>\n",
       "      <td>3880.0</td>\n",
       "      <td>115.0</td>\n",
       "      <td>197.0</td>\n",
       "      <td>NaN</td>\n",
       "    </tr>\n",
       "    <tr>\n",
       "      <th>3</th>\n",
       "      <td>Acura</td>\n",
       "      <td>MDX</td>\n",
       "      <td>NaN</td>\n",
       "      <td>Asia</td>\n",
       "      <td>All</td>\n",
       "      <td>$36,945</td>\n",
       "      <td>NaN</td>\n",
       "      <td>3.5</td>\n",
       "      <td>6.0</td>\n",
       "      <td>265.0</td>\n",
       "      <td>17.0</td>\n",
       "      <td>23.0</td>\n",
       "      <td>4451.0</td>\n",
       "      <td>106.0</td>\n",
       "      <td>189.0</td>\n",
       "      <td>NaN</td>\n",
       "    </tr>\n",
       "    <tr>\n",
       "      <th>4</th>\n",
       "      <td>Acura</td>\n",
       "      <td>TL 4dr</td>\n",
       "      <td>NaN</td>\n",
       "      <td>Asia</td>\n",
       "      <td>Front</td>\n",
       "      <td>$33,195</td>\n",
       "      <td>NaN</td>\n",
       "      <td>3.2</td>\n",
       "      <td>6.0</td>\n",
       "      <td>270.0</td>\n",
       "      <td>20.0</td>\n",
       "      <td>28.0</td>\n",
       "      <td>3575.0</td>\n",
       "      <td>108.0</td>\n",
       "      <td>186.0</td>\n",
       "      <td>NaN</td>\n",
       "    </tr>\n",
       "  </tbody>\n",
       "</table>\n",
       "</div>"
      ],
      "text/plain": [
       "  name_of_car                    Model    Type Origin DriveTrain      MSRP  \\\n",
       "0       Acura   NSX coupe 2dr manual S  Sports   Asia       Rear  $89,765    \n",
       "1       Acura  3.5 RL w/Navigation 4dr   Sedan   Asia      Front  $46,100    \n",
       "2       Acura               3.5 RL 4dr   Sedan   Asia      Front  $43,755    \n",
       "3       Acura                      MDX     NaN   Asia        All  $36,945    \n",
       "4       Acura                   TL 4dr     NaN   Asia      Front  $33,195    \n",
       "\n",
       "    Invoice  EngineSize  Cylinders  Horsepower  MPG_City  MPG_Highway  Weight  \\\n",
       "0  $79,978          3.2        6.0       290.0      17.0         24.0  3153.0   \n",
       "1  $41,100          3.5        6.0       225.0      18.0         24.0  3893.0   \n",
       "2  $39,014          3.5        6.0       225.0      18.0         24.0  3880.0   \n",
       "3       NaN         3.5        6.0       265.0      17.0         23.0  4451.0   \n",
       "4       NaN         3.2        6.0       270.0      20.0         28.0  3575.0   \n",
       "\n",
       "   Wheelbase  Length  Unnamed: 15  \n",
       "0      100.0   174.0          NaN  \n",
       "1      115.0   197.0          NaN  \n",
       "2      115.0   197.0          NaN  \n",
       "3      106.0   189.0          NaN  \n",
       "4      108.0   186.0          NaN  "
      ]
     },
     "execution_count": 38,
     "metadata": {},
     "output_type": "execute_result"
    }
   ],
   "source": [
    "df.head()"
   ]
  },
  {
   "cell_type": "code",
   "execution_count": 40,
   "id": "5a9d338e-a226-4529-b2ff-e5eeb69ba35b",
   "metadata": {},
   "outputs": [
    {
     "data": {
      "text/html": [
       "<div>\n",
       "<style scoped>\n",
       "    .dataframe tbody tr th:only-of-type {\n",
       "        vertical-align: middle;\n",
       "    }\n",
       "\n",
       "    .dataframe tbody tr th {\n",
       "        vertical-align: top;\n",
       "    }\n",
       "\n",
       "    .dataframe thead th {\n",
       "        text-align: right;\n",
       "    }\n",
       "</style>\n",
       "<table border=\"1\" class=\"dataframe\">\n",
       "  <thead>\n",
       "    <tr style=\"text-align: right;\">\n",
       "      <th></th>\n",
       "      <th>name_of_car</th>\n",
       "      <th>Model</th>\n",
       "      <th>Type</th>\n",
       "      <th>Origin</th>\n",
       "      <th>DriveTrain</th>\n",
       "      <th>MSRP</th>\n",
       "      <th>Invoice</th>\n",
       "      <th>EngineSize</th>\n",
       "      <th>Cylinders</th>\n",
       "      <th>Horsepower</th>\n",
       "      <th>MPG_City</th>\n",
       "      <th>MPG_Highway</th>\n",
       "      <th>Weight</th>\n",
       "      <th>Wheelbase</th>\n",
       "      <th>Length</th>\n",
       "      <th>Unnamed: 15</th>\n",
       "    </tr>\n",
       "  </thead>\n",
       "  <tbody>\n",
       "    <tr>\n",
       "      <th>438</th>\n",
       "      <td>NaN</td>\n",
       "      <td>NaN</td>\n",
       "      <td>NaN</td>\n",
       "      <td>NaN</td>\n",
       "      <td>NaN</td>\n",
       "      <td>NaN</td>\n",
       "      <td>NaN</td>\n",
       "      <td>NaN</td>\n",
       "      <td>NaN</td>\n",
       "      <td>NaN</td>\n",
       "      <td>NaN</td>\n",
       "      <td>NaN</td>\n",
       "      <td>NaN</td>\n",
       "      <td>NaN</td>\n",
       "      <td>NaN</td>\n",
       "      <td>NaN</td>\n",
       "    </tr>\n",
       "    <tr>\n",
       "      <th>439</th>\n",
       "      <td>NaN</td>\n",
       "      <td>NaN</td>\n",
       "      <td>NaN</td>\n",
       "      <td>NaN</td>\n",
       "      <td>NaN</td>\n",
       "      <td>NaN</td>\n",
       "      <td>NaN</td>\n",
       "      <td>NaN</td>\n",
       "      <td>NaN</td>\n",
       "      <td>NaN</td>\n",
       "      <td>NaN</td>\n",
       "      <td>NaN</td>\n",
       "      <td>NaN</td>\n",
       "      <td>NaN</td>\n",
       "      <td>NaN</td>\n",
       "      <td>NaN</td>\n",
       "    </tr>\n",
       "    <tr>\n",
       "      <th>440</th>\n",
       "      <td>NaN</td>\n",
       "      <td>group by</td>\n",
       "      <td>1) data will split</td>\n",
       "      <td>NaN</td>\n",
       "      <td>NaN</td>\n",
       "      <td>NaN</td>\n",
       "      <td>NaN</td>\n",
       "      <td>NaN</td>\n",
       "      <td>NaN</td>\n",
       "      <td>NaN</td>\n",
       "      <td>NaN</td>\n",
       "      <td>NaN</td>\n",
       "      <td>NaN</td>\n",
       "      <td>NaN</td>\n",
       "      <td>NaN</td>\n",
       "      <td>NaN</td>\n",
       "    </tr>\n",
       "    <tr>\n",
       "      <th>441</th>\n",
       "      <td>NaN</td>\n",
       "      <td>NaN</td>\n",
       "      <td>2) apply the function mean(mpg)</td>\n",
       "      <td>NaN</td>\n",
       "      <td>NaN</td>\n",
       "      <td>NaN</td>\n",
       "      <td>NaN</td>\n",
       "      <td>NaN</td>\n",
       "      <td>NaN</td>\n",
       "      <td>NaN</td>\n",
       "      <td>NaN</td>\n",
       "      <td>NaN</td>\n",
       "      <td>NaN</td>\n",
       "      <td>NaN</td>\n",
       "      <td>NaN</td>\n",
       "      <td>NaN</td>\n",
       "    </tr>\n",
       "    <tr>\n",
       "      <th>442</th>\n",
       "      <td>NaN</td>\n",
       "      <td>NaN</td>\n",
       "      <td>3) combine</td>\n",
       "      <td>NaN</td>\n",
       "      <td>NaN</td>\n",
       "      <td>NaN</td>\n",
       "      <td>NaN</td>\n",
       "      <td>NaN</td>\n",
       "      <td>NaN</td>\n",
       "      <td>NaN</td>\n",
       "      <td>NaN</td>\n",
       "      <td>NaN</td>\n",
       "      <td>NaN</td>\n",
       "      <td>NaN</td>\n",
       "      <td>NaN</td>\n",
       "      <td>NaN</td>\n",
       "    </tr>\n",
       "  </tbody>\n",
       "</table>\n",
       "</div>"
      ],
      "text/plain": [
       "    name_of_car      Model                             Type Origin DriveTrain  \\\n",
       "438         NaN        NaN                              NaN    NaN        NaN   \n",
       "439         NaN        NaN                              NaN    NaN        NaN   \n",
       "440         NaN  group by                1) data will split    NaN        NaN   \n",
       "441         NaN        NaN  2) apply the function mean(mpg)    NaN        NaN   \n",
       "442         NaN        NaN                       3) combine    NaN        NaN   \n",
       "\n",
       "    MSRP Invoice  EngineSize  Cylinders  Horsepower  MPG_City  MPG_Highway  \\\n",
       "438  NaN     NaN         NaN        NaN         NaN       NaN          NaN   \n",
       "439  NaN     NaN         NaN        NaN         NaN       NaN          NaN   \n",
       "440  NaN     NaN         NaN        NaN         NaN       NaN          NaN   \n",
       "441  NaN     NaN         NaN        NaN         NaN       NaN          NaN   \n",
       "442  NaN     NaN         NaN        NaN         NaN       NaN          NaN   \n",
       "\n",
       "     Weight  Wheelbase  Length  Unnamed: 15  \n",
       "438     NaN        NaN     NaN          NaN  \n",
       "439     NaN        NaN     NaN          NaN  \n",
       "440     NaN        NaN     NaN          NaN  \n",
       "441     NaN        NaN     NaN          NaN  \n",
       "442     NaN        NaN     NaN          NaN  "
      ]
     },
     "execution_count": 40,
     "metadata": {},
     "output_type": "execute_result"
    }
   ],
   "source": [
    "df.tail()"
   ]
  },
  {
   "cell_type": "code",
   "execution_count": 42,
   "id": "f0971b62-0099-4eda-a47d-d569291cfdbe",
   "metadata": {},
   "outputs": [
    {
     "data": {
      "text/html": [
       "<div>\n",
       "<style scoped>\n",
       "    .dataframe tbody tr th:only-of-type {\n",
       "        vertical-align: middle;\n",
       "    }\n",
       "\n",
       "    .dataframe tbody tr th {\n",
       "        vertical-align: top;\n",
       "    }\n",
       "\n",
       "    .dataframe thead th {\n",
       "        text-align: right;\n",
       "    }\n",
       "</style>\n",
       "<table border=\"1\" class=\"dataframe\">\n",
       "  <thead>\n",
       "    <tr style=\"text-align: right;\">\n",
       "      <th></th>\n",
       "      <th>EngineSize</th>\n",
       "      <th>Cylinders</th>\n",
       "      <th>Horsepower</th>\n",
       "      <th>MPG_City</th>\n",
       "      <th>MPG_Highway</th>\n",
       "      <th>Weight</th>\n",
       "      <th>Wheelbase</th>\n",
       "      <th>Length</th>\n",
       "      <th>Unnamed: 15</th>\n",
       "    </tr>\n",
       "  </thead>\n",
       "  <tbody>\n",
       "    <tr>\n",
       "      <th>count</th>\n",
       "      <td>428.000000</td>\n",
       "      <td>426.000000</td>\n",
       "      <td>343.000000</td>\n",
       "      <td>428.000000</td>\n",
       "      <td>428.000000</td>\n",
       "      <td>428.000000</td>\n",
       "      <td>428.000000</td>\n",
       "      <td>428.000000</td>\n",
       "      <td>2.000000e+00</td>\n",
       "    </tr>\n",
       "    <tr>\n",
       "      <th>mean</th>\n",
       "      <td>3.196729</td>\n",
       "      <td>5.807512</td>\n",
       "      <td>210.915452</td>\n",
       "      <td>20.060748</td>\n",
       "      <td>26.843458</td>\n",
       "      <td>3577.953271</td>\n",
       "      <td>108.154206</td>\n",
       "      <td>186.362150</td>\n",
       "      <td>2.935740e+06</td>\n",
       "    </tr>\n",
       "    <tr>\n",
       "      <th>std</th>\n",
       "      <td>1.108595</td>\n",
       "      <td>1.558443</td>\n",
       "      <td>72.530948</td>\n",
       "      <td>5.238218</td>\n",
       "      <td>5.741201</td>\n",
       "      <td>758.983215</td>\n",
       "      <td>8.311813</td>\n",
       "      <td>14.357991</td>\n",
       "      <td>4.149231e+06</td>\n",
       "    </tr>\n",
       "    <tr>\n",
       "      <th>min</th>\n",
       "      <td>1.300000</td>\n",
       "      <td>3.000000</td>\n",
       "      <td>73.000000</td>\n",
       "      <td>10.000000</td>\n",
       "      <td>12.000000</td>\n",
       "      <td>1850.000000</td>\n",
       "      <td>89.000000</td>\n",
       "      <td>143.000000</td>\n",
       "      <td>1.790000e+03</td>\n",
       "    </tr>\n",
       "    <tr>\n",
       "      <th>25%</th>\n",
       "      <td>2.375000</td>\n",
       "      <td>4.000000</td>\n",
       "      <td>158.500000</td>\n",
       "      <td>17.000000</td>\n",
       "      <td>24.000000</td>\n",
       "      <td>3104.000000</td>\n",
       "      <td>103.000000</td>\n",
       "      <td>178.000000</td>\n",
       "      <td>1.468765e+06</td>\n",
       "    </tr>\n",
       "    <tr>\n",
       "      <th>50%</th>\n",
       "      <td>3.000000</td>\n",
       "      <td>6.000000</td>\n",
       "      <td>208.000000</td>\n",
       "      <td>19.000000</td>\n",
       "      <td>26.000000</td>\n",
       "      <td>3474.500000</td>\n",
       "      <td>107.000000</td>\n",
       "      <td>187.000000</td>\n",
       "      <td>2.935740e+06</td>\n",
       "    </tr>\n",
       "    <tr>\n",
       "      <th>75%</th>\n",
       "      <td>3.900000</td>\n",
       "      <td>6.000000</td>\n",
       "      <td>245.000000</td>\n",
       "      <td>21.250000</td>\n",
       "      <td>29.000000</td>\n",
       "      <td>3977.750000</td>\n",
       "      <td>112.000000</td>\n",
       "      <td>194.000000</td>\n",
       "      <td>4.402714e+06</td>\n",
       "    </tr>\n",
       "    <tr>\n",
       "      <th>max</th>\n",
       "      <td>8.300000</td>\n",
       "      <td>12.000000</td>\n",
       "      <td>500.000000</td>\n",
       "      <td>60.000000</td>\n",
       "      <td>66.000000</td>\n",
       "      <td>7190.000000</td>\n",
       "      <td>144.000000</td>\n",
       "      <td>238.000000</td>\n",
       "      <td>5.869689e+06</td>\n",
       "    </tr>\n",
       "  </tbody>\n",
       "</table>\n",
       "</div>"
      ],
      "text/plain": [
       "       EngineSize   Cylinders  Horsepower    MPG_City  MPG_Highway  \\\n",
       "count  428.000000  426.000000  343.000000  428.000000   428.000000   \n",
       "mean     3.196729    5.807512  210.915452   20.060748    26.843458   \n",
       "std      1.108595    1.558443   72.530948    5.238218     5.741201   \n",
       "min      1.300000    3.000000   73.000000   10.000000    12.000000   \n",
       "25%      2.375000    4.000000  158.500000   17.000000    24.000000   \n",
       "50%      3.000000    6.000000  208.000000   19.000000    26.000000   \n",
       "75%      3.900000    6.000000  245.000000   21.250000    29.000000   \n",
       "max      8.300000   12.000000  500.000000   60.000000    66.000000   \n",
       "\n",
       "            Weight   Wheelbase      Length   Unnamed: 15  \n",
       "count   428.000000  428.000000  428.000000  2.000000e+00  \n",
       "mean   3577.953271  108.154206  186.362150  2.935740e+06  \n",
       "std     758.983215    8.311813   14.357991  4.149231e+06  \n",
       "min    1850.000000   89.000000  143.000000  1.790000e+03  \n",
       "25%    3104.000000  103.000000  178.000000  1.468765e+06  \n",
       "50%    3474.500000  107.000000  187.000000  2.935740e+06  \n",
       "75%    3977.750000  112.000000  194.000000  4.402714e+06  \n",
       "max    7190.000000  144.000000  238.000000  5.869689e+06  "
      ]
     },
     "execution_count": 42,
     "metadata": {},
     "output_type": "execute_result"
    }
   ],
   "source": [
    "df.describe()"
   ]
  },
  {
   "cell_type": "markdown",
   "id": "ba67db86-99d1-46a4-8caf-1a518e2b9e34",
   "metadata": {},
   "source": [
    "## Matplotlib"
   ]
  },
  {
   "cell_type": "code",
   "execution_count": 47,
   "id": "9f005bdd-8aad-4eeb-8cc2-e981a5840644",
   "metadata": {},
   "outputs": [
    {
     "data": {
      "text/plain": [
       "Index(['name_of_car', 'Model', 'Type', 'Origin', 'DriveTrain', 'MSRP',\n",
       "       'Invoice', 'EngineSize', 'Cylinders', 'Horsepower', 'MPG_City',\n",
       "       'MPG_Highway', 'Weight', 'Wheelbase', 'Length', 'Unnamed: 15'],\n",
       "      dtype='object')"
      ]
     },
     "execution_count": 47,
     "metadata": {},
     "output_type": "execute_result"
    }
   ],
   "source": [
    "df.columns"
   ]
  },
  {
   "cell_type": "code",
   "execution_count": 49,
   "id": "f382d072-f5b0-489c-af51-378a6b1021e0",
   "metadata": {},
   "outputs": [],
   "source": [
    "import matplotlib.pyplot as plt"
   ]
  },
  {
   "cell_type": "code",
   "execution_count": 51,
   "id": "51f74a5b-e0fd-4977-ac7b-89391a3734ff",
   "metadata": {},
   "outputs": [],
   "source": [
    "import pandas as pd"
   ]
  },
  {
   "cell_type": "code",
   "execution_count": 61,
   "id": "960aca59-18da-4fbd-8439-ab0f20db7c5b",
   "metadata": {},
   "outputs": [
    {
     "data": {
      "text/plain": [
       "<matplotlib.legend.Legend at 0x28f46208920>"
      ]
     },
     "execution_count": 61,
     "metadata": {},
     "output_type": "execute_result"
    },
    {
     "data": {
      "image/png": "[encoded data removed]",
      "text/plain": [
       "<Figure size 640x480 with 1 Axes>"
      ]
     },
     "metadata": {},
     "output_type": "display_data"
    }
   ],
   "source": [
    "plt.plot(df['EngineSize'],df[ 'Cylinders'],marker='s',label=\"Total\")\n",
    "plt.legend()"
   ]
  },
  {
   "cell_type": "code",
   "execution_count": null,
   "id": "fc460151-5e0e-42e3-bb57-61358c6d30ab",
   "metadata": {},
   "outputs": [],
   "source": []
  }
 ],
 "metadata": {
  "kernelspec": {
   "display_name": "Python 3 (ipykernel)",
   "language": "python",
   "name": "python3"
  },
  "language_info": {
   "codemirror_mode": {
    "name": "ipython",
    "version": 3
   },
   "file_extension": ".py",
   "mimetype": "text/x-python",
   "name": "python",
   "nbconvert_exporter": "python",
   "pygments_lexer": "ipython3",
   "version": "3.12.4"
  }
 },
 "nbformat": 4,
 "nbformat_minor": 5
}
